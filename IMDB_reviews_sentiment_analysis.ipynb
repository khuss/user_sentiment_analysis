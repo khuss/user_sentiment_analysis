{
 "cells": [
  {
   "cell_type": "markdown",
   "metadata": {},
   "source": [
    "# 0 - Imports"
   ]
  },
  {
   "cell_type": "code",
   "execution_count": 2,
   "metadata": {
    "id": "KrqI0PZd9L2V"
   },
   "outputs": [],
   "source": [
    "import tensorflow as tf\n",
    "from tensorflow.keras import models, layers\n",
    "import tensorflow_datasets as tfds\n",
    "import tensorflow_hub as hub\n",
    "import matplotlib.pyplot as plt\n",
    "import numpy as np\n",
    "import random\n",
    "\n",
    "from sklearn.naive_bayes import GaussianNB\n",
    "from scipy.spatial import distance\n",
    "from utils import index_sequence_to_string, multi_hot_to_text, render_history, compare_histories, decode"
   ]
  },
  {
   "cell_type": "markdown",
   "metadata": {},
   "source": [
    "# 1 - Dataset"
   ]
  },
  {
   "cell_type": "markdown",
   "metadata": {},
   "source": [
    "## 1.1 - Download"
   ]
  },
  {
   "cell_type": "code",
   "execution_count": 3,
   "metadata": {
    "colab": {
     "base_uri": "https://localhost:8080/",
     "height": 849,
     "referenced_widgets": [
      "507b18fa9b4a4c2d960d057c61cae508",
      "c029736cbff942d1b0aea2587c6dccd0",
      "2ba325e85188430ba68acfd5f3964007",
      "db246cc373d04f56ab36d8665ba2c7dd",
      "9a4766797b474e2b8b830864eb42bf7b",
      "7427eb63a3194351909e629b8facd91a",
      "851fa41240634cbbb637b5aae483c452",
      "36c87564527b48a286afc09164d17d1c",
      "099e54107a2941ad942672ad7723e6af",
      "bac090f353254027a2d248e18b200040",
      "bd5b415eed9e45b2bfdef89506d4952a",
      "1f52e8f242514fb9b86463e68e0b68a2",
      "636e48a683294410b977c207fad03146",
      "3d33054ca4394e6bad1296e1578fa659",
      "59990537c05a4d2c8f68131a10f2244f",
      "06330243516148a4b0e7b277d903d2ab",
      "13136ef32ac04675ad52d01141cfa98a",
      "a228c34bb0414a0387af5a7d4c8917f9",
      "9189bbbc7be941d9a4e6040de550604c",
      "cbb9a91e7dc5485c8db503281e2b3779",
      "11f3b430d7a5493daa5daee39082db3f",
      "4d082e973d0c4560bfba150feb8a5d3f",
      "82bcad4b914a49e9988cf3960a3ead80",
      "4ec20addfacc4492af2684f36917b1d9",
      "409517f8912548b8a0ac339fb85e5b10",
      "3ab99d7b270f47c1b47afd4a6cc09091",
      "589844772d794a2bae95400f1464ef94",
      "0fabe39de5e442f9a0d5d6f6eac98e7d",
      "2eb05798922a4dc09aae48135854b85c",
      "ba2300d36a9d4d88b961b4f3f992b1ec",
      "068ae52c7363435ea9187278f72603ea",
      "3daab7ae0a204f0c9abe0936e6c56d41",
      "8206e4dfaea445e5ac20b15b12e0a91b",
      "0f9ca0a87a884f0b89bb4507b9485b55",
      "f932950de55c433a907a5dc0c39af2a9",
      "5ca31b665723440191085aa690b0e40d",
      "1410b2861f494cc489f7dc7b14af4a70",
      "d839a2581d7b4b26952e85ef81d10a18",
      "202f7585642c44e7a31ae9d8d53f8a6c",
      "9b1f9e4f5d8b43608b4313d0c33deade",
      "4266bac55003409eab9f9d2f88367def",
      "986313dc583c41819bdf06bceda97a59",
      "db8c65507c6b4f04949e33ab0957b0ed",
      "97ee0c1a30a44d2eabe33babc5b61cd1",
      "392ac33870c842a9969e078fa9901a20",
      "bd32eb6802554e7281c28d920d235784",
      "d2f9ce3e1aa84672875312da8bdc53bd",
      "b9719bdaeadc4d60ace6d64ab1f02c67",
      "ad3567aa64fb4a8bb4a2c668dec94a0e",
      "acde9d2a3904445a84f6d8b863331962",
      "16267ba3654940ae8eeeb50012586599",
      "bf64a7a8e09343959f725325a9957880",
      "2f1ab18c772e41198dc17da1db02243d",
      "4f6a20b1280a448199973b705af56435",
      "8c618ec3e19b457281ae7f420a8d9b43",
      "f3cde77392ee45d89ccf8c2ea85bd8e1",
      "7169fe5bca8643d9a23ff47070d37450",
      "bba753fa69914bb599d6c8c9bb66d30c",
      "c4f4c4c7326a43e4b32d15f9784723c9",
      "5ad54bf53fb54c1ca1a9cb7a30af5d6f",
      "127d269a2ad4464e8a7306312dd4b871",
      "06f0c42dbf5e4c2ea6fa78edce07fe5c",
      "6fd0d2f9bb554c9488116b0e942e3dc2",
      "8a54ff0605b24c9dad34cec352664dcb",
      "3bef739e0fae4935a4912918b89759db",
      "8b8958abdd1b4b18a9129e4a23889914",
      "2bcaf4ccab834eaaad22050db79fab76",
      "bfbc927e9a504c8aac68fe53457738f1",
      "f9f55866c2054d61b8939c5703bfa40f",
      "666a4e99868f4abfb13466d40375d1db",
      "1d938a1f4adb48598c5ffb79e627d85a",
      "c5b0e973c0dd46f6bb0f7e53b566a102",
      "59152d91e90344c99b1001a1cb8a53b2",
      "452b7401cb844142b9ae86dde4f58a27",
      "f1a742553eeb4a7ea4eac8b5be86fcc3",
      "a94d5f1301ba4939b8647715c4e8189b",
      "00143cf5fdbe4fa0a7d6cb36f4f6a471",
      "6f06d0bcae454ec6a7a3dcebedcbf9a0",
      "d801270b9907491ba86a2739809b9878",
      "35eeb94323b44c82aefd883506320e4d",
      "ff22dafa3a174631b5967c9196c1cf3e",
      "bf5cae6685994ff0bf04fa77cd96a494",
      "bd49120620104edd9ca1c26649fe732b",
      "ca1b7f8bdf61474d860dd3281d09a75c",
      "48be6a118fa84d27ac873c49144fa347",
      "2d6f9bcaa7f54e4289e9a5c8b90d0058",
      "e8e68573c80e445db30aad7017e096e1",
      "f8488f01b00245efbf996451f0657827",
      "c79b2e7dee1742359854d9be69f91aa4",
      "c2be01ccf2364f2cab6cc9dfe759ff5d",
      "3750dcbf50a3443aabdc5dfa867d9330",
      "40d853da9c594f40ae5dff0fa976b977",
      "bc58c0bb341f4b9a995b381da82ebed9",
      "45bbc2ccbb17434c81e5fe5f8dc0ae3b",
      "97b7a208e6ba4dd2811987d8330be33e",
      "2c9831f46e1146a4bab2bc610f84948c",
      "d667961eba8a4ab493cf36d890a98fc3",
      "a6e7b07c428a4d4bb9813a323c1d18ca",
      "4f54fd421b484e0e8abf2914d96d57d4"
     ]
    },
    "id": "MvNcMogvAGcr",
    "outputId": "9e57ead3-6872-416b-fe2e-a12d33cc301d"
   },
   "outputs": [
    {
     "name": "stdout",
     "output_type": "stream",
     "text": [
      "Downloading and preparing dataset 80.23 MiB (download: 80.23 MiB, generated: Unknown size, total: 80.23 MiB) to /root/tensorflow_datasets/imdb_reviews/plain_text/1.0.0...\n"
     ]
    },
    {
     "data": {
      "application/vnd.jupyter.widget-view+json": {
       "model_id": "507b18fa9b4a4c2d960d057c61cae508",
       "version_major": 2,
       "version_minor": 0
      },
      "text/plain": [
       "Dl Completed...: 0 url [00:00, ? url/s]"
      ]
     },
     "metadata": {},
     "output_type": "display_data"
    },
    {
     "data": {
      "application/vnd.jupyter.widget-view+json": {
       "model_id": "1f52e8f242514fb9b86463e68e0b68a2",
       "version_major": 2,
       "version_minor": 0
      },
      "text/plain": [
       "Dl Size...: 0 MiB [00:00, ? MiB/s]"
      ]
     },
     "metadata": {},
     "output_type": "display_data"
    },
    {
     "data": {
      "application/vnd.jupyter.widget-view+json": {
       "model_id": "82bcad4b914a49e9988cf3960a3ead80",
       "version_major": 2,
       "version_minor": 0
      },
      "text/plain": [
       "Generating splits...:   0%|          | 0/3 [00:00<?, ? splits/s]"
      ]
     },
     "metadata": {},
     "output_type": "display_data"
    },
    {
     "data": {
      "application/vnd.jupyter.widget-view+json": {
       "model_id": "0f9ca0a87a884f0b89bb4507b9485b55",
       "version_major": 2,
       "version_minor": 0
      },
      "text/plain": [
       "Generating train examples...:   0%|          | 0/25000 [00:00<?, ? examples/s]"
      ]
     },
     "metadata": {},
     "output_type": "display_data"
    },
    {
     "data": {
      "application/vnd.jupyter.widget-view+json": {
       "model_id": "392ac33870c842a9969e078fa9901a20",
       "version_major": 2,
       "version_minor": 0
      },
      "text/plain": [
       "Shuffling /root/tensorflow_datasets/imdb_reviews/plain_text/1.0.0.incomplete0QQDNM/imdb_reviews-train.tfrecord…"
      ]
     },
     "metadata": {},
     "output_type": "display_data"
    },
    {
     "data": {
      "application/vnd.jupyter.widget-view+json": {
       "model_id": "f3cde77392ee45d89ccf8c2ea85bd8e1",
       "version_major": 2,
       "version_minor": 0
      },
      "text/plain": [
       "Generating test examples...:   0%|          | 0/25000 [00:00<?, ? examples/s]"
      ]
     },
     "metadata": {},
     "output_type": "display_data"
    },
    {
     "data": {
      "application/vnd.jupyter.widget-view+json": {
       "model_id": "2bcaf4ccab834eaaad22050db79fab76",
       "version_major": 2,
       "version_minor": 0
      },
      "text/plain": [
       "Shuffling /root/tensorflow_datasets/imdb_reviews/plain_text/1.0.0.incomplete0QQDNM/imdb_reviews-test.tfrecord*…"
      ]
     },
     "metadata": {},
     "output_type": "display_data"
    },
    {
     "data": {
      "application/vnd.jupyter.widget-view+json": {
       "model_id": "6f06d0bcae454ec6a7a3dcebedcbf9a0",
       "version_major": 2,
       "version_minor": 0
      },
      "text/plain": [
       "Generating unsupervised examples...:   0%|          | 0/50000 [00:00<?, ? examples/s]"
      ]
     },
     "metadata": {},
     "output_type": "display_data"
    },
    {
     "data": {
      "application/vnd.jupyter.widget-view+json": {
       "model_id": "c79b2e7dee1742359854d9be69f91aa4",
       "version_major": 2,
       "version_minor": 0
      },
      "text/plain": [
       "Shuffling /root/tensorflow_datasets/imdb_reviews/plain_text/1.0.0.incomplete0QQDNM/imdb_reviews-unsupervised.t…"
      ]
     },
     "metadata": {},
     "output_type": "display_data"
    },
    {
     "name": "stdout",
     "output_type": "stream",
     "text": [
      "Dataset imdb_reviews downloaded and prepared to /root/tensorflow_datasets/imdb_reviews/plain_text/1.0.0. Subsequent calls will reuse this data.\n"
     ]
    },
    {
     "data": {
      "text/plain": [
       "tfds.core.DatasetInfo(\n",
       "    name='imdb_reviews',\n",
       "    full_name='imdb_reviews/plain_text/1.0.0',\n",
       "    description=\"\"\"\n",
       "    Large Movie Review Dataset. This is a dataset for binary sentiment\n",
       "    classification containing substantially more data than previous benchmark\n",
       "    datasets. We provide a set of 25,000 highly polar movie reviews for training,\n",
       "    and 25,000 for testing. There is additional unlabeled data for use as well.\n",
       "    \"\"\",\n",
       "    config_description=\"\"\"\n",
       "    Plain text\n",
       "    \"\"\",\n",
       "    homepage='http://ai.stanford.edu/~amaas/data/sentiment/',\n",
       "    data_dir=PosixGPath('/tmp/tmpis4_jdk1tfds'),\n",
       "    file_format=tfrecord,\n",
       "    download_size=80.23 MiB,\n",
       "    dataset_size=129.83 MiB,\n",
       "    features=FeaturesDict({\n",
       "        'label': ClassLabel(shape=(), dtype=int64, num_classes=2),\n",
       "        'text': Text(shape=(), dtype=string),\n",
       "    }),\n",
       "    supervised_keys=('text', 'label'),\n",
       "    disable_shuffling=False,\n",
       "    splits={\n",
       "        'test': <SplitInfo num_examples=25000, num_shards=1>,\n",
       "        'train': <SplitInfo num_examples=25000, num_shards=1>,\n",
       "        'unsupervised': <SplitInfo num_examples=50000, num_shards=1>,\n",
       "    },\n",
       "    citation=\"\"\"@InProceedings{maas-EtAl:2011:ACL-HLT2011,\n",
       "      author    = {Maas, Andrew L.  and  Daly, Raymond E.  and  Pham, Peter T.  and  Huang, Dan  and  Ng, Andrew Y.  and  Potts, Christopher},\n",
       "      title     = {Learning Word Vectors for Sentiment Analysis},\n",
       "      booktitle = {Proceedings of the 49th Annual Meeting of the Association for Computational Linguistics: Human Language Technologies},\n",
       "      month     = {June},\n",
       "      year      = {2011},\n",
       "      address   = {Portland, Oregon, USA},\n",
       "      publisher = {Association for Computational Linguistics},\n",
       "      pages     = {142--150},\n",
       "      url       = {http://www.aclweb.org/anthology/P11-1015}\n",
       "    }\"\"\",\n",
       ")"
      ]
     },
     "execution_count": 3,
     "metadata": {},
     "output_type": "execute_result"
    }
   ],
   "source": [
    "dataset, info = tfds.load(\n",
    "    'imdb_reviews/plain_text',\n",
    "    split=['train[:80%]','train[80%:]','test'],\n",
    "    as_supervised=True,\n",
    "    with_info=True\n",
    ")\n",
    "dataset_train_original = dataset[0]\n",
    "dataset_validate_original = dataset[1]\n",
    "dataset_test_original = dataset[2]\n",
    "info"
   ]
  },
  {
   "cell_type": "markdown",
   "metadata": {},
   "source": [
    "## 1.2 - Quick look"
   ]
  },
  {
   "cell_type": "code",
   "execution_count": 4,
   "metadata": {
    "colab": {
     "base_uri": "https://localhost:8080/"
    },
    "id": "NdcQI5xCC672",
    "outputId": "3be8c103-fe00-431a-d929-36f2e2889e47"
   },
   "outputs": [
    {
     "name": "stdout",
     "output_type": "stream",
     "text": [
      "This was an absolutely terrible movie. Don't be lured in by Christopher Walken or Michael Ironside. Both are great actors, but this must simply be their worst role in history. Even their great acting could not redeem this movie's ridiculous storyline. This movie is an early nineties US propaganda piece. The most pathetic scenes were those when the Columbian rebels were making their cases for revolutions. Maria Conchita Alonso appeared phony, and her pseudo-love affair with Walken was nothing but a pathetic emotional plug in a movie that was devoid of any real meaning. I am disappointed that there are movies like this, ruining actor's like Christopher Walken's good name. I could barely sit through it.\n",
      "0\n",
      "\n",
      "I have been known to fall asleep during films, but this is usually due to a combination of things including, really tired, being warm and comfortable on the sette and having just eaten a lot. However on this occasion I fell asleep because the film was rubbish. The plot development was constant. Constantly slow and boring. Things seemed to happen, but with no explanation of what was causing them or why. I admit, I may have missed part of the film, but i watched the majority of it and everything just seemed to happen of its own accord without any real concern for anything else. I cant recommend this film at all.\n",
      "0\n",
      "\n",
      "Mann photographs the Alberta Rocky Mountains in a superb fashion, and Jimmy Stewart and Walter Brennan give enjoyable performances as they always seem to do. <br /><br />But come on Hollywood - a Mountie telling the people of Dawson City, Yukon to elect themselves a marshal (yes a marshal!) and to enforce the law themselves, then gunfighters battling it out on the streets for control of the town? <br /><br />Nothing even remotely resembling that happened on the Canadian side of the border during the Klondike gold rush. Mr. Mann and company appear to have mistaken Dawson City for Deadwood, the Canadian North for the American Wild West.<br /><br />Canadian viewers be prepared for a Reefer Madness type of enjoyable howl with this ludicrous plot, or, to shake your head in disgust.\n",
      "0\n",
      "\n",
      "This is the kind of film for a snowy Sunday afternoon when the rest of the world can go ahead with its own business as you descend into a big arm-chair and mellow for a couple of hours. Wonderful performances from Cher and Nicolas Cage (as always) gently row the plot along. There are no rapids to cross, no dangerous waters, just a warm and witty paddle through New York life at its best. A family film in every sense and one that deserves the praise it received.\n",
      "1\n",
      "\n",
      "As others have mentioned, all the women that go nude in this film are mostly absolutely gorgeous. The plot very ably shows the hypocrisy of the female libido. When men are around they want to be pursued, but when no \"men\" are around, they become the pursuers of a 14 year old boy. And the boy becomes a man really fast (we should all be so lucky at this age!). He then gets up the courage to pursue his true love.\n",
      "1\n",
      "\n",
      "This is a film which should be seen by anybody interested in, effected by, or suffering from an eating disorder. It is an amazingly accurate and sensitive portrayal of bulimia in a teenage girl, its causes and its symptoms. The girl is played by one of the most brilliant young actresses working in cinema today, Alison Lohman, who was later so spectacular in 'Where the Truth Lies'. I would recommend that this film be shown in all schools, as you will never see a better on this subject. Alison Lohman is absolutely outstanding, and one marvels at her ability to convey the anguish of a girl suffering from this compulsive disorder. If barometers tell us the air pressure, Alison Lohman tells us the emotional pressure with the same degree of accuracy. Her emotional range is so precise, each scene could be measured microscopically for its gradations of trauma, on a scale of rising hysteria and desperation which reaches unbearable intensity. Mare Winningham is the perfect choice to play her mother, and does so with immense sympathy and a range of emotions just as finely tuned as Lohman's. Together, they make a pair of sensitive emotional oscillators vibrating in resonance with one another. This film is really an astonishing achievement, and director Katt Shea should be proud of it. The only reason for not seeing it is if you are not interested in people. But even if you like nature films best, this is after all animal behaviour at the sharp edge. Bulimia is an extreme version of how a tormented soul can destroy her own body in a frenzy of despair. And if we don't sympathise with people suffering from the depths of despair, then we are dead inside.\n",
      "1\n",
      "\n",
      "Okay, you have:<br /><br />Penelope Keith as Miss Herringbone-Tweed, B.B.E. (Backbone of England.) She's killed off in the first scene - that's right, folks; this show has no backbone!<br /><br />Peter O'Toole as Ol' Colonel Cricket from The First War and now the emblazered Lord of the Manor.<br /><br />Joanna Lumley as the ensweatered Lady of the Manor, 20 years younger than the colonel and 20 years past her own prime but still glamourous (Brit spelling, not mine) enough to have a toy-boy on the side. It's alright, they have Col. Cricket's full knowledge and consent (they guy even comes 'round for Christmas!) Still, she's considerate of the colonel enough to have said toy-boy her own age (what a gal!)<br /><br />David McCallum as said toy-boy, equally as pointlessly glamourous as his squeeze. Pilcher couldn't come up with any cover for him within the story, so she gave him a hush-hush job at the Circus.<br /><br />and finally:<br /><br />Susan Hampshire as Miss Polonia Teacups, Venerable Headmistress of the Venerable Girls' Boarding-School, serving tea in her office with a dash of deep, poignant advice for life in the outside world just before graduation. Her best bit of advice: \"I've only been to Nancherrow (the local Stately Home of England) once. I thought it was very beautiful but, somehow, not part of the real world.\" Well, we can't say they didn't warn us.<br /><br />Ah, Susan - time was, your character would have been running the whole show. They don't write 'em like that any more. Our loss, not yours.<br /><br />So - with a cast and setting like this, you have the re-makings of \"Brideshead Revisited,\" right?<br /><br />Wrong! They took these 1-dimensional supporting roles because they paid so well. After all, acting is one of the oldest temp-jobs there is (YOU name another!)<br /><br />First warning sign: lots and lots of backlighting. They get around it by shooting outdoors - \"hey, it's just the sunlight!\"<br /><br />Second warning sign: Leading Lady cries a lot. When not crying, her eyes are moist. That's the law of romance novels: Leading Lady is \"dewy-eyed.\"<br /><br />Henceforth, Leading Lady shall be known as L.L.<br /><br />Third warning sign: L.L. actually has stars in her eyes when she's in love. Still, I'll give Emily Mortimer an award just for having to act with that spotlight in her eyes (I wonder . did they use contacts?)<br /><br />And lastly, fourth warning sign: no on-screen female character is \"Mrs.\" She's either \"Miss\" or \"Lady.\"<br /><br />When all was said and done, I still couldn't tell you who was pursuing whom and why. I couldn't even tell you what was said and done.<br /><br />To sum up: they all live through World War II without anything happening to them at all.<br /><br />OK, at the end, L.L. finds she's lost her parents to the Japanese prison camps and baby sis comes home catatonic. Meanwhile (there's always a \"meanwhile,\") some young guy L.L. had a crush on (when, I don't know) comes home from some wartime tough spot and is found living on the street by Lady of the Manor (must be some street if SHE's going to find him there.) Both war casualties are whisked away to recover at Nancherrow (SOMEBODY has to be \"whisked away\" SOMEWHERE in these romance stories!)<br /><br />Great drama.\n",
      "0\n",
      "\n",
      "The film is based on a genuine 1950s novel.<br /><br />Journalist Colin McInnes wrote a set of three \"London novels\": \"Absolute Beginners\", \"City of Spades\" and \"Mr Love and Justice\". I have read all three. The first two are excellent. The last, perhaps an experiment that did not come off. But McInnes's work is highly acclaimed; and rightly so. This musical is the novelist's ultimate nightmare - to see the fruits of one's mind being turned into a glitzy, badly-acted, soporific one-dimensional apology of a film that says it captures the spirit of 1950s London, and does nothing of the sort.<br /><br />Thank goodness Colin McInnes wasn't alive to witness it.\n",
      "0\n",
      "\n"
     ]
    }
   ],
   "source": [
    "for X, y in dataset_train_original.take(8):\n",
    "  print(X.numpy().decode(\"utf-8\"))\n",
    "  print(y.numpy())\n",
    "  print(\"\")"
   ]
  },
  {
   "cell_type": "markdown",
   "metadata": {},
   "source": [
    "## 1.3 - Statistical Exploration"
   ]
  },
  {
   "cell_type": "code",
   "execution_count": 5,
   "metadata": {
    "colab": {
     "base_uri": "https://localhost:8080/",
     "height": 430
    },
    "id": "4wiTAGD9Elyg",
    "outputId": "11302a2b-596f-4892-ea11-cddcad09336d"
   },
   "outputs": [
    {
     "data": {
      "image/png": "[encoded data removed]",
      "text/plain": [
       "<Figure size 640x480 with 1 Axes>"
      ]
     },
     "metadata": {},
     "output_type": "display_data"
    }
   ],
   "source": [
    "lengths=[]\n",
    "\n",
    "for X, _ in tfds.as_numpy(dataset_train_original):\n",
    "  text = X.decode(\"utf-8\").split()\n",
    "  lengths.append(len(text))\n",
    "\n",
    "\n",
    "\n",
    "plt.hist(lengths, bins=100)\n",
    "plt.show()\n",
    "plt.close()"
   ]
  },
  {
   "cell_type": "code",
   "execution_count": 6,
   "metadata": {
    "colab": {
     "base_uri": "https://localhost:8080/"
    },
    "id": "YNrdlAewHWlH",
    "outputId": "82dc0975-55d2-4a90-9a62-06a99e26922d"
   },
   "outputs": [
    {
     "name": "stdout",
     "output_type": "stream",
     "text": [
      "Mean 233.912\n",
      "Min 10\n",
      "Max 2470\n"
     ]
    }
   ],
   "source": [
    "print(\"Mean\", np.mean(lengths))\n",
    "print(\"Min\", np.min(lengths))\n",
    "print(\"Max\", np.max(lengths))"
   ]
  },
  {
   "cell_type": "code",
   "execution_count": 7,
   "metadata": {
    "colab": {
     "base_uri": "https://localhost:8080/",
     "height": 498
    },
    "id": "kFRQnHAuH1IQ",
    "outputId": "bfd69ee2-d4c4-4fe1-a4ff-1eec80bf377c"
   },
   "outputs": [
    {
     "data": {
      "text/plain": [
       "(array([10031.,     0.,     0.,     0.,     0.,     0.,     0.,     0.,\n",
       "            0.,  9969.]),\n",
       " array([0. , 0.1, 0.2, 0.3, 0.4, 0.5, 0.6, 0.7, 0.8, 0.9, 1. ]),\n",
       " <BarContainer object of 10 artists>)"
      ]
     },
     "execution_count": 7,
     "metadata": {},
     "output_type": "execute_result"
    },
    {
     "data": {
      "image/png": "[encoded data removed]",
      "text/plain": [
       "<Figure size 640x480 with 1 Axes>"
      ]
     },
     "metadata": {},
     "output_type": "display_data"
    }
   ],
   "source": [
    "labels = []\n",
    "for _, y in tfds.as_numpy(dataset_train_original):\n",
    "  labels += [y]\n",
    "plt.hist(labels)"
   ]
  },
  {
   "cell_type": "markdown",
   "metadata": {
    "id": "ECqDUUC3FHNE"
   },
   "source": [
    "\n",
    "# 2 - Encoder: Bag of words encoding"
   ]
  },
  {
   "cell_type": "code",
   "execution_count": 8,
   "metadata": {
    "id": "Vyls_5nBE1UR"
   },
   "outputs": [],
   "source": [
    "vocab_size = 5000\n",
    "\n",
    "encoder = layers.TextVectorization(\n",
    "    max_tokens = vocab_size,\n",
    "    standardize=\"lower_and_strip_punctuation\",\n",
    "    split=\"whitespace\",\n",
    "    output_mode = \"multi_hot\"\n",
    ")\n",
    "encoder.adapt(\n",
    "    dataset_train_original.map(lambda text, label: text).batch(2048)\n",
    ")\n",
    "\n"
   ]
  },
  {
   "cell_type": "code",
   "execution_count": 9,
   "metadata": {
    "colab": {
     "base_uri": "https://localhost:8080/",
     "height": 157
    },
    "id": "N2fU3zIQJVvd",
    "outputId": "5be16414-5ffb-40d3-d70a-16104403453a",
    "scrolled": true
   },
   "outputs": [
    {
     "data": {
      "application/vnd.google.colaboratory.intrinsic+json": {
       "type": "string"
      },
      "text/plain": [
       "'[UNK], the, and, a, of, to, is, in, it, i, this, that, br, was, as, for, with, movie, but, film, on, not, you, his, are, have, be, he, one, its, at, all, by, an, they, who, from, so, like, her, or, just, about, if, has, out, some, there, what, good, very, when, more, she, my, even, would, up, no, which, time, only, really, story, their, had, were, see, can, me, than, we, much, well, been, get, will, also, do, into, people, other, because, bad, first, great, how, most, him, dont, then, made, movies, make, could, films, way, any, them, after, too, characters, think, watch, two, many, being, character, never, seen, little, plot, love, where, acting, best, did, life, show, know, does, ever, your, better, still, over, these, off, end, say, while, here, scene, man, why, such, scenes, go, should, through, something, im, back, those, doesnt, real, watching, thing, years, though, now, actors, didnt, another, new, nothing, makes, before, actually, work, find, old, going, look, same, funny, few, every, us, lot, part, director, again, quite, cant, thats, cast, pretty, want, young, things, seems, got, around, take, down, world, fact, however, between, enough, thought, both, own, big, give, ive, horror, may, original, long, always, without, series, isnt, gets, right, saw, come, least, whole, almost, role, point, times, must, interesting, bit, theres, comedy, action, family, last, done, script, anything, music, hes, might, since, am, performance, guy, minutes, feel, far, probably, rather, kind, yet, worst, tv, away, found, making, woman, sure, having, girl, each, anyone, fun, our, played, although, trying, course, comes, believe, looks, especially, hard, day, goes, shows, different, wasnt, put, main, place, ending, looking, book, worth, once, true, set, everything, maybe, sense, reason, money, plays, watched, three, said, actor, someone, seem, job, takes, dvd, john, screen, 2, later, during, together, instead, play, 10, himself, version, effects, left, audience, house, everyone, beautiful, american, seeing, night, special, excellent, wife, simply, idea, shot, nice, high, less, help, second, read, youre, else, completely, given, black, star, fan, used, poor, father, year, home, death, war, need, try, performances, kids, rest, enjoy, men, friends, mind, use, short, truly, boring, classic, either, dead, hollywood, until, tell, along, half, production, came, wrong, next, line, wonderful, remember, start, getting, women, full, recommend, perhaps, moments, others, understand, terrible, couple, mean, stupid, stars, camera, keep, awful, playing, let, definitely, gives, small, doing, felt, video, perfect, episode, finally, often, early, supposed, couldnt, dialogue, liked, become, sex, school, human, entire, lines, face, name, piece, case, absolutely, itself, top, person, against, lost, shes, waste, went, written, hope, head, title, certainly, picture, yes, problem, sort, live, budget, worse, id, evil, several, based, style, overall, mother, loved, 3, mr, beginning, becomes, killer, entertaining, fans, seemed, already, cinema, wanted, care, sound, friend, throughout, dark, fine, 1, direction, example, boy, lives, unfortunately, oh, despite, turn, guys, white, girls, wants, final, totally, under, called, guess, writing, lead, drama, youll, laugh, wont, turns, children, able, low, history, humor, tries, \\x96, behind, son, amazing, works, gave, days, quality, act, viewer, favorite, theyre, sometimes, michael, starts, past, horrible, kill, game, enjoyed, heart, soon, side, town, child, ones, parts, car, obviously, actress, eyes, themselves, brilliant, flick, directed, thinking, art, run, stories, decent, late, took, feeling, ill, close, expect, says, cannot, highly, myself, leave, fight, genre, except, city, heard, extremely, blood, roles, moment, killed, stuff, told, attempt, hour, strong, particularly, matter, hand, police, involved, wouldnt, happened, kid, happens, james, lack, hell, obvious, alone, daughter, living, wonder, anyway, save, chance, looked, god, whose, type, etc, coming, age, including, violence, simple, happen, murder, brother, experience, number, complete, group, please, slow, none, voice, david, lets, exactly, opening, serious, across, hours, usually, running, shown, ok, annoying, taken, interest, career, somewhat, score, itbr, cinematography, finds, yourself, shots, relationship, ago, song, usual, possible, known, musical, released, hit, started, sad, huge, opinion, english, mostly, robert, change, saying, ridiculous, wish, taking, supporting, ends, seriously, scary, jokes, episodes, order, stop, call, cool, major, local, novel, gore, directors, words, body, cut, crap, hilarious, view, apparently, british, today, important, 5, turned, talking, female, strange, reality, knew, due, light, basically, 4, arent, king, happy, tells, rating, power, single, clearly, husband, disappointed, whats, events, country, songs, level, moviebr, easily, knows, room, cheap, talent, documentary, attention, appears, bring, future, rock, hero, problems, giving, similar, television, word, falls, romantic, four, miss, jack, five, paul, sets, upon, modern, theater, comic, needs, silly, beyond, viewers, nearly, george, earth, whether, predictable, talk, richard, entertainment, mention, filmbr, moving, message, review, feels, within, named, storyline, enjoyable, sequence, points, lady, add, lots, ten, havent, middle, above, herself, comments, actual, tale, bunch, theme, french, certain, surprised, peter, somehow, mystery, ways, elements, york, typical, thriller, begins, using, doubt, animation, hate, tried, writer, working, effort, sorry, leads, stay, fall, means, showing, near, clear, among, sequel, parents, soundtrack, kept, weak, easy, brought, team, red, greatest, material, release, figure, hear, avoid, oscar, fantastic, gone, buy, straight, form, eventually, dull, filmed, indeed, dialog, feature, youve, sister, particular, imagine, check, viewing, editing, de, lee, japanese, lame, general, learn, reviews, class, atmosphere, famous, sequences, season, move, fast, difficult, period, decided, poorly, stand, possibly, joe, wait, realistic, die, believable, zombie, sit, follow, 80s, whos, deal, writers, forget, third, emotional, space, expected, eye, crime, okay, needed, meets, stage, premise, tom, rent, baby, average, became, meet, truth, surprise, nor, killing, filmmakers, subject, screenplay, boys, whatever, sexual, leaves, dance, street, reading, dr, realize, nature, romance, ask, dramatic, badly, unless, write, note, total, whom, suspense, situation, comment, brings, older, keeps, weird, question, interested, forced, dog, superb, shame, footage, towards, worked, sounds, previous, personal, male, earlier, crazy, result, begin, beauty, otherwise, jane, features, credits, leading, minute, directing, creepy, perfectly, casting, various, memorable, hands, plenty, admit, appear, unique, disney, christmas, quickly, potential, free, america, plus, incredibly, hot, society, apart, laughs, mess, brothers, open, cheesy, hardly, forward, return, meant, b, remake, expecting, dream, deep, twist, development, attempts, 20, imdb, outside, match, ben, married, bill, fairly, inside, effect, setting, recently, powerful, fantasy, dumb, air, portrayed, nudity, box, joke, business, unlike, fighting, create, background, acted, deserves, 70s, talented, sadly, missing, manages, la, battle, mark, western, fire, success, present, front, plain, scifi, ideas, pay, reasons, political, copy, ended, cute, waiting, telling, agree, gay, fails, break, rich, monster, missed, further, caught, william, social, secret, compared, sweet, pure, considering, public, crew, members, masterpiece, slightly, following, large, flat, wasted, odd, mentioned, decides, kills, incredible, uses, neither, villain, girlfriend, fear, doctor, successful, sees, popular, entirely, cop, office, mary, convincing, bored, positive, hold, credit, tension, science, familiar, ultimately, state, scott, rate, pace, biggest, audiences, wrote, violent, moves, intelligent, visual, german, focus, suddenly, party, gun, escape, spent, created, recent, cold, cause, clever, appreciate, zombies, younger, singing, speak, laughing, island, basic, walk, value, solid, era, books, trouble, revenge, list, choice, store, died, spend, 12, adult, van, produced, college, situations, respect, effective, cover, cartoon, bizarre, amount, portrayal, 8, slasher, filled, 7, tone, showed, exciting, dancing, common, involving, spirit, producers, sick, runs, impossible, former, consider, won, project, band, language, failed, depth, werent, water, steve, company, animated, amusing, 15, concept, chemistry, pointless, barely, decide, considered, planet, century, leaving, shooting, control, thanks, starring, mad, utterly, studio, jim, fit, force, tony, italian, changed, trip, spoilers, literally, hair, likes, follows, charming, awesome, aside, generally, dad, bought, trash, touch, somewhere, cat, honestly, longer, impressive, immediately, honest, ability, 30, recommended, pictures, walking, surprisingly, ghost, accent, pathetic, values, glad, disturbing, culture, adventure, normal, frank, adaptation, stick, south, magic, thank, fair, rare, conclusion, sitting, meaning, fake, thinks, personally, tough, questions, london, taste, loves, camp, standard, managed, aspect, knowing, images, west, plan, natural, genius, detective, attack, alive, terms, equally, win, added, yeah, nobody, likely, themes, explain, dreams, computer, chase, catch, appearance, wild, marriage, cult, sam, humour, appeal, woods, touching, smith, chris, charles, subtle, soldiers, fiction, purpose, garbage, complex, nowhere, remains, prison, central, lovely, innocent, excuse, slowly, animals, outstanding, military, issues, contains, cinematic, beautifully, twists, thus, sexy, mood, makers, critics, brain, stewart, sent, 100, terrific, presented, mysterious, week, paris, harry, surely, date, bottom, army, unbelievable, comedies, naked, journey, indian, pick, filming, train, silent, road, master, historical, christopher, batman, painful, laughable, vampire, suggest, smart, mainly, loud, festival, disappointing, details, youd, soul, finish, track, presence, manner, hoping, emotions, climax, thrown, mistake, justice, gang, brief, self, places, heavy, door, constantly, tired, fully, costumes, stunning, narrative, impression, exception, 9, besides, names, makeup, element, available, acts, throw, rated, charm, bruce, bother, twice, stands, law, drawn, support, shoot, photography, emotion, cry, aspects, zero, hey, government, wow, pieces, opportunity, feelings, boss, scenery, puts, include, club, channel, suppose, kelly, intended, color, building, minor, edge, charlie, blue, students, ride, hurt, expectations, changes, image, hasnt, billy, forever, confused, pass, million, church, 6, supposedly, speaking, followed, fascinating, drive, giant, wondering, relationships, notice, lighting, drug, christian, merely, henry, fresh, developed, bar, serial, random, producer, laughed, impact, award, appeared, paid, lacks, compelling, ahead, lose, falling, damn, victims, pain, hotel, grade, disappointment, fellow, martin, spoiler, motion, gorgeous, finding, likable, answer, seemingly, putting, offer, murders, jones, green, funniest, system, key, event, victim, shock, ms, lived, boyfriend, bed, approach, trailer, everybody, creative, williams, thoroughly, intense, gem, flaws, delivers, addition, moral, happening, difference, dies, alien, content, turning, share, provides, mix, imagination, helps, attractive, afraid, negative, mediocre, americans, adults, ugly, reminded, rape, pull, impressed, fell, absolute, numbers, moved, jerry, filmmaker, angry, proves, mans, hospital, confusing, born, summer, detail, tragedy, opera, offers, nasty, becoming, timebr, therefore, ray, picked, lord, flicks, park, industry, forgotten, beat, area, actresses, standards, porn, ii, agent, adds, willing, super, led, latter, asks, student, spot, redeeming, professional, page, lover, land, holes, faces, compare, states, rented, games, 90, six, seven, favourite, design, allowed, seconds, mental, describe, childhood, tragic, teenage, shocking, collection, cliché, struggle, shouldnt, race, mouth, information, helped, stuck, stephen, step, queen, onto, noir, count, chinese, al, food, don, deeply, alan, inspired, ground, flying, dirty, quick, folks, listen, double, arthur, theatre, fashion, extreme, bond, artistic, thin, originally, deliver, wonderfully, realized, ready, mom, hidden, began, apartment, wars, warning, technical, physical, carry, tears, martial, jason, held, filmmaking, direct, cops, ring, grace, desperate, danny, continue, animal, wooden, treat, tim, roll, personality, normally, necessary, davis, anymore, station, soldier, member, energy, worthy, unusual, trust, news, affair, johnny, captain, bits, apparent, accept, wedding, todays, scientist, sat, plane, includes, fox, drugs, criminal, vision, location, douglas, according, returns, remarkable, phone, commentary, provide, limited, allen, jeff, clothes, suspect, sky, pleasure, judge, disaster, bloody, arts, reminds, nightmare, intriguing, independent, gotten, fred, desire, brutal, brian, asked, 60s, watchable, powers, engaging, allow, absurd, witch, hated, grand, actions, wearing, uncle, suicide, search, rarely, nicely, introduced, holds, creature, castle, andy, unnecessary, ship, dying, humans, heroes, comedic, accident, superior, sleep, ladies, heres, anybody, killers, ie, finished, toward, sight, met, machine, epic, surprising, passion, pacing, legend, kevin, driving, build, anywhere, process, players, media, loving, lies, hadnt, teacher, smile, extra, exist, eddie, constant, artist, academy, river, pilot, lacking, friendship, community, 40, wall, vs, villains, vhs, unknown, teen, starting, intelligence, ed, somebody, skip, lovers, faith, explanation, empty, accurate, wanting, treated, saved, pop, manage, fights, fail, delightful, understanding, scared, quiet, prince, mixed, memory, joy, european, cgi, blame, whilst, radio, knowledge, creating, prove, nick, months, lowbudget, growing, dangerous, clichés, suit, monsters, kinda, jean, featuring, torture, record, pulled, jump, jr, japan, included, humanity, deserved, cars, stone, russian, loose, heads, gene, terribly, reviewers, responsible, psychological, noticed, keeping, capture, bright, religious, officer, loss, hopes, guns, fat, adam, worlds, sing, rubbish, results, received, price, numerous, memories, magnificent, bland, whatsoever, screaming, joan, hits, winning, scream, miles, jesus, humorous, field, england, deserve, dated, soap, pretentious, higher, floor, fathers, dressed, captured, cage, 50, realism, ordinary, mission, locations, issue, instance, horse, explained, deals, c, wind, weve, welles, visually, unfunny, sucks, plots, opens, naturally, moon, heaven, finest, cuts, bigger, witty, streets, regular, mine, international, ann, shallow, gonna, continues, sign, saving, partner, mrs, morning, mike, lesson, jennifer, harris, current, curious, calls, spanish, segment, proved, connection, concerned, advice, werewolf, visit, thembr, shop, santa, private, portray, nonsense, jimmy, dick, dealing, daughters, broken, whenever, unexpected, traditional, program, national, murdered, morgan, formula, existence, below, anthony, anna, skills, player, kate, identity, golden, genuinely, frankly, discover, corny, 1010, window, tarzan, superman, peoples, ice, gary, discovered, debut, crappy, conflict, breaks, allows, sudden, sake, genuine, essentially, eat, cable, blonde, 1950s, stock, gold, dan, ultimate, strength, sea, remembered, occasionally, fate, drunk, context, blind, awkward, aware, village, reach, perspective, lake, gags, ford, forces, bob, youth, study, references, ran, meanwhile, favor, creates, wise, washington, sisters, sheer, reaction, passed, loses, kong, discovers, delivered, cameo, bank, taylor, talents, steven, satire, length, gratuitous, finale, failure, develop, ball, underrated, survive, meeting, learned, heroine, flashbacks, unable, theyve, steal, revealed, overly, graphic, eating, 90s, wide, victor, versions, standing, practically, luck, laughter, grew, emotionally, buddy, brown, bet, wood, vehicle, vampires, types, travel, opposite, majority, logic, foot, excited, awards, ages, twenty, thomas, shakespeare, proper, insane, fill, cross, thisbr, stopped, relief, owner, lucky, edited, decade, behavior, attitude, site, albert, stereotypes, rose, robin, parody, endless, caused, test, simon, sean, portrays, jackson, foreign, dreadful, commercial, brilliantly, board, believes, alex, uk, theaters, sucked, luke, louis, leader, himbr, efforts, clue, chief, bear, theatrical, spectacular, singer, seasons, grant, families, embarrassing, decision, asking, allbr, visuals, relate, painfully, joseph, fault, eric, devil, choose, author, treatment, tape, canadian, built, sell, rise, rescue, portraying, matt, largely, keaton, feet, combination, anime, ancient, walter, technology, ruined, religion, r, pleasant, pity, entertained, comparison, center, assume, appropriate, wit, vote, speed, sheriff, nevertheless, native, hearing, desert, described, captures, aka, trilogy, tend, suffering, substance, onebr, model, hill, extras, destroy, depressing, chosen, appealing, pair, marie, levels, involves, halfway, germany, gangster, freedom, freddy, executed, daniel, d, capable, woody, utter, source, sinatra, reviewer, patrick, learns, excitement, evening, dry, drag, convinced, candy, barbara, steals, product, post, lewis, kick, irritating, hitler, heck, haunting, hanging, costume, costs, claim, 11, trek, rules, president, gory, contrived, chose, unrealistic, united, till, talks, produce, pile, insult, initial, howard, handsome, france, contrast, sympathetic, soft, relatively, horribly, drew, crowd, contemporary, boat, anne, universal, texas, range, halloween, fly, facts, evidence, circumstances, cinderella, amateur, voices, tiny, sympathy, strongly, shocked, round, marry, individual, hopefully, hide, sons, satisfying, ryan, rob, recall, psycho, plans, parker, mebr, handled, grow, clean, broadway, 1970s, weekend, training, thatbr, teenager, tedious, send, safe, lousy, cowboy, chick, warm, walks, veteran, surreal, storybr, spoil, scare, research, matters, fits, fame, dubbed, closer, amateurish, 50s, von, unlikely, repeated, protagonist, previously, mask, losing, hunter, granted, exploitation, 810, viewed, sequels, seat, remain, hunt, holding, bringing, australian, witness, weeks, thoughts, suffers, sharp, roy, rings, reporter, promise, lesbian, latest, draw, cost, classics, cartoons, cares, bodies, asleep, asian, artists, wellbr, saturday, qualities, lawyer, generation, dogs, danger, adventures, wayne, universe, serves, provided, politics, market, lynch, irish, grown, frame, display, disgusting, virtually, studios, ruin, priest, oliver, movement, moore, lower, friday, europe, edward, colors, cash, winner, surface, realizes, promising, presents, convince, accidentally, wouldve, s, outbr, experiences, brave, africa, accents, welcome, technically, struggling, sports, refreshing, offensive, influence, fare, deaths, dean, committed, bugs, angles, 710, proud, north, massive, highlight, harsh, guilty, football, factor, crash, believed, unfortunate, rental, narration, minds, lonely, legendary, jackie, insight, inner, fool, downright, designed, depicted, bomb, baseball, 13, whoever, twisted, treasure, surprises, supernatural, paced, overthetop, occasional, mainstream, kim, gritty, enter, directly, claims, anger, teens, teenagers, subtitles, speaks, rip, performed, nominated, nancy, hed, haunted, grave, deadly, creatures, continuity, combined, angel, storytelling, spends, reputation, propaganda, prime, obsessed, gordon, frightening, explains, core, urban, structure, speech, reveal, naive, midnight, melodrama, j, correct, beach, account, target, section, princess, passing, mountain, hat, express, execution, emma, campy, anderson, african, abuse, 1980s, waybr, uninteresting, stays, pulls, print, lights, herebr, fu, flesh, cutting, crying, breaking, walked, victoria, rights, reveals, recognize, paint, offered, max, magical, drop, 25, suspenseful, sorts, slapstick, significant, service, scale, routine, remotely, peace, paper, network, listening, jon, indie, forest, everywhere, dozen, covered, category, aliens, titanic, throwing, stolen, skin, reminiscent, regret, rain, mothers, junk, hall, forth, f, enemy, clichéd, birth, 1930s, 14, susan, spy, jessica, ignore, focuses, fictional, favorites, dollars, bothered, angle, wear, spite, scenario, roger, required, necessarily, kinds, heavily, featured, destroyed, conversation, childrens, burns, afternoon, wilson, sunday, stayed, skill, rule, robot, novels, idiot, hong, forgettable, false, exact, clark, ass, abandoned, worthwhile, trapped, touches, russell, ron, renting, nude, notorious, mildly, metal, inspiration, focused, crude, code, blah, sounded, serve, sensitive, rachel, path, learning, jobs, gas, format, figured, extraordinary, experienced, cultural, blow, blockbuster, thankfully, seek, sarah, prior, position, placed, murphy, mistakes, mature, matrix, lifetime, inept, figures, faithful, examples, desperately, demons, degree, convey, breath, belief, achieve, understood, unconvincing, throws, terror, summary, sidney, security, scares, quirky, quest, professor, pitt, mere, lugosi, interview, honor, hired, fairy, expert, erotic, effectively, donald, california, bus, bourne, amazed, writerdirector, theory, southern, sitcom, raw, picks, julia, eight, drinking, complicated, closing, changing, cell, attempting, atrocious, amazingly, alice, views, sir, larry, helping, greater, funnier, dragon, description, department, cruel, criminals, caine, cabin, buying, beloved, andor, tales, st, pacino, lifebr, julie, imagery, hoffman, friendly, flight, facial, fabulous, endbr, dennis, decades, daily, couldve, che, caring, brad, amongst, aint, touched, statement, settings, murderer, mgm, hood, happiness, freeman, everyday, determined, deeper, columbo, bore, blown, beast, alright, 110, variety, subplot, regarding, pet, paying, needless, isbr, foster, clips, calling, basis, suffer, strangely, status, socalled, shadow, remind, punch, lisa, initially, grim, forgot, dress, delivery, critical, bollywood, appreciated, x, turkey, sum, rough, pregnant, maria, graphics, embarrassed, device, darkness, criticism, court, choices, china, bmovie, aunt, arms, ted, task, table, sinister, shut, screening, revolution, regard, prefer, join, hardy, extent, expression, disbelief, blair, u, trick, teeth, suck, stereotypical, sleeping, racist, par, obnoxious, notable, ludicrous, lie, jail, fourth, flashback, chilling, wears, purely, multiple, league, lazy, jungle, ghosts, encounter, driven, causes, carrying, carries, bitter, againbr, weapons, underground, truck, served, protect, productions, prepared, marvelous, lessons, lesser, ironic, intellectual, hills, fallen, exists, enjoying, driver, cooper, alas, westerns, warned, usa, spoken, rolling, properly, onbr, musicals, miller, jumps, jewish, introduction, dude, base, balance, stops, san, replaced, powell, poignant, obsession, nowadays, mexican, letting, johnson, india, hence, flawed, entertain, depiction, bridge, adding, warner, upset, storm, remote, refuses, raised, protagonists, lane, intensity, inspector, handle, greatly, escapes, comical, brooks, breathtaking, answers, 410, sun, spoof, ripoff, ratings, praise, oscars, originality, o, noble, mexico, lincoln, leslie, kiss, holiday, grey, environment, credible, confusion, cases, carried, bbc, trial, starred, mansion, legs, interpretation, internet, innocence, goofy, cynical, corner, contain, authentic, arrives, wasting, via, tradition, text, suffered, shorts, rogers, revolves, related, philip, perform, overcome, nonexistent, miscast, frequently, flow, essential, drives, dig, attacks, womans, wins, weapon, wave, warn, term, succeeds, struggles, sold, sleazy, scripts, rochester, patient, nazi, navy, kung, guard, experiment, cook, vietnam, torn, titles, sword, suspects, stanley, sin, rival, raise, pool, physically, oddly, mob, mentally, manager, locked, infamous, goodbr, established, comedian, claire, charge, buck, broke, attacked, angels, adapted, 310, whereas, wealthy, tree, stylish, separate, racism, n, mindless, michelle, lucy, lucas, invisible, hitchcock, glimpse, elizabeth, countries, challenge, burt, 2006, 2000, youbr, topic, thrilling, therebr, tense, reference, pride, oneliners, millions, laura, intentions, helen, dollar, dinner, delight, countless, busy, aired, uncomfortable, successfully, shape, seagal, opened, nonetheless, mouse, knife, jay, holmes, gross, fortunately, exceptional, concert, wishes, tight, teach, stomach, plastic, pitch, personalities, performers, nation, irony, hint, gods, gain, fish, expressions, eg, courage, controversial, advantage, accepted, vacation, unforgettable, thrillers, thousands, suggests, sides, shower, scientists, risk, quote, neat, miniseries, lloyd, hunting, horses, hiding, guessing, gruesome, gripping, dragged, dislike, curtis, curse, chair, brando, ashamed, troubled, toy, tied, technique, sings, oil, matthau, interviews, hundred, homeless, happily, east, dorothy, contact, connected, chases, bound, bo, battles, 2001, videos, thousand, shed, seeking, reunion, proof, presentation, persons, nelson, mirror, medical, meaningful, mass, imaginative, hole, grows, glass, franchise, equal, branagh, bears, attached, aged, worry, tribute, timing, theyd, stretch, steps, spots, split, snow, retarded, repeat, lovable, lion, idiotic, husbands, h, endearing, cube, closely, bette, 910, 18, tracy, stupidity, stanwyck, segments, rocks, ripped, pat, ourselves, madness, herbr, ensemble, enjoyment, dialogs, dealt, dare, crimes, consists, boll, arnold, trite, stunt, strikes, stranger, stan, shines, saves, intention, hudson, hip, hanks, credibility, competent, bag, albeit, 30s, wwii, workers, slight, shining, searching, rushed, riding, redemption, performing, nights, magazine, lying, host, ha, develops, colour, checking, card, cameos, bat, atmospheric, annoyed, 1st, widmark, vincent, tune, toobr, thief, sutherland, succeed, sentimental, sends, screenwriter, roberts, portrait, noted, neighborhood, hundreds, horrific, factory, entry, creators, christ, baker, 911, unintentionally, tricks, stronger, strike, stood, solve, sexually, setup, rush, mst3k, kurt, handful, fortune, fbi, dubbing, chances, betterbr, belongs, believing, attraction, 1960s, virgin, tour, terrifying, talked, surrounding, spike, sandler, ralph, press, partly, nose, ned, medium, luckily, kings, killings, kane, italy, hoped, hitting, guilt, godfather, flaw, dear, concerns, complaint, colorful, beating, badbr, 24, wanna, surrounded, specific, returning, reallife, profound, pie, perfection, per, pack, occurs, month, mafia, individuals, horrendous, hooked, forgive, encounters, elvis, denzel, attempted, arm, allowing, winter, wing, typically, tremendous, stated, spending, object, notes, le, iii, hang, guts, dramas, dancer, covers, cousin, corrupt, corpse, commit, charismatic, catherine, briefly, birthday, bettie, barry, appearances, achieved, wake, stealing, sexuality, reed, pushed, nuclear, library, jamie, homage, gift, expensive, crisis, civil, cared, bobby, assistant, 80, weight, techniques, striking, strictly, root, pleasantly, marks, los, jeremy, instantly, identify, hamlet, gothic, fx, frustrated, flawless, estate, eerie, drags, distant, demon, chuck, charisma, appearing, andrew, 17, university, tons, someones, slightest, shall, represents, reactions, pointed, painting, messages, lacked, jesse, jake, importance, horrors, health, grandmother, glory, fitting, easier, dawn, cheese, camerawork, bucks, trade, timothy, stunts, struck, spring, silence, shy, shoots, requires, remaining, regardless, reduced, pulling, menacing, manhattan, lily, hearts, guide, flash, eyre, exercise, elsewhere, drink, directorial, crafted, condition, con, chasing, boxing, basement, associated, admire, watches, uninspired, thumbs, t, subplots, shortly, revealing, repetitive, pushing, push, noise, mild, kicks, ken, intrigued, ian, gag, essence, em, doors, currently, cardboard, ambitious, admittedly, sullivan, streisand, savage, sally, row, photographed, packed, nine, neil, neighbor, morality, massacre, listed, larger, increasingly, fired, enters, displays, disagree, darker, aimed, accused, 40s, walls, vague, useless, twin, toilet, thirty, tea, strip, sole, secretary, samurai, revelation, response, realise, pleased, planning, overrated, melodramatic, laid, kidnapped, ironically, inevitable, incoherent, hype, highlights, gotta, glenn, funnybr, fisher, executive, drunken, distance, definite, cup, continued, competition, chaplin, chan, britain, brazil, bleak, arrested, wes, ward, thrills, superbly, ruth, relevant, plague, outcome, opposed, loosely, logical, importantly, gradually, fears, fatal, extended, eva, diamond, closeups, catholic, burton, brand, aforementioned, zone, wonders, turner, tall, spielberg, smooth, shoes, shine, resolution, relative, ps, persona, panic, outrageous, notch, moviesbr, meat, kudos, jumping, inspiring, goldberg, digital, cox, complain, clues, clint, buried, bride, bible, beings, alike, alexander, ad, 3d, 20th, wreck, virus, trap, stole, spooky, spoiled, smoking, shadows, rid, reasonable, projects, presumably, precious, mitchell, letter, lab, jet, hire, groups, genres, faced, evident, dvds, draws, documentaries, contract, citizen, cats, carter, carefully, burn, breasts, blows, acceptable, absence, worthless, wondered, union, theyll, superhero, stiff, spiritual, returned, repeatedly, rap, providing, progress, picking, minimal, gentle, generous, forbidden, fifteen, failing, explore, dropped, doc, dignity, danes, conversations, conspiracy, cameras, broad, beer, argument, appalling, andrews, website, wannabe, trio, spin, sophisticated, smoke, restaurant, resembles, receive, prom, overlooked, overdone, non, nazis, lou, korean, kenneth, karloff, insulting, indians, improved, hardcore, guest, elderly, elaborate, creation, cia, characterization, carrey, brilliance, brains, beaten, argue, afterwards, 45, translation, timesbr, timeless, ticket, threat, shark, raped, ranks, psychiatrist, prevent, newspaper, motivation, miserably, loser, liking, ireland, heat, hatred, goal, fancy, editor, discussion, destruction, demands, curiosity, cole, canada, boredom, blob, bathroom, tunes, titled, swedish, splendid, spell, silver, poverty, piano, notably, mustsee, mountains, matthew, masters, investigation, explicit, ex, duke, drawing, devoted, detailed, derek, depression, dentist, deliberately, davies, cusack, cried, convoluted, captivating, beats, australia, attracted, atlantis, arrive, accomplished, yesterday, vicious, ties, sunshine, styles, string, souls, selling, screams, sacrifice, robots, ridiculously, nurse, mel, installment, glover, filmsbr, falk, explaining, et, engaged, empire, edie, duo, disc, critic, contrary, burning, bullets, alltime, affected, abilities, 2nd, 2005, 2002, worried, upbr, unpleasant, thugs, swear, subsequent, sticks, showbr, selfish, ritter, reynolds, reasonably, popcorn, official, offering, lips, landscape, jerk, idiots, greek, glorious, financial, enjoys, dutch, differences, devoid, concerning, comics, charlotte, border, apes, aging, adams, 2003, web, uwe, undoubtedly, territory, suits, spoilersbr, smaller, sloppy, size, roman, removed, psychotic, pretend, overacting, occurred, monkey, mate, maker, judging, joey, itll, intent, implausible, ignored, hysterical, focusing, felix, farm, explored, doctors, destiny, dave, cruise, consequences, comfortable, bush, blend, bands, annie, 1996, worldbr, warrior, vast, upper, travels, threatening, sidekick, scheme, richards, reached, pulp, orders, neck, nearby, movements, misses, lifestyle, liberal, lawrence, kirk, immensely, huh, hugh, hitman, grab, giallo, futuristic, fever, etcbr, emily, dire, craig, connect, commercials, clumsy, clown, carol, blank, achievement, workbr, winds, wells, waters, spare, signs, seenbr, secrets, recognized, primarily, overwhelming, outfit, occur, nightmares, monkeys, mid, meaningless, load, leg, laurel, kitchen, juvenile, intrigue, houses, honesty, holy, hates, exposed, explosion, dracula, disjointed, discovery, desperation, dances, couples, claimed, chain, broadcast, awake, areas, amy, 2004, wrestling, wealth, unbelievably, triumph, thick, shell, sellers, report, remarkably, relations, rebel, rage, proceedings, passes, officers, obscure, norman, morebr, knock, karen, journalist, instant, ideal, heston, headed, generic, fond, exaggerated, escaped, discuss, dedicated, coherent, carpenter, cameron, blatant, bin, anyways, angeles, afford, 60, wicked, versus, toys, tortured, throat, symbolism, spirits, severe, seed, scientific, sadistic, rural, riveting, resemblance, purple, poster, politically, pays, ought, matches, margaret, maggie, lasted, involvement, horrid, hollow, harder, hank, francisco, forms, flop, dynamic, disease, diana, craft, childish, celluloid, builds, brosnan, brooklyn, bite, bell, audio, 210, 16, warren, uneven, unbearable, threw, surviving, staying, staged, sandra, react, racial, possibility, paulie, mistaken, loyal, linda, judy, jealous, hints, godzilla, germans, frustration, freak, folk, elvira, dickens, developing, daring, damage, cuba, corruption, colonel, charactersbr, cary, butt, block, benefit, beneath, altogether, agrees, 1980, whale, vivid, temple, suited, subtlety, stiller, slap, ships, scripted, scenebr, revolutionary, producing, portion, photographer, onscreen, nicholson, ingredients, incident, imagined, heroic, furthermore, fighter, dolls, decisions, conventional, contained, burned, adequate, abc, wolf, walker, voiceover, ups, unintentional, tracks, survived, soviet, scope, rick, principal, primary, population, neighbors, murderous, justify, investigate, influenced, holly, highest, harvey, gray, flies, explosions, eve, enormous, ego, drivel, divorce, crucial, chaos, buddies, bedroom, advance, 1990s, yellow, watchbr, walken, twelve, trees, trailers, thoughtful, synopsis, switch, swimming, survival, subjects, solely, settle, saga, sadness, robbery, planned, passionate, odds, notion, narrator, mixture, mile, method, measure, isolated, improve, hurts, hollywoods, hideous, gandhi, florida, facing, everyones, enterprise, enemies, endings, drops, dozens, donna, directs, diane, dialogues, depressed, dawson, crack, consistently, combat, clothing, chased, causing, catches, bone, backdrop, antics, wished, widow, voight, unwatchable, unfolds, traveling, trashy, transfer, topless, tommy, terrorist, succeeded, staff, sits, simplistic, similarly, seventies, secondly, scottish, satisfied, represent, reads, purchase, pretending, potentially, peters, performer, nervous, motives, modesty, mildred, melting, mann, link, lighthearted, innovative, hart, hamilton, guessed, garden, flynn, fix, farce, exotic, endure, eastwood, describes, defeat, coffee, classes, choreography, cagney, brady, blunt, blues, banned, adorable, access, unhappy, treats, tie, tender, tear, tap, survivors, superficial, splatter, specifically, similarities, satan, reaches, punk, perry, outer, motivations, models, mickey, merit, menace, madefortv, leonard, kingdom, junior, impress, hunters, hammer, guarantee, errors, emphasis, doll, dating, considerable, composed, closet, chorus, cg, cards, blew, blake, bird, astaire, winters, wasbr, wallace, w, transformation, tame, sub, stinker, staring, spoke, shelf, relies, recorded, quotes, preview, practice, possibilities, possessed, philosophy, orson, notbr, niro, morris, march, mall, loads, lemmon, lees, kidding, kicked, kennedy, jeffrey, involve, heartwarming, handed, grinch, gangsters, fonda, existed, disturbed, disappear, commented, civilization, bold, blond, birds, arguably, 1999, waves, useful, unsettling, understated, tad, stress, stereotype, slick, simplicity, rank, molly, miike, kapoor, jazz, introduces, illogical, horrifying, hook, hal, grasp, ginger, faults, exploration, exceptionally, ellen, eccentric, distracting, delivering, defend, crush, countryside, christy, cheating, brutally, authority, arrogant, agents, yelling, wore, weakest, waited, vulnerable, valuable, v, thrill, snl, smiling, slave, showcase, senseless, screenbr, rotten, rocket, robbins, relation, recognition, realizing, raising, questionable, prostitute, promised, porno, pages, nostalgic, mysteries, miserable, mentioning, m, lust, iron, interaction, greedy, g, frequent, fascinated, familys, education, e, duty, cure, conflicts, command, combine, carl, blade, bath, armed, april, akshay, airport, vengeance, urge, tonight, tomatoes, todd, suitable, stellar, stargate, solo, shelley, shake, scrooge, resources, reaching, rambo, purchased, props, polanski, plight, parent, painted, opinions, offended, occasion, nuts, namely, moody, montana, montage, maintain, lundgren, li, lengthy, l, kay, iraq, intentionally, homosexual, hbo, faster, elegant, downhill, doomed, dinosaurs, destroying, dalton, companion, closest, cliff, cleverly, celebrity, carrie, careers, campbell, bonus, aid, ah, 2007, 1983, 0, writes, worker, wizard, wives, witches, understandable, tongue, tag, species, simmons, seriesbr, scenesbr, sappy, rooms, richardson, represented, patients, paranoia, online, onedimensional, nonstop, museum, mummy, limits, lately, kubrick, incompetent, ignorant, homer, helicopter, heartbreaking, goodness, gadget, finger, eugene, engage, embarrassment, displayed, der, consistent, comparing, climactic, centers, beliefs, behave, backgrounds, bacall, arrival, amounts, 3rd, willis, wed, wacky, vegas, transition, tiresome, terry, survivor, sue, streep, stones, slaughter, september, scooby, progresses, poetic, photos, phantom, oz, middleaged, mayor, machines, lyrics, lone, leo, lay, inventive, inane, funeral, ears, earl, domestic, disappoint, corporate, circle, chooses, catchy, businessman, bullet, bela, babe, ape, airplane, affect, abysmal, 1990, wound, widely, wet, troubles, taught, swim, sport, rising, reflect, randomly, quietly, provoking, proceeds, paltrow, operation, nicholas, mighty, june, jonathan, inbr, garbo, fury, fooled, experiments, ethan, ease, earned, damon, constructed, confidence, cake, borrowed, bebr, amanda, alert, aids, agreed, advertising, advanced, witnessed, thru, tends, strangers, stevens, steel, softcore, ruthless, resist, promises, popularity, plant, parties, omen, mundane, miracle, messed, merits, manipulative, lively, lena, landscapes, julian, irrelevant, introduce, integrity, inappropriate, improvement, immediate, illness, gundam, floating, fields, fay, elm, edition, disappeared, designs, demented, dancers, daddy, cinematographer, christians, chicks, channels, buffs, buff, arrived, alcoholic, 13th, ya, wisdom, wandering, visits, user, trail, taxi, spirited, shirt, shaw, secretly, ruins, royal, rendition, prequel, pops, poem, plausible, performs, methods, mario, losers, loaded, likewise, jumped, joined, inferior, humble, gerard, formulaic, exchange, eaten, doubts, disliked, dinosaur, dimensional, craven, copies, confrontation, coach, chicago, cheated, betty, avoided, assumed, artificial, antwone, amitabh, activities, accuracy, abusive, wrongbr, willie, warmth, twins, teachers, suspend, stinks, snake, signed, seeks, safety, roots, resulting, relatives, ramones, pursuit, parallel, overlook, ollie, nathan, metaphor, meryl, mars, loyalty, legacy, keith, karl, imitation, enthusiasm, eitherbr, dub, darren, daniels, convincingly, contest, concern, chest, berlin, bergman, belong, attend, americas, alfred, accompanied, 1972, wholly, warriors, unoriginal, trademark, subjected, stale, spread, sopranos, schools, romero, rolled, restored, responsibility, remarks, remade, receives, polished, poetry, peoplebr, owen, nyc, noone, nomination, ninja, muslim, masterful, louise, literature, letters, legal, incomprehensible, gifted, franco, francis, farrell, exposure, eastern, eager, disneys, despair, careful, capturing, belushi, bay, basketball, bang, andre, ambiguous, advise, 70, 3000, waitress, virginia, ustinov, unseen, troops, suggested, straightforward, stooges, scarecrow, satisfy, sabrina, ruby, rocky, rex, require, punishment, property, prize, pressure, pit, pig, overlong, othello, opportunities, nostalgia, myers, map, lackluster, iran, invented, interactions, historically, hilariously, heights, grandfather, grabs, gather, elephant, dust, dreary, desired, demand, del, creep, coast, calm, buildings, bridget, boom, blacks, beatty, bare, awfully, appreciation, alternate, 35'"
      ]
     },
     "execution_count": 9,
     "metadata": {},
     "output_type": "execute_result"
    }
   ],
   "source": [
    "vocabulary = encoder.get_vocabulary()\n",
    "\", \".join(vocabulary[:-100])"
   ]
  },
  {
   "cell_type": "code",
   "execution_count": 10,
   "metadata": {
    "colab": {
     "base_uri": "https://localhost:8080/"
    },
    "id": "7MSmL6EgJg2n",
    "outputId": "fa420044-79c3-4508-ccba-b3a6ed5b658c"
   },
   "outputs": [
    {
     "name": "stdout",
     "output_type": "stream",
     "text": [
      "Original: Hello, ma man! I am great and not late\n",
      "Encoded: 1 0 1 0 0 0 0 0 0 1 0 0 0 0 0 0 0 0 0 0 0 1 0 0 0 0 0 0 0 0 0 0 0 0 0 0 0 0 0 0 0 0 0 0 0 0 0 0 0 0 0 0 0 0 0 0 0 0 0 0 0 0 0 0 0 0 0 0 0 0 0 0 0 0 0 0 0 0 0 0 0 0 0 0 0 1 0 0 0 0 0 0 0 0 0 0 0 0 0 0 0 0 0 0 0 0 0 0 0 0 0 0 0 0 0 0 0 0 0 0 0 0 0 0 0 0 0 0 0 0 0 0 0 1 0 0 0 0 0 0 0 0 0 0 0 0 0 0 0 0 0 0 0 0 0 0 0 0 0 0 0 0 0 0 0 0 0 0 0 0 0 0 0 0 0 0 0 0 0 0 0 0 0 0 0 0 0 0 0 0 0 0 0 0 0 0 0 0 0 0 0 0 0 0 0 0 0 0 0 0 0 0 0 0 0 0 0 0 0 0 0 0 0 0 0 0 0 0 0 0 1 0 0 0 0 0 0 0 0 0 0 0 0 0 0 0 0 0 0 0 0 0 0 0 0 0 0 0 0 0 0 0 0 0 0 0 0 0 0 0 0 0 0 0 0 0 0 0 0 0 0 0 0 0 0 0 0 0 0 0 0 0 0 0 0 0 0 0 0 0 0 0 0 0 0 0 0 0 0 0 0 0 0 0 0 0 0 0 0 0 0 0 0 0 0 0 0 0 0 0 0 0 0 0 0 0 0 0 0 0 0 0 0 0 0 0 0 0 0 0 0 0 0 0 0 0 0 0 0 0 0 0 0 0 0 0 0 0 0 0 0 0 0 0 0 0 0 0 0 0 0 0 0 0 0 0 0 0 0 0 0 0 0 0 0 0 0 0 0 0 0 0 0 0 0 0 0 0 0 0 0 0 0 0 0 0 0 0 0 0 0 0 0 0 0 0 0 0 0 0 0 0 0 0 0 0 0 0 0 0 0 0 0 0 0 0 0 0 0 0 0 0 0 0 0 0 0 0 0 0 0 0 0 0 0 0 0 0 0 0 0 0 0 0 0 0 0 0 0 0 0 0 0 0 0 0 0 0 0 0 0 0 0 0 0 0 0 0 0 0 0 0 0 0 0 0 0 0 0 0 0 0 0 0 0 0 0 0 0 0 0 0 0 0 0 0 0 1 0 0 0 0 0 0 0 0 0 0 0 0 0 0 0 0 0 0 0 0 0 0 0 0 0 0 0 0 0 0 0 0 0 0 0 0 0 0 0 0 0 0 0 0 0 0 0 0 0 0 0 0 0 0 0 0 0 0 0 0 0 0 0 0 0 0 0 0 0 0 0 0 0 0 0 0 0 0 0 0 0 0 0 0 0 0 0 0 0 0 0 0 0 0 0 0 0 0 0 0 0 0 0 0 0 0 0 0 0 0 0 0 0 0 0 0 0 0 0 0 0 0 0 0 0 0 0 0 0 0 0 0 0 0 0 0 0 0 0 0 0 0 0 0 0 0 0 0 0 0 0 0 0 0 0 0 0 0 0 0 0 0 0 0 0 0 0 0 0 0 0 0 0 0 0 0 0 0 0 0 0 0 0 0 0 0 0 0 0 0 0 0 0 0 0 0 0 0 0 0 0 0 0 0 0 0 0 0 0 0 0 0 0 0 0 0 0 0 0 0 0 0 0 0 0 0 0 0 0 0 0 0 0 0 0 0 0 0 0 0 0 0 0 0 0 0 0 0 0 0 0 0 0 0 0 0 0 0 0 0 0 0 0 0 0 0 0 0 0 0 0 0 0 0 0 0 0 0 0 0 0 0 0 0 0 0 0 0 0 0 0 0 0 0 0 0 0 0 0 0 0 0 0 0 0 0 0 0 0 0 0 0 0 0 0 0 0 0 0 0 0 0 0 0 0 0 0 0 0 0 0 0 0 0 0 0 0 0 0 0 0 0 0 0 0 0 0 0 0 0 0 0 0 0 0 0 0 0 0 0 0 0 0 0 0 0 0 0 0 0 0 0 0 0 0 0 0 0 0 0 0 0 0 0 0 0 0 0 0 0 0 0 0 0 0 0 0 0 0 0 0 0 0 0 0 0 0 0 0 0 0 0 0 0 0 0 0 0 0 0 0 0 0 0 0 0 0 0 0 0 0 0 0 0 0 0 0 0 0 0 0 0 0 0 0 0 0 0 0 0 0 0 0 0 0 0 0 0 0 0 0 0 0 0 0 0 0 0 0 0 0 0 0 0 0 0 0 0 0 0 0 0 0 0 0 0 0 0 0 0 0 0 0 0 0 0 0 0 0 0 0 0 0 0 0 0 0 0 0 0 0 0 0 0 0 0 0 0 0 0 0 0 0 0 0 0 0 0 0 0 0 0 0 0 0 0 0 0 0 0 0 0 0 0 0 0 0 0 0 0 0 0 0 0 0 0 0 0 0 0 0 0 0 0 0 0 0 0 0 0 0 0 0 0 0 0 0 0 0 0 0 0 0 0 0 0 0 0 0 0 0 0 0 0 0 0 0 0 0 0 0 0 0 0 0 0 0 0 0 0 0 0 0 0 0 0 0 0 0 0 0 0 0 0 0 0 0 0 0 0 0 0 0 0 0 0 0 0 0 0 0 0 0 0 0 0 0 0 0 0 0 0 0 0 0 0 0 0 0 0 0 0 0 0 0 0 0 0 0 0 0 0 0 0 0 0 0 0 0 0 0 0 0 0 0 0 0 0 0 0 0 0 0 0 0 0 0 0 0 0 0 0 0 0 0 0 0 0 0 0 0 0 0 0 0 0 0 0 0 0 0 0 0 0 0 0 0 0 0 0 0 0 0 0 0 0 0 0 0 0 0 0 0 0 0 0 0 0 0 0 0 0 0 0 0 0 0 0 0 0 0 0 0 0 0 0 0 0 0 0 0 0 0 0 0 0 0 0 0 0 0 0 0 0 0 0 0 0 0 0 0 0 0 0 0 0 0 0 0 0 0 0 0 0 0 0 0 0 0 0 0 0 0 0 0 0 0 0 0 0 0 0 0 0 0 0 0 0 0 0 0 0 0 0 0 0 0 0 0 0 0 0 0 0 0 0 0 0 0 0 0 0 0 0 0 0 0 0 0 0 0 0 0 0 0 0 0 0 0 0 0 0 0 0 0 0 0 0 0 0 0 0 0 0 0 0 0 0 0 0 0 0 0 0 0 0 0 0 0 0 0 0 0 0 0 0 0 0 0 0 0 0 0 0 0 0 0 0 0 0 0 0 0 0 0 0 0 0 0 0 0 0 0 0 0 0 0 0 0 0 0 0 0 0 0 0 0 0 0 0 0 0 0 0 0 0 0 0 0 0 0 0 0 0 0 0 0 0 0 0 0 0 0 0 0 0 0 0 0 0 0 0 0 0 0 0 0 0 0 0 0 0 0 0 0 0 0 0 0 0 0 0 0 0 0 0 0 0 0 0 0 0 0 0 0 0 0 0 0 0 0 0 0 0 0 0 0 0 0 0 0 0 0 0 0 0 0 0 0 0 0 0 0 0 0 0 0 0 0 0 0 0 0 0 0 0 0 0 0 0 0 0 0 0 0 0 0 0 0 0 0 0 0 0 0 0 0 0 0 0 0 0 0 0 0 0 0 0 0 0 0 0 0 0 0 0 0 0 0 0 0 0 0 0 0 0 0 0 0 0 0 0 0 0 0 0 0 0 0 0 0 0 0 0 0 0 0 0 0 0 0 0 0 0 0 0 0 0 0 0 0 0 0 0 0 0 0 0 0 0 0 0 0 0 0 0 0 0 0 0 0 0 0 0 0 0 0 0 0 0 0 0 0 0 0 0 0 0 0 0 0 0 0 0 0 0 0 0 0 0 0 0 0 0 0 0 0 0 0 0 0 0 0 0 0 0 0 0 0 0 0 0 0 0 0 0 0 0 0 0 0 0 0 0 0 0 0 0 0 0 0 0 0 0 0 0 0 0 0 0 0 0 0 0 0 0 0 0 0 0 0 0 0 0 0 0 0 0 0 0 0 0 0 0 0 0 0 0 0 0 0 0 0 0 0 0 0 0 0 0 0 0 0 0 0 0 0 0 0 0 0 0 0 0 0 0 0 0 0 0 0 0 0 0 0 0 0 0 0 0 0 0 0 0 0 0 0 0 0 0 0 0 0 0 0 0 0 0 0 0 0 0 0 0 0 0 0 0 0 0 0 0 0 0 0 0 0 0 0 0 0 0 0 0 0 0 0 0 0 0 0 0 0 0 0 0 0 0 0 0 0 0 0 0 0 0 0 0 0 0 0 0 0 0 0 0 0 0 0 0 0 0 0 0 0 0 0 0 0 0 0 0 0 0 0 0 0 0 0 0 0 0 0 0 0 0 0 0 0 0 0 0 0 0 0 0 0 0 0 0 0 0 0 0 0 0 0 0 0 0 0 0 0 0 0 0 0 0 0 0 0 0 0 0 0 0 0 0 0 0 0 0 0 0 0 0 0 0 0 0 0 0 0 0 0 0 0 0 0 0 0 0 0 0 0 0 0 0 0 0 0 0 0 0 0 0 0 0 0 0 0 0 0 0 0 0 0 0 0 0 0 0 0 0 0 0 0 0 0 0 0 0 0 0 0 0 0 0 0 0 0 0 0 0 0 0 0 0 0 0 0 0 0 0 0 0 0 0 0 0 0 0 0 0 0 0 0 0 0 0 0 0 0 0 0 0 0 0 0 0 0 0 0 0 0 0 0 0 0 0 0 0 0 0 0 0 0 0 0 0 0 0 0 0 0 0 0 0 0 0 0 0 0 0 0 0 0 0 0 0 0 0 0 0 0 0 0 0 0 0 0 0 0 0 0 0 0 0 0 0 0 0 0 0 0 0 0 0 0 0 0 0 0 0 0 0 0 0 0 0 0 0 0 0 0 0 0 0 0 0 0 0 0 0 0 0 0 0 0 0 0 0 0 0 0 0 0 0 0 0 0 0 0 0 0 0 0 0 0 0 0 0 0 0 0 0 0 0 0 0 0 0 0 0 0 0 0 0 0 0 0 0 0 0 0 0 0 0 0 0 0 0 0 0 0 0 0 0 0 0 0 0 0 0 0 0 0 0 0 0 0 0 0 0 0 0 0 0 0 0 0 0 0 0 0 0 0 0 0 0 0 0 0 0 0 0 0 0 0 0 0 0 0 0 0 0 0 0 0 0 0 0 0 0 0 0 0 0 0 0 0 0 0 0 0 0 0 0 0 0 0 0 0 0 0 0 0 0 0 0 0 0 0 0 0 0 0 0 0 0 0 0 0 0 0 0 0 0 0 0 0 0 0 0 0 0 0 0 0 0 0 0 0 0 0 0 0 0 0 0 0 0 0 0 0 0 0 0 0 0 0 0 0 0 0 0 0 0 0 0 0 0 0 0 0 0 0 0 0 0 0 0 0 0 0 0 0 0 0 0 0 0 0 0 0 0 0 0 0 0 0 0 0 0 0 0 0 0 0 0 0 0 0 0 0 0 0 0 0 0 0 0 0 0 0 0 0 0 0 0 0 0 0 0 0 0 0 0 0 0 0 0 0 0 0 0 0 0 0 0 0 0 0 0 0 0 0 0 0 0 0 0 0 0 0 0 0 0 0 0 0 0 0 0 0 0 0 0 0 0 0 0 0 0 0 0 0 0 0 0 0 0 0 0 0 0 0 0 0 0 0 0 0 0 0 0 0 0 0 0 0 0 0 0 0 0 0 0 0 0 0 0 0 0 0 0 0 0 0 0 0 0 0 0 0 0 0 0 0 0 0 0 0 0 0 0 0 0 0 0 0 0 0 0 0 0 0 0 0 0 0 0 0 0 0 0 0 0 0 0 0 0 0 0 0 0 0 0 0 0 0 0 0 0 0 0 0 0 0 0 0 0 0 0 0 0 0 0 0 0 0 0 0 0 0 0 0 0 0 0 0 0 0 0 0 0 0 0 0 0 0 0 0 0 0 0 0 0 0 0 0 0 0 0 0 0 0 0 0 0 0 0 0 0 0 0 0 0 0 0 0 0 0 0 0 0 0 0 0 0 0 0 0 0 0 0 0 0 0 0 0 0 0 0 0 0 0 0 0 0 0 0 0 0 0 0 0 0 0 0 0 0 0 0 0 0 0 0 0 0 0 0 0 0 0 0 0 0 0 0 0 0 0 0 0 0 0 0 0 0 0 0 0 0 0 0 0 0 0 0 0 0 0 0 0 0 0 0 0 0 0 0 0 0 0 0 0 0 0 0 0 0 0 0 0 0 0 0 0 0 0 0 0 0 0 0 0 0 0 0 0 0 0 0 0 0 0 0 0 0 0 0 0 0 0 0 0 0 0 0 0 0 0 0 0 0 0 0 0 0 0 0 0 0 0 0 0 0 0 0 0 0 0 0 0 0 0 0 0 0 0 0 0 0 0 0 0 0 0 0 0 0 0 0 0 0 0 0 0 0 0 0 0 0 0 0 0 0 0 0 0 0 0 0 0 0 0 0 0 0 0 0 0 0 0 0 0 0 0 0 0 0 0 0 0 0 0 0 0 0 0 0 0 0 0 0 0 0 0 0 0 0 0 0 0 0 0 0 0 0 0 0 0 0 0 0 0 0 0 0 0 0 0 0 0 0 0 0 0 0 0 0 0 0 0 0 0 0 0 0 0 0 0 0 0 0 0 0 0 0 0 0 0 0 0 0 0 0 0 0 0 0 0 0 0 0 0 0 0 0 0 0 0 0 0 0 0 0 0 0 0 0 0 0 0 0 0 0 0 0 0 0 0 0 0 0 0 0 0 0 0 0 0 0 0 0 0 0 0 0 0 0 0 0 0 0 0 0 0 0 0 0 0 0 0 0 0 0 0 0 0 0 0 0 0 0 0 0 0 0 0 0 0 0 0 0 0 0 0 0 0 0 0 0 0 0 0 0 0 0 0 0 0 0 0 0 0 0 0 0 0 0 0 0 0 0 0 0 0 0 0 0 0 0 0 0 0 0 0 0 0 0 0 0 0 0 0 0 0 0 0 0 0 0 0 0 0 0 0 0 0 0 0 0 0 0 0 0 0 0 0 0 0 0 0 0 0 0 0 0 0 0 0 0 0 0 0 0 0 0 0 0 0 0 0 0 0 0 0 0 0 0 0 0 0 0 0 0 0 0 0 0 0 0 0 0 0 0 0 0 0 0 0 0 0 0 0 0 0 0 0 0 0 0 0 0 0 0 0 0 0 0 0 0 0 0 0 0 0 0 0 0 0 0 0 0 0 0 0 0 0 0 0 0 0 0 0 0 0 0 0 0 0 0 0 0 0 0 0 0 0 0 0 0 0 0 0 0 0 0 0 0 0 0 0 0 0 0 0 0 0 0 0 0 0 0 0 0 0 0 0 0 0 0 0 0 0 0 0 0 0 0 0 0 0 0 0 0 0 0 0 0 0 0 0 0 0 0 0 0 0 0 0 0 0 0 0 0 0 0 0 0 0 0 0 0 0 0 0 0 0 0 0 0 0 0 0 0 0 0 0 0 0 0 0 0 0 0 0 0 0 0 0 0 0 0 0 0 0 0 0 0 0 0 0 0 0 0 0 0 0 0 0 0 0 0 0 0 0 0 0 0 0 0 0 0 0 0 0 0 0 0 0 0 0 0 0 0 0 0 0 0 0 0 0 0 0 0 0 0 0 0 0 0 0 0 0 0 0 0 0 0 0 0 0 0 0 0 0 0 0 0 0 0 0 0 0 0 0 0 0 0 0 0 0 0 0 0 0 0 0 0 0 0 0 0 0 0 0 0 0 0 0 0 0 0 0 0 0 0 0 0 0 0 0 0 0 0 0 0 0 0 0 0 0 0 0 0 0 0 0 0 0 0 0 0 0 0 0 0 0 0 0 0 0 0 0 0 0 0 0 0 0 0 0 0 0 0 0 0 0 0 0 0 0 0 0 0 0 0 0 0 0 0 0 0 0 0 0 0 0 0 0 0 0 0 0 0 0 0 0 0 0 0 0 0 0 0 0 0 0 0 0 0 0 0 0 0 0 0 0 0 0 0 0 0 0 0 0 0 0 0 0 0 0 0 0 0 0 0 0 0 0 0 0 0 0 0 0 0 0 0 0 0 0 0 0 0 0 0 0 0 0 0 0 0 0 0 0 0 0 0 0 0 0 0 0 0 0 0 0 0 0 0 0 0 0 0 0 0 0 0 0 0 0 0 0 0 0 0 0 0 0 0 0 0 0 0 0 0 0 0 0 0 0 0 0 0 0 0 0 0 0 0 0 0 0 0 0 0 0 0 0 0 0 0 0 0 0 0 0 0 0 0 0 0 0 0 0 0 0 0 0 0 0 0 0 0 0 0 0 0 0 0 0 0 0 0 0 0 0 0 0 0 0 0 0 0 0 0 0 0 0 0 0 0 0 0 0 0 0 0 0 0 0 0 0 0 0 0 0 0 0 0 0 0 0 0 0 0 0 0 0 0 0 0 0 0 0 0 0 0 0 0 0 0 0 0 0 0 0 0 0 0 0 0 0 0 0 0 0 0 0 0 0 0 0 0 0 0 0 0 0 0 0 0 0 0 0 0 0 0 0 0 0 0 0 0 0 0 0 0 0 0 0 0 0 0 0 0 0 0 0 0 0 0 0 0 0 0 0 0 0 0 0 0 0 0 0 0 0 0 0 0 0 0 0 0 0 0 0 0 0 0 0 0 0 0 0 0 0 0 0 0 0 0 0 0 0 0 0 0 0 0 0 0 0 0 0 0 0 0 0 0 0 0 0 0 0 0 0 0 0 0 0 0 0 0 0 0 0 0 0 0 0 0 0 0 0 0 0 0 0 0 0 0 0 0 0 0 0 0 0 0 0 0 0 0 0 0 0 0 0 0 0 0 0 0 0 0 0 0 0 0 0 0 0 0 0 0 0 0 0 0 0 0 0 0 0 0 0 0 0 0 0 0 0 0 0 0 0 0 0 0 0 0 0 0 0 0 0 0 0 0 0 0 0 0 0 0 0 0 0 0 0 0 0 0 0 0 0 0 0 0 0 0 0 0 0 0 0 0 0 0 0 0 0 0 0 0 0 0 0 0 0 0 0 0 0 0 0 0 0 0 0 0 0 0 0 0 0 0 0 0 0 0 0 0 0 0 0 0 0 0 0 0 0 0 0 0 0 0 0 0 0 0 0 0 0 0 0 0 0 0 0 0 0 0 0 0 0 0 0 0 0 0 0 0 0 0 0 0 0 0 0 0 0 0 0 0 0 0 0 0 0 0 0 0 0 0 0 0 0 0 0 0 0 0 0 0 0 0 0 0 0 0 0 0 0 0 0 0 0 0 0 0 0 0 0 0 0 0 0 0 0 0 0 0 0 0 0 0 0 0 0 0 0 0 0 0 0 0 0 0 0 0 0 0 0 0 0 0 0 0 0 0 0 0 0 0 0 0 0 0 0 0 0 0 0 0 0 0 0 0 0 0 0 0 0 0 0 0 0 0 0 0 0 0 0 0 0 0 0 0 0 0 0 0 0 0 0 0 0 0 0 0 0 0 0 0 0 0 0 0 0 0 0 0 0 0 0 0 0 0 0 0 0 0 0 0 0 0 0 0 0 0 0 0 0 0 0 0 0 0 0 0 0 0 0 0 0 0 0 0 0 0 0 0 0 0 0 0 0 0 0 0 0 0 0 0 0 0 0 0 0 0 0 0 0 0 0 0 0 0 0 0 0 0 0 0 0 0 0 0 0 0 0 0 0 0 0 0 0 0 0 0 0 0 0 0 0 0 0 0 0 0 0 0 0 0 0 0 0 0 0 0 0 0 0 0 0 0 0 0 0 0 0 0 0 0 0 0 0 0 0 0 0 0 0 0 0 0 0 0 0 0 0 0 0 0 0 0 0 0 0 0 0 0 0 0 0 0 0 0 0 0 0 0 0 0 0 0 0 0 0 0 0 0 0 0 0 0 0 0 0 0 0 0 0 0 0 0 0 0 0 0 0 0 0 0 0 0 0 0 0 0 0 0 0 0 0 0 0 0 0 0 0 0 0 0 0 0 0 0 0 0 0 0 0 0 0 0 0 0 0 0 0 0 0 0 0 0 0 0 0 0 0 0 0 0 0 0 0 0 0 0 0 0 0 0 0 0 0 0 0 0 0 0 0 0 0 0 0 0 0 0 0 0 0 0 0 0 0 0 0 0 0 0 0 0 0 0 0 0 0 0 0 0 0 0 0 0 0 0 0 0 0 0 0 0 0 0 0 0 0 0 0 0 0 0 0 0 0 0 0 0 0 0 0 0 0 0 0 0 0 0 0 0 0 0 0 0 0 0 0 0 0 0 0 0 0 0 0 0 0 0 0 0 0 0 0 0 0 0 0 0 0 0 0 0 0 0 0 0 0 0 0 0 0 0 0 0 0 0 0 0 0 0 0 0 0 0 0 0 0 0 0 0 0 0 0 0 0 0 0 0 0 0 0 0 0 0 0 0 0 0 0 0 0 0 0 0 0 0 0 0 0 0 0 0 0 0 0 0 0 0 0 0 0 0 0 0 0 0 0 0 0 0 0 0 0 0 0 0 0 0 0 0 0 0 0 0 0 0 0 0 0 0 0 0 0 0 0 0 0 0 0 0 0 0 0 0 0 0 0 0 0 0 0 0 0 0 0 0 0 0 0 0 0 0 0 0 0 0 0 0 0 0 0 0 0 0 0 0 0 0 0 0 0 0 0 0 0 0 0 0 0 0 0 0 0 0 0 0 0 0 0 0 0 0 0 0 0 0 0 0 0 0 0 0 0 0 0 0 0 0 0 0 0 0 0 0 0 0 0 0 0 0 0 0 0 0 0 0 0 0 0 0 0 0 0 0 0 0 0 0 0 0 0 0 0 0 0 0 0 0 0 0 0 0 0 0 0 0 0 0 0 0 0 0 0 0 0 0 0 0 0 0 0 0 0 0 0 0 0 0 0 0 0 0 0 0 0 0 0 0 0 0 0 0 0 0 0 0 0 0 0 0 0 0 0 0 0 0 0 0 0 0 0 0 0 0 0 0 0 0 0 0 0 0 0 0 0 0 0 0 0 0 0 0 0 0 0 0 0 0 0 0 0 0 0 0 0 0 0 0 0 0 0 0 0 0 0 0 0 0 0 0 0 0 0 0 0 0 0 0 0 0 0 0 0 0 0 0 0 0 0 0 0 0 0 0 0 0 0 0 0 0 0 0 0 0 0 0 0 0 0 0 0 0 0 0 0 0 0 0 0 0 0 1 0 0\n",
      "5000\n"
     ]
    }
   ],
   "source": [
    "text = \"Hello, ma man! I am great and not late\"\n",
    "print(\"Original:\", text)\n",
    "\n",
    "text_encoded = encoder(text).numpy()\n",
    "print(\"Encoded:\", multi_hot_to_text(text_encoded))\n"
   ]
  },
  {
   "cell_type": "code",
   "execution_count": 11,
   "metadata": {
    "colab": {
     "base_uri": "https://localhost:8080/"
    },
    "id": "szBkmJ9CK5EI",
    "outputId": "b4a35d97-df4c-4bb9-840a-c7b4e8ae182a"
   },
   "outputs": [
    {
     "name": "stdout",
     "output_type": "stream",
     "text": [
      "[1. 1. 1. ... 0. 0. 0.]\n",
      "0\n",
      "\n",
      "[1. 1. 1. ... 0. 0. 0.]\n",
      "0\n",
      "\n",
      "[1. 1. 1. ... 0. 0. 0.]\n",
      "0\n",
      "\n",
      "[1. 1. 1. ... 0. 0. 0.]\n",
      "1\n",
      "\n",
      "[1. 1. 1. ... 0. 0. 0.]\n",
      "1\n",
      "\n",
      "[1. 1. 1. ... 0. 0. 0.]\n",
      "1\n",
      "\n",
      "[1. 1. 1. ... 0. 0. 0.]\n",
      "0\n",
      "\n",
      "[1. 1. 1. ... 0. 0. 0.]\n",
      "0\n",
      "\n"
     ]
    }
   ],
   "source": [
    "for x,y in dataset_train_original.take(8):\n",
    "  x_encoded = encoder(x)\n",
    "  print(x_encoded.numpy())\n",
    "  print(y.numpy())\n",
    "  print(\"\")"
   ]
  },
  {
   "cell_type": "markdown",
   "metadata": {},
   "source": [
    "# 3 - Models"
   ]
  },
  {
   "cell_type": "markdown",
   "metadata": {
    "id": "rSEvV9skgcJb"
   },
   "source": [
    "## 3.1 - Naive Bayes"
   ]
  },
  {
   "cell_type": "code",
   "execution_count": 12,
   "metadata": {
    "id": "04eWKenTgdk6"
   },
   "outputs": [],
   "source": [
    "def dataset_to_numpy(dataset):\n",
    "  x_input = []\n",
    "  y_output = []\n",
    "  for x, y in dataset.batch(2048):\n",
    "    x = encoder(x).numpy()\n",
    "    x_input.extend(x)\n",
    "    y_output.extend(y.numpy())\n",
    "\n",
    "  x_input = np.array(x_input)\n",
    "  y_output = np.array(y_output)\n",
    "  return x_input, y_output\n",
    "\n",
    "x_train, y_train = dataset_to_numpy(dataset_train_original)\n",
    "x_test, y_test = dataset_to_numpy(dataset_test_original)"
   ]
  },
  {
   "cell_type": "code",
   "execution_count": 13,
   "metadata": {
    "colab": {
     "base_uri": "https://localhost:8080/"
    },
    "id": "Pz36ESx7hwIj",
    "outputId": "33975f3e-05d6-498b-889a-c0a3c4c0db9b"
   },
   "outputs": [
    {
     "data": {
      "text/plain": [
       "(array([1., 1., 1., ..., 0., 0., 0.], dtype=float32), 0)"
      ]
     },
     "execution_count": 13,
     "metadata": {},
     "output_type": "execute_result"
    }
   ],
   "source": [
    "x_train[1], y_train[1]"
   ]
  },
  {
   "cell_type": "code",
   "execution_count": 14,
   "metadata": {
    "colab": {
     "base_uri": "https://localhost:8080/"
    },
    "id": "k3XKv6MdiGSB",
    "outputId": "cf6e8a7b-dcd9-4117-b0ac-e65ad181cffc"
   },
   "outputs": [
    {
     "name": "stdout",
     "output_type": "stream",
     "text": [
      "75.83 % accuracy on test.\n"
     ]
    }
   ],
   "source": [
    "model = GaussianNB()\n",
    "model.fit(x_train, y_train)\n",
    "\n",
    "y_pred = model.predict(x_test)\n",
    "correct_predictions = (y_test == y_pred).sum()\n",
    "accuracy = correct_predictions / len(x_test)\n",
    "print(f\"{100*accuracy:.2f} % accuracy on test.\")"
   ]
  },
  {
   "cell_type": "markdown",
   "metadata": {
    "id": "TXmmmyMBkAA7"
   },
   "source": [
    "# 3.2 Multi-Layer Perceptron."
   ]
  },
  {
   "cell_type": "code",
   "execution_count": 15,
   "metadata": {
    "id": "AKKsm1makHR-"
   },
   "outputs": [],
   "source": [
    "dataset_train = dataset_train_original.cache().shuffle(25000).batch(128)\n",
    "dataset_validate = dataset_validate_original.cache().batch(128) # dont shuffle baby"
   ]
  },
  {
   "cell_type": "code",
   "execution_count": 16,
   "metadata": {
    "colab": {
     "base_uri": "https://localhost:8080/"
    },
    "id": "SbXicqlBkwH0",
    "outputId": "92e4c851-09d5-43c8-c98c-9d1e3fe32992"
   },
   "outputs": [
    {
     "name": "stdout",
     "output_type": "stream",
     "text": [
      "Model: \"sequential\"\n",
      "_________________________________________________________________\n",
      " Layer (type)                Output Shape              Param #   \n",
      "=================================================================\n",
      " text_vectorization (TextVe  (None, 5000)              0         \n",
      " ctorization)                                                    \n",
      "                                                                 \n",
      " dropout (Dropout)           (None, 5000)              0         \n",
      "                                                                 \n",
      " dense (Dense)               (None, 64)                320064    \n",
      "                                                                 \n",
      " dropout_1 (Dropout)         (None, 64)                0         \n",
      "                                                                 \n",
      " dense_1 (Dense)             (None, 1)                 65        \n",
      "                                                                 \n",
      "=================================================================\n",
      "Total params: 320129 (1.22 MB)\n",
      "Trainable params: 320129 (1.22 MB)\n",
      "Non-trainable params: 0 (0.00 Byte)\n",
      "_________________________________________________________________\n",
      "Epoch 1/10\n",
      "157/157 [==============================] - 12s 15ms/step - loss: 0.5154 - accuracy: 0.7455 - val_loss: 0.3326 - val_accuracy: 0.8794\n",
      "Epoch 2/10\n",
      "157/157 [==============================] - 2s 13ms/step - loss: 0.3497 - accuracy: 0.8535 - val_loss: 0.2877 - val_accuracy: 0.8838\n",
      "Epoch 3/10\n",
      "157/157 [==============================] - 2s 12ms/step - loss: 0.3180 - accuracy: 0.8711 - val_loss: 0.2791 - val_accuracy: 0.8872\n",
      "Epoch 4/10\n",
      "157/157 [==============================] - 2s 12ms/step - loss: 0.2960 - accuracy: 0.8798 - val_loss: 0.2718 - val_accuracy: 0.8906\n",
      "Epoch 5/10\n",
      "157/157 [==============================] - 3s 16ms/step - loss: 0.2741 - accuracy: 0.8857 - val_loss: 0.2684 - val_accuracy: 0.8918\n",
      "Epoch 6/10\n",
      "157/157 [==============================] - 3s 18ms/step - loss: 0.2623 - accuracy: 0.8934 - val_loss: 0.2676 - val_accuracy: 0.8882\n",
      "Epoch 7/10\n",
      "157/157 [==============================] - 2s 12ms/step - loss: 0.2588 - accuracy: 0.8957 - val_loss: 0.2678 - val_accuracy: 0.8870\n",
      "Epoch 8/10\n",
      "157/157 [==============================] - 2s 14ms/step - loss: 0.2442 - accuracy: 0.9015 - val_loss: 0.2665 - val_accuracy: 0.8880\n",
      "Epoch 9/10\n",
      "157/157 [==============================] - 2s 14ms/step - loss: 0.2379 - accuracy: 0.9026 - val_loss: 0.2669 - val_accuracy: 0.8914\n",
      "Epoch 10/10\n",
      "157/157 [==============================] - 2s 14ms/step - loss: 0.2349 - accuracy: 0.9036 - val_loss: 0.2710 - val_accuracy: 0.8894\n"
     ]
    }
   ],
   "source": [
    "\n",
    "model = models.Sequential()\n",
    "model.add(encoder)\n",
    "model.add(layers.Dropout(0.25))\n",
    "model.add(layers.Dense(64, activation=\"relu\"))\n",
    "model.add(layers.Dropout(0.75))\n",
    "model.add(layers.Dense(1, activation=\"sigmoid\"))\n",
    "model.summary()\n",
    "\n",
    "#model.predict([\"This is a great movie.\"])\n",
    "\n",
    "model.compile(\n",
    "    optimizer = \"adam\",\n",
    "    loss = \"binary_crossentropy\",\n",
    "    metrics = [\"accuracy\"]\n",
    ")\n",
    "\n",
    "history = model.fit(\n",
    "    dataset_train,\n",
    "    epochs = 10,\n",
    "    validation_data = dataset_validate\n",
    ")"
   ]
  },
  {
   "cell_type": "code",
   "execution_count": 17,
   "metadata": {
    "colab": {
     "base_uri": "https://localhost:8080/",
     "height": 887
    },
    "id": "pwNItCKCpHQc",
    "outputId": "a664da38-ba40-4bcb-d99c-598874e21bec"
   },
   "outputs": [
    {
     "data": {
      "image/png": "[encoded data removed]",
      "text/plain": [
       "<Figure size 640x480 with 1 Axes>"
      ]
     },
     "metadata": {},
     "output_type": "display_data"
    },
    {
     "data": {
      "image/png": "[encoded data removed]",
      "text/plain": [
       "<Figure size 640x480 with 1 Axes>"
      ]
     },
     "metadata": {},
     "output_type": "display_data"
    }
   ],
   "source": [
    "history_list = {}\n",
    "history_list[\"Multi-layer Perceptron\"] = history.history\n",
    "render_history(history)"
   ]
  },
  {
   "cell_type": "code",
   "execution_count": 18,
   "metadata": {
    "colab": {
     "base_uri": "https://localhost:8080/"
    },
    "id": "z_KZlXUWuo4a",
    "outputId": "628974db-53da-432b-df9a-9ad03e653829"
   },
   "outputs": [
    {
     "name": "stdout",
     "output_type": "stream",
     "text": [
      "196/196 [==============================] - 2s 12ms/step - loss: 0.2864 - accuracy: 0.8823\n"
     ]
    },
    {
     "data": {
      "text/plain": [
       "[0.28640949726104736, 0.882319986820221]"
      ]
     },
     "execution_count": 18,
     "metadata": {},
     "output_type": "execute_result"
    }
   ],
   "source": [
    "model.evaluate(dataset_test_original.batch(128))"
   ]
  },
  {
   "cell_type": "markdown",
   "metadata": {
    "id": "g40BV6abEI-w"
   },
   "source": [
    "## 3.2 - Word Embeddings"
   ]
  },
  {
   "cell_type": "code",
   "execution_count": 19,
   "metadata": {
    "id": "MCmZ69N7RJB4"
   },
   "outputs": [],
   "source": [
    "vocab_size = 10000\n",
    "sequence_length = 128\n",
    "\n",
    "encoder = layers.TextVectorization(\n",
    "    max_tokens = vocab_size,\n",
    "    output_sequence_length = sequence_length,\n",
    "    standardize = \"lower_and_strip_punctuation\",\n",
    "    split = \"whitespace\",\n",
    "    output_mode=\"int\"\n",
    ")\n",
    "\n",
    "encoder.adapt(\n",
    "    dataset_train_original.map(lambda text, label: text).batch(512)\n",
    ")"
   ]
  },
  {
   "cell_type": "code",
   "execution_count": 20,
   "metadata": {
    "colab": {
     "base_uri": "https://localhost:8080/"
    },
    "id": "p0Zv5hWTRMWn",
    "outputId": "c861d1cc-921b-4046-a6b2-f933ad7b98ba"
   },
   "outputs": [
    {
     "data": {
      "text/plain": [
       "['',\n",
       " '[UNK]',\n",
       " 'the',\n",
       " 'and',\n",
       " 'a',\n",
       " 'of',\n",
       " 'to',\n",
       " 'is',\n",
       " 'in',\n",
       " 'it',\n",
       " 'i',\n",
       " 'this',\n",
       " 'that',\n",
       " 'br',\n",
       " 'was',\n",
       " 'as',\n",
       " 'for',\n",
       " 'with',\n",
       " 'movie',\n",
       " 'but',\n",
       " 'film',\n",
       " 'on',\n",
       " 'not',\n",
       " 'you',\n",
       " 'his',\n",
       " 'are',\n",
       " 'have',\n",
       " 'be',\n",
       " 'he',\n",
       " 'one',\n",
       " 'its',\n",
       " 'at',\n",
       " 'all',\n",
       " 'by',\n",
       " 'an',\n",
       " 'they',\n",
       " 'who',\n",
       " 'from',\n",
       " 'so',\n",
       " 'like',\n",
       " 'her',\n",
       " 'or',\n",
       " 'just',\n",
       " 'about',\n",
       " 'if',\n",
       " 'has',\n",
       " 'out',\n",
       " 'some',\n",
       " 'there',\n",
       " 'what',\n",
       " 'good',\n",
       " 'very',\n",
       " 'when',\n",
       " 'more',\n",
       " 'she',\n",
       " 'my',\n",
       " 'even',\n",
       " 'would',\n",
       " 'up',\n",
       " 'no',\n",
       " 'which',\n",
       " 'time',\n",
       " 'only',\n",
       " 'really',\n",
       " 'story',\n",
       " 'their',\n",
       " 'had',\n",
       " 'were',\n",
       " 'see',\n",
       " 'can',\n",
       " 'me',\n",
       " 'than',\n",
       " 'we',\n",
       " 'much',\n",
       " 'well',\n",
       " 'been',\n",
       " 'get',\n",
       " 'will',\n",
       " 'also',\n",
       " 'do',\n",
       " 'into',\n",
       " 'people',\n",
       " 'other',\n",
       " 'because',\n",
       " 'bad',\n",
       " 'first',\n",
       " 'great',\n",
       " 'how',\n",
       " 'most',\n",
       " 'him',\n",
       " 'dont',\n",
       " 'then',\n",
       " 'made',\n",
       " 'movies',\n",
       " 'make',\n",
       " 'could',\n",
       " 'films',\n",
       " 'way',\n",
       " 'any',\n",
       " 'them']"
      ]
     },
     "execution_count": 20,
     "metadata": {},
     "output_type": "execute_result"
    }
   ],
   "source": [
    "encoder.get_vocabulary()[:100]"
   ]
  },
  {
   "cell_type": "code",
   "execution_count": 21,
   "metadata": {
    "colab": {
     "base_uri": "https://localhost:8080/"
    },
    "id": "eGSEg3IxRknA",
    "outputId": "bbcd1147-d874-4eb1-ed25-27951f0a5f12"
   },
   "outputs": [
    {
     "name": "stdout",
     "output_type": "stream",
     "text": [
      "Original Here is another great example of text, words and bullshizles\n",
      "Word indices 132, 7, 154, 86, 459, 5, 2958, 653, 3, 1, 0, 0, 0, 0, 0, 0, 0, 0, 0, 0, 0, 0, 0, 0, 0, 0, 0, 0, 0, 0, 0, 0, 0, 0, 0, 0, 0, 0, 0, 0, 0, 0, 0, 0, 0, 0, 0, 0, 0, 0, 0, 0, 0, 0, 0, 0, 0, 0, 0, 0, 0, 0, 0, 0, 0, 0, 0, 0, 0, 0, 0, 0, 0, 0, 0, 0, 0, 0, 0, 0, 0, 0, 0, 0, 0, 0, 0, 0, 0, 0, 0, 0, 0, 0, 0, 0, 0, 0, 0, 0, 0, 0, 0, 0, 0, 0, 0, 0, 0, 0, 0, 0, 0, 0, 0, 0, 0, 0, 0, 0, 0, 0, 0, 0, 0, 0, 0, 0\n",
      "Decoded here is another great example of text words and [UNK]                                                                                                                      \n"
     ]
    }
   ],
   "source": [
    "text = \"Here is another great example of text, words and bullshizles\"\n",
    "print(\"Original\", text)\n",
    "\n",
    "text_encoded = encoder(text)\n",
    "print(\"Word indices\", index_sequence_to_string(text_encoded.numpy()))\n",
    "\n",
    "\n",
    "text_decoded = decode(encoder,text_encoded)\n",
    "print(\"Decoded\", text_decoded)"
   ]
  },
  {
   "cell_type": "code",
   "execution_count": 22,
   "metadata": {
    "colab": {
     "base_uri": "https://localhost:8080/"
    },
    "id": "Q6YMPEsnSUhI",
    "outputId": "27e1296a-9551-4152-974c-7c5c1a80ede5"
   },
   "outputs": [
    {
     "name": "stdout",
     "output_type": "stream",
     "text": [
      "[  11   14   34  411  376   18   90   27    1    8   33 1322 4160   41\n",
      "  501    1  193   25   86  152   19   11  216  316   27   65  241  213\n",
      "    8  485   56   65   86  115   95   22 5688   11   93  635  739   11\n",
      "   18    7   34  396 9900  169 2483  409    2   88 1205  137   67  144\n",
      "   52    2    1 7103   67  245   65 2939   16    1 2795    1    1 1441\n",
      " 5059    3   40    1 1659   17 4160   14  156   19    4 1205  853 7814\n",
      "    8    4   18   12   14 3839    5   98  146 1222   10  231  683   12\n",
      "   48   25   93   39   11 7523  152   39 1322    1   50  408   10   95\n",
      " 1157  845  140    9    0    0    0    0    0    0    0    0    0    0\n",
      "    0    0]\n",
      "0\n",
      "[  10   26   75  622    6  779 2359  297   96   19   11    7  602  670\n",
      "    6    4 2158    5  181  581   63 1353  107 2308    3 3882   21    2\n",
      "    1    3  248   42 4729    4  170  189   21   11 4476   10 1512 2359\n",
      "   83    2   20   14 1855    2  112  963   14 1764 1352  592    3  351\n",
      "  181  447    6  584   19   17   59 1786    5   49   14 4209   99   41\n",
      "  135   10  934   10  199   26 1022  171    5    2   20   19   10  284\n",
      "    2 2074    5    9    3  278   42  447    6  584    5   30  194    1\n",
      "  203   98  146 4784   16  226  326   10  175  371   11   20   31   32\n",
      "    0    0    0    0    0    0    0    0    0    0    0    0    0    0\n",
      "    0    0]\n",
      "0\n",
      "[4246 6027    2    1 4857 3754    8    4  906 1610    3 1944 1297    3\n",
      " 2161 9041  196  740  341   15   35  202  289    6   79   13   13   19\n",
      "  209   21  355    4    1 1015    2   81    5 4203  542    1    6    1\n",
      "  519    4    1  426    4    1    3    6    1    2 1374  519   91    1\n",
      " 9297    9   46   21    2 1910   16 1164    5    2  511   13   13  156\n",
      "   56 2545 6979   12  560   21    2 2148  510    5    2 3843  297    2\n",
      "    1 1992 3273  441 4246    3 1150  935    6   26 4066 4203  542   16\n",
      "    1    2 2148 2424   16    2  310 1258    1   13 2148  722   27 2858\n",
      "   16    4    1 3193  577    5  740    1   17   11 2832  112   41    6\n",
      " 4463  123]\n",
      "0\n",
      "[  11    7    2  239    5   20   16    4 8103 2600 2598   52    2  343\n",
      "    5    2  187   69  138 1445   17   30  194  985   15   23    1   80\n",
      "    4  195    1    3    1   16    4  377    5  601  365  341   37 7738\n",
      "    3 5555 1883   15  202 8020 3493    2  112  358   48   25   59    1\n",
      "    6 2086   59 1816 3930   42    4 2308    3 1909    1  140  155  764\n",
      "  118   31   30  116    4  222   20    8  168  280    3   29   12  991\n",
      "    2 2925    9 1857    0    0    0    0    0    0    0    0    0    0\n",
      "    0    0    0    0    0    0    0    0    0    0    0    0    0    0\n",
      "    0    0    0    0    0    0    0    0    0    0    0    0    0    0\n",
      "    0    0]\n",
      "1\n",
      "[  15  374   26 1042   32    2  369   12  138 2620    8   11   20   25\n",
      "  631  411 1458    2  112   51    1  265    2    1    5    2  666    1\n",
      "   52  345   25  184   35  179    6   27 6334   19   52   59  345   25\n",
      "  184   35  401    2    1    5    4 2574  335  162  460    3    2  460\n",
      "  443    4  134   63  832   72  139   32   27   38 2091   31   11  580\n",
      "   28   91  206   58    2 3090    6 5934   24  276  113    0    0    0\n",
      "    0    0    0    0    0    0    0    0    0    0    0    0    0    0\n",
      "    0    0    0    0    0    0    0    0    0    0    0    0    0    0\n",
      "    0    0    0    0    0    0    0    0    0    0    0    0    0    0\n",
      "    0    0]\n",
      "1\n",
      "[  11    7    4   20   60  139   27  110   33 1736  903    8    1   33\n",
      "   41 2186   37   34 2054 6072    9    7   34 2707 1788    3 2631 1123\n",
      "    5    1    8    4 1577  249   30 2847    3   30    1    2  249    7\n",
      "  254   33   29    5    2   88  520  180 1542  774    8  449  661 4968\n",
      "    1   36   14  296   38 2128    8  114    2  869 1757   10   57  371\n",
      "   12   11   20   27  604    8   32 4802   15   23   77  109   68    4\n",
      "  124   21   11  874 4968    1    7  411 1284    3   29    1   31   40\n",
      " 1197    6 2662    2 8082    5    4  249 2186   37   11    1 6072   44\n",
      "    1  357  169    2  980 4863 4968    1  677  169    2  853 4863   17\n",
      "    2  165]\n",
      "1\n",
      "[ 858   23    1   13 6876 4774   15  710    1    1    1    5 1873  417\n",
      "  548  128    8    2   85  133  176  207 1605   11  119   45   59    1\n",
      "   13  759    1   15 7670 4084    1   37    2   85  338    3  151    2\n",
      "    1 1535    5    2    1   13 9198    1   15    2    1  743    5    2\n",
      "    1  965  149 1093   71    2 4084    3  965  149  503   40  194 2484\n",
      "   19  125    1 8825 8469   22 1912  191    6   26    4    1   21    2\n",
      "  510   30 2761   35   26    1    1  370 1809    3    1   35  233   56\n",
      "  258 2279   16  938  125  417    1    5    2 4084  191    6   26  286\n",
      "    1   40  194  580   49    4    1   13  595    1   15  286    1 1245\n",
      "   15    1]\n",
      "0\n",
      "[   2   20    7  435   21    4 1985 1990    1   13 3989 5798    1 1074\n",
      "    4  277    5  285 1228 2605 1513    1  542    5    1    3  441  113\n",
      "    3 1345   10   26  324   32  285    2   85  105   25  314    2  223\n",
      "  372   34 2992   12  117   22  209  128   19    1  160    7  536 5996\n",
      "    3 7799   38   11  623    7    2    1 1994 1695    6   68    2    1\n",
      "    5  513  347  107  664   80    4    1    1    1 4532    1    5    4\n",
      "   20   12  534    9 2182    2 1134    5 1990 1228    3  121  156    5\n",
      "    2    1   13 1217 4544 5798    1  267 1243    6 2342    9    0    0\n",
      "    0    0    0    0    0    0    0    0    0    0    0    0    0    0\n",
      "    0    0]\n",
      "0\n"
     ]
    }
   ],
   "source": [
    "for x, y in dataset_train_original.take(8):\n",
    "  x_encoded = encoder(x).numpy()\n",
    "  print(x_encoded)\n",
    "  print(y.numpy())"
   ]
  },
  {
   "cell_type": "code",
   "execution_count": 23,
   "metadata": {
    "colab": {
     "base_uri": "https://localhost:8080/",
     "height": 1000
    },
    "id": "y2EUEH_ZUbix",
    "outputId": "c17e342c-1810-444a-f398-bbe0ee1d0742"
   },
   "outputs": [
    {
     "name": "stdout",
     "output_type": "stream",
     "text": [
      "Model: \"sequential_1\"\n",
      "_________________________________________________________________\n",
      " Layer (type)                Output Shape              Param #   \n",
      "=================================================================\n",
      " text_vectorization_1 (Text  (None, 128)               0         \n",
      " Vectorization)                                                  \n",
      "                                                                 \n",
      " embedding (Embedding)       (None, 128, 32)           320000    \n",
      "                                                                 \n",
      " flatten (Flatten)           (None, 4096)              0         \n",
      "                                                                 \n",
      " dense_2 (Dense)             (None, 512)               2097664   \n",
      "                                                                 \n",
      " dense_3 (Dense)             (None, 1)                 513       \n",
      "                                                                 \n",
      "=================================================================\n",
      "Total params: 2418177 (9.22 MB)\n",
      "Trainable params: 2418177 (9.22 MB)\n",
      "Non-trainable params: 0 (0.00 Byte)\n",
      "_________________________________________________________________\n",
      "Epoch 1/10\n",
      "157/157 [==============================] - 21s 129ms/step - loss: 0.5244 - accuracy: 0.7172 - val_loss: 0.3818 - val_accuracy: 0.8328\n",
      "Epoch 2/10\n",
      "157/157 [==============================] - 17s 108ms/step - loss: 0.1779 - accuracy: 0.9330 - val_loss: 0.4638 - val_accuracy: 0.8066\n",
      "Epoch 3/10\n",
      "157/157 [==============================] - 8s 53ms/step - loss: 0.0218 - accuracy: 0.9952 - val_loss: 0.6394 - val_accuracy: 0.8174\n",
      "Epoch 4/10\n",
      "157/157 [==============================] - 9s 59ms/step - loss: 0.0023 - accuracy: 0.9999 - val_loss: 0.7034 - val_accuracy: 0.8170\n",
      "Epoch 5/10\n",
      "157/157 [==============================] - 4s 26ms/step - loss: 6.8654e-04 - accuracy: 1.0000 - val_loss: 0.7346 - val_accuracy: 0.8182\n",
      "Epoch 6/10\n",
      "157/157 [==============================] - 3s 21ms/step - loss: 3.9823e-04 - accuracy: 1.0000 - val_loss: 0.7614 - val_accuracy: 0.8182\n",
      "Epoch 7/10\n",
      "157/157 [==============================] - 4s 28ms/step - loss: 2.7575e-04 - accuracy: 1.0000 - val_loss: 0.7829 - val_accuracy: 0.8186\n",
      "Epoch 8/10\n",
      "157/157 [==============================] - 3s 20ms/step - loss: 2.0219e-04 - accuracy: 1.0000 - val_loss: 0.8019 - val_accuracy: 0.8180\n",
      "Epoch 9/10\n",
      "157/157 [==============================] - 3s 20ms/step - loss: 1.5553e-04 - accuracy: 1.0000 - val_loss: 0.8181 - val_accuracy: 0.8186\n",
      "Epoch 10/10\n",
      "157/157 [==============================] - 4s 28ms/step - loss: 1.2177e-04 - accuracy: 1.0000 - val_loss: 0.8329 - val_accuracy: 0.8184\n"
     ]
    },
    {
     "data": {
      "image/png": "[encoded data removed]",
      "text/plain": [
       "<Figure size 640x480 with 1 Axes>"
      ]
     },
     "metadata": {},
     "output_type": "display_data"
    },
    {
     "data": {
      "image/png": "[encoded data removed]",
      "text/plain": [
       "<Figure size 640x480 with 1 Axes>"
      ]
     },
     "metadata": {},
     "output_type": "display_data"
    }
   ],
   "source": [
    "model = models.Sequential()\n",
    "model.add(encoder)\n",
    "model.add(layers.Embedding(input_dim=vocab_size, output_dim=32))\n",
    "model.add(layers.Flatten())\n",
    "model.add(layers.Dense(512, \"relu\"))\n",
    "model.add(layers.Dense(1, \"sigmoid\"))\n",
    "model.summary()\n",
    "\n",
    "model.compile(\n",
    "    optimizer='adam',\n",
    "    loss = 'binary_crossentropy',\n",
    "    metrics=['accuracy']\n",
    ")\n",
    "\n",
    "history= model.fit(\n",
    "    dataset_train,\n",
    "    epochs=10,\n",
    "    validation_data=dataset_validate\n",
    ")\n",
    "\n",
    "history_list[\"Word Embeddings\"] = history.history\n",
    "render_history(history)"
   ]
  },
  {
   "cell_type": "markdown",
   "metadata": {
    "id": "HePSLk3ioSmf"
   },
   "source": [
    "## 3.3 - LSTM"
   ]
  },
  {
   "cell_type": "code",
   "execution_count": 25,
   "metadata": {
    "colab": {
     "base_uri": "https://localhost:8080/",
     "height": 1000
    },
    "id": "fc52SEQaojWv",
    "outputId": "0a9635e6-8995-442a-9c58-c54e57651377"
   },
   "outputs": [
    {
     "name": "stdout",
     "output_type": "stream",
     "text": [
      "Model: \"sequential_3\"\n",
      "_________________________________________________________________\n",
      " Layer (type)                Output Shape              Param #   \n",
      "=================================================================\n",
      " text_vectorization_1 (Text  (None, 128)               0         \n",
      " Vectorization)                                                  \n",
      "                                                                 \n",
      " embedding_1 (Embedding)     (None, 128, 32)           320000    \n",
      "                                                                 \n",
      " lstm (LSTM)                 (None, 64)                24832     \n",
      "                                                                 \n",
      " dense_4 (Dense)             (None, 1)                 65        \n",
      "                                                                 \n",
      "=================================================================\n",
      "Total params: 344897 (1.32 MB)\n",
      "Trainable params: 344897 (1.32 MB)\n",
      "Non-trainable params: 0 (0.00 Byte)\n",
      "_________________________________________________________________\n",
      "Epoch 1/10\n",
      "157/157 [==============================] - 31s 177ms/step - loss: 0.5465 - accuracy: 0.6913 - val_loss: 0.3789 - val_accuracy: 0.8424\n",
      "Epoch 2/10\n",
      "157/157 [==============================] - 10s 63ms/step - loss: 0.3114 - accuracy: 0.8767 - val_loss: 0.3802 - val_accuracy: 0.8446\n",
      "Epoch 3/10\n",
      "157/157 [==============================] - 8s 53ms/step - loss: 0.2345 - accuracy: 0.9151 - val_loss: 0.3583 - val_accuracy: 0.8406\n",
      "Epoch 4/10\n",
      "157/157 [==============================] - 5s 33ms/step - loss: 0.1894 - accuracy: 0.9349 - val_loss: 0.4308 - val_accuracy: 0.8398\n",
      "Epoch 5/10\n",
      "157/157 [==============================] - 6s 40ms/step - loss: 0.1506 - accuracy: 0.9501 - val_loss: 0.5242 - val_accuracy: 0.8310\n",
      "Epoch 6/10\n",
      "157/157 [==============================] - 5s 33ms/step - loss: 0.1231 - accuracy: 0.9604 - val_loss: 0.4429 - val_accuracy: 0.8296\n",
      "Epoch 7/10\n",
      "157/157 [==============================] - 5s 34ms/step - loss: 0.1045 - accuracy: 0.9668 - val_loss: 0.5043 - val_accuracy: 0.8348\n",
      "Epoch 8/10\n",
      "157/157 [==============================] - 4s 28ms/step - loss: 0.1192 - accuracy: 0.9628 - val_loss: 0.6469 - val_accuracy: 0.8244\n",
      "Epoch 9/10\n",
      "157/157 [==============================] - 4s 26ms/step - loss: 0.0859 - accuracy: 0.9736 - val_loss: 0.6466 - val_accuracy: 0.8292\n",
      "Epoch 10/10\n",
      "157/157 [==============================] - 4s 28ms/step - loss: 0.0694 - accuracy: 0.9794 - val_loss: 0.6353 - val_accuracy: 0.8228\n"
     ]
    },
    {
     "data": {
      "image/png": "[encoded data removed]",
      "text/plain": [
       "<Figure size 640x480 with 1 Axes>"
      ]
     },
     "metadata": {},
     "output_type": "display_data"
    },
    {
     "data": {
      "image/png": "[encoded data removed]",
      "text/plain": [
       "<Figure size 640x480 with 1 Axes>"
      ]
     },
     "metadata": {},
     "output_type": "display_data"
    }
   ],
   "source": [
    "model = models.Sequential()\n",
    "model.add(encoder)\n",
    "model.add(layers.Embedding(input_dim=vocab_size,output_dim=32))\n",
    "model.add(layers.LSTM(64))\n",
    "model.add(layers.Dense(1, activation=\"sigmoid\"))\n",
    "model.summary()\n",
    "\n",
    "\n",
    "model.compile(\n",
    "    optimizer = \"adam\",\n",
    "    loss = \"binary_crossentropy\",\n",
    "    metrics = [\"accuracy\"]\n",
    ")\n",
    "\n",
    "history = model.fit(\n",
    "    dataset_train,\n",
    "    epochs = 10,\n",
    "    validation_data = dataset_validate\n",
    ")\n",
    "\n",
    "\n",
    "\n",
    "history_list[\"LSTM\"] = history.history\n",
    "render_history(history)"
   ]
  },
  {
   "cell_type": "markdown",
   "metadata": {},
   "source": [
    "## 3.3 NLP Transformer"
   ]
  },
  {
   "cell_type": "code",
   "execution_count": 26,
   "metadata": {
    "id": "UgTRd1HXHPfr"
   },
   "outputs": [],
   "source": [
    "from TransformerEncoder import TransformerEncoder"
   ]
  },
  {
   "cell_type": "code",
   "execution_count": 27,
   "metadata": {
    "id": "6zSdtdWujxi_"
   },
   "outputs": [],
   "source": [
    "dataset_train = dataset_train_original.map(lambda text, label: (encoder(text), label))\n",
    "dataset_train = dataset_train.cache()\n",
    "dataset_train = dataset_train.shuffle(25000)\n",
    "dataset_train = dataset_train.batch(128)\n",
    "\n",
    "dataset_validate = dataset_validate_original.map(lambda text, label: (encoder(text), label))\n",
    "dataset_validate = dataset_validate.cache()\n",
    "dataset_validate = dataset_validate.batch(128)"
   ]
  },
  {
   "cell_type": "code",
   "execution_count": 29,
   "metadata": {
    "colab": {
     "base_uri": "https://localhost:8080/"
    },
    "id": "o_OrdnC2jz26",
    "outputId": "4d4f7ae9-f5b5-40f2-a871-0f40d3c136ec"
   },
   "outputs": [
    {
     "name": "stdout",
     "output_type": "stream",
     "text": [
      "Model: \"sequential_5\"\n",
      "_________________________________________________________________\n",
      " Layer (type)                Output Shape              Param #   \n",
      "=================================================================\n",
      " embedding_2 (Embedding)     (None, 128, 256)          2560000   \n",
      "                                                                 \n",
      " transformer_encoder (Trans  (None, 128, 256)          543776    \n",
      " formerEncoder)                                                  \n",
      "                                                                 \n",
      " global_max_pooling1d (Glob  (None, 256)               0         \n",
      " alMaxPooling1D)                                                 \n",
      "                                                                 \n",
      " dropout_2 (Dropout)         (None, 256)               0         \n",
      "                                                                 \n",
      " dense_7 (Dense)             (None, 1)                 257       \n",
      "                                                                 \n",
      "=================================================================\n",
      "Total params: 3104033 (11.84 MB)\n",
      "Trainable params: 3104033 (11.84 MB)\n",
      "Non-trainable params: 0 (0.00 Byte)\n",
      "_________________________________________________________________\n",
      "Epoch 1/10\n",
      "157/157 [==============================] - 30s 115ms/step - loss: 0.6079 - accuracy: 0.7169 - val_loss: 0.3785 - val_accuracy: 0.8356\n",
      "Epoch 2/10\n",
      "157/157 [==============================] - 13s 80ms/step - loss: 0.3354 - accuracy: 0.8558 - val_loss: 0.3757 - val_accuracy: 0.8350\n",
      "Epoch 3/10\n",
      "157/157 [==============================] - 9s 60ms/step - loss: 0.2404 - accuracy: 0.9002 - val_loss: 0.3685 - val_accuracy: 0.8436\n",
      "Epoch 4/10\n",
      "157/157 [==============================] - 9s 56ms/step - loss: 0.1792 - accuracy: 0.9272 - val_loss: 0.4005 - val_accuracy: 0.8432\n",
      "Epoch 5/10\n",
      "157/157 [==============================] - 7s 46ms/step - loss: 0.1382 - accuracy: 0.9460 - val_loss: 0.4454 - val_accuracy: 0.8366\n",
      "Epoch 6/10\n",
      "157/157 [==============================] - 7s 45ms/step - loss: 0.1068 - accuracy: 0.9582 - val_loss: 0.5746 - val_accuracy: 0.8250\n",
      "Epoch 7/10\n",
      "157/157 [==============================] - 7s 45ms/step - loss: 0.0873 - accuracy: 0.9675 - val_loss: 0.7025 - val_accuracy: 0.8230\n",
      "Epoch 8/10\n",
      "157/157 [==============================] - 7s 43ms/step - loss: 0.0683 - accuracy: 0.9736 - val_loss: 0.7900 - val_accuracy: 0.8120\n",
      "Epoch 9/10\n",
      "157/157 [==============================] - 7s 43ms/step - loss: 0.0574 - accuracy: 0.9779 - val_loss: 0.7873 - val_accuracy: 0.8158\n",
      "Epoch 10/10\n",
      "157/157 [==============================] - 7s 44ms/step - loss: 0.0433 - accuracy: 0.9842 - val_loss: 0.9236 - val_accuracy: 0.8182\n"
     ]
    }
   ],
   "source": [
    "model = models.Sequential()\n",
    "model.add(layers.Embedding(\n",
    "    input_dim=vocab_size, output_dim = 256, input_length = sequence_length)\n",
    ")\n",
    "model.add(TransformerEncoder(embed_dim=256, dense_dim=32, num_heads=2))\n",
    "model.add(layers.GlobalMaxPooling1D())\n",
    "model.add(layers.Dropout(0.5))\n",
    "model.add(layers.Dense(1, activation=\"sigmoid\"))\n",
    "model.summary()\n",
    "\n",
    "model.compile(\n",
    "    optimizer = \"adam\",\n",
    "    loss = \"binary_crossentropy\",\n",
    "    metrics=[\"accuracy\"]\n",
    ")\n",
    "history = model.fit(\n",
    "     dataset_train,\n",
    "     epochs = 10,\n",
    "     validation_data = dataset_validate\n",
    " )\n"
   ]
  },
  {
   "cell_type": "code",
   "execution_count": 30,
   "metadata": {
    "colab": {
     "base_uri": "https://localhost:8080/",
     "height": 887
    },
    "id": "jJzUE9_3j48J",
    "outputId": "6add9336-d387-4b83-907c-08f72922818c"
   },
   "outputs": [
    {
     "data": {
      "image/png": "[encoded data removed]",
      "text/plain": [
       "<Figure size 640x480 with 1 Axes>"
      ]
     },
     "metadata": {},
     "output_type": "display_data"
    },
    {
     "data": {
      "image/png": "[encoded data removed]",
      "text/plain": [
       "<Figure size 640x480 with 1 Axes>"
      ]
     },
     "metadata": {},
     "output_type": "display_data"
    }
   ],
   "source": [
    "history_list[\"Transformer\"] = history.history\n",
    "render_history(history)"
   ]
  },
  {
   "cell_type": "markdown",
   "metadata": {},
   "source": [
    "## 3.4 Transformer with positional embeddings"
   ]
  },
  {
   "cell_type": "code",
   "execution_count": 31,
   "metadata": {
    "id": "o_9fz-fZkyxI"
   },
   "outputs": [],
   "source": [
    "from PositionalEmbedding import PositionalEmbedding"
   ]
  },
  {
   "cell_type": "code",
   "execution_count": 33,
   "metadata": {
    "colab": {
     "base_uri": "https://localhost:8080/"
    },
    "id": "QGlDV3-pk9I5",
    "outputId": "abf731d5-2730-49f3-c59f-7f43b1dce418"
   },
   "outputs": [
    {
     "name": "stdout",
     "output_type": "stream",
     "text": [
      "Model: \"sequential_8\"\n",
      "_________________________________________________________________\n",
      " Layer (type)                Output Shape              Param #   \n",
      "=================================================================\n",
      " positional_embedding (Posi  (None, 128, 256)          2592768   \n",
      " tionalEmbedding)                                                \n",
      "                                                                 \n",
      " transformer_encoder_1 (Tra  (None, 128, 256)          543776    \n",
      " nsformerEncoder)                                                \n",
      "                                                                 \n",
      " global_max_pooling1d_1 (Gl  (None, 256)               0         \n",
      " obalMaxPooling1D)                                               \n",
      "                                                                 \n",
      " dropout_3 (Dropout)         (None, 256)               0         \n",
      "                                                                 \n",
      " dense_10 (Dense)            (None, 1)                 257       \n",
      "                                                                 \n",
      "=================================================================\n",
      "Total params: 3136801 (11.97 MB)\n",
      "Trainable params: 3136801 (11.97 MB)\n",
      "Non-trainable params: 0 (0.00 Byte)\n",
      "_________________________________________________________________\n",
      "Epoch 1/10\n",
      "157/157 [==============================] - 23s 112ms/step - loss: 0.7016 - accuracy: 0.6298 - val_loss: 0.4115 - val_accuracy: 0.8050\n",
      "Epoch 2/10\n",
      "157/157 [==============================] - 12s 75ms/step - loss: 0.3295 - accuracy: 0.8605 - val_loss: 0.3514 - val_accuracy: 0.8466\n",
      "Epoch 3/10\n",
      "157/157 [==============================] - 9s 56ms/step - loss: 0.2259 - accuracy: 0.9095 - val_loss: 0.3685 - val_accuracy: 0.8438\n",
      "Epoch 4/10\n",
      "157/157 [==============================] - 8s 50ms/step - loss: 0.1548 - accuracy: 0.9395 - val_loss: 0.4377 - val_accuracy: 0.8420\n",
      "Epoch 5/10\n",
      "157/157 [==============================] - 8s 50ms/step - loss: 0.1076 - accuracy: 0.9599 - val_loss: 0.5626 - val_accuracy: 0.8346\n",
      "Epoch 6/10\n",
      "157/157 [==============================] - 7s 45ms/step - loss: 0.0782 - accuracy: 0.9703 - val_loss: 0.6230 - val_accuracy: 0.8242\n",
      "Epoch 7/10\n",
      "157/157 [==============================] - 7s 46ms/step - loss: 0.0635 - accuracy: 0.9755 - val_loss: 0.7154 - val_accuracy: 0.8250\n",
      "Epoch 8/10\n",
      "157/157 [==============================] - 7s 45ms/step - loss: 0.0445 - accuracy: 0.9821 - val_loss: 0.8348 - val_accuracy: 0.8230\n",
      "Epoch 9/10\n",
      "157/157 [==============================] - 7s 48ms/step - loss: 0.0418 - accuracy: 0.9855 - val_loss: 0.7343 - val_accuracy: 0.8130\n",
      "Epoch 10/10\n",
      "157/157 [==============================] - 6s 40ms/step - loss: 0.0338 - accuracy: 0.9887 - val_loss: 0.9121 - val_accuracy: 0.8082\n"
     ]
    }
   ],
   "source": [
    "model = models.Sequential()\n",
    "model.add(layers.Input(shape=(sequence_length, ), dtype=\"int64\"))\n",
    "model.add(PositionalEmbedding(\n",
    "    input_dim=vocab_size, output_dim = 256, sequence_length=sequence_length\n",
    ")\n",
    "          )\n",
    "model.add(TransformerEncoder(embed_dim=256, dense_dim=32, num_heads=2))\n",
    "model.add(layers.GlobalMaxPooling1D())\n",
    "model.add(layers.Dropout(0.5))\n",
    "model.add(layers.Dense(1, activation=\"sigmoid\"))\n",
    "model.summary()\n",
    "\n",
    "model.compile(\n",
    "    optimizer = \"adam\",\n",
    "    loss = \"binary_crossentropy\",\n",
    "    metrics=[\"accuracy\"]\n",
    ")\n",
    "history = model.fit(\n",
    "     dataset_train,\n",
    "     epochs = 10,\n",
    "     validation_data = dataset_validate\n",
    " )\n"
   ]
  },
  {
   "cell_type": "code",
   "execution_count": 34,
   "metadata": {
    "colab": {
     "base_uri": "https://localhost:8080/",
     "height": 887
    },
    "id": "LQvYG-K5lBm_",
    "outputId": "37616a4c-8715-4fde-d77b-d0372824c5e6"
   },
   "outputs": [
    {
     "data": {
      "image/png": "[encoded data removed]",
      "text/plain": [
       "<Figure size 640x480 with 1 Axes>"
      ]
     },
     "metadata": {},
     "output_type": "display_data"
    },
    {
     "data": {
      "image/png": "[encoded data removed]",
      "text/plain": [
       "<Figure size 640x480 with 1 Axes>"
      ]
     },
     "metadata": {},
     "output_type": "display_data"
    }
   ],
   "source": [
    "history_list[\"Transformer_positional_embedding\"] = history.history\n",
    "render_history(history)"
   ]
  },
  {
   "cell_type": "markdown",
   "metadata": {},
   "source": [
    "# 4 - Results: Validation accuracy per model"
   ]
  },
  {
   "cell_type": "code",
   "execution_count": 35,
   "metadata": {
    "colab": {
     "base_uri": "https://localhost:8080/",
     "height": 452
    },
    "id": "NzytQru6orDb",
    "outputId": "117b6fa7-8f38-411d-d537-97991d695ada"
   },
   "outputs": [
    {
     "data": {
      "image/png": "[encoded data removed]",
      "text/plain": [
       "<Figure size 640x480 with 1 Axes>"
      ]
     },
     "metadata": {},
     "output_type": "display_data"
    }
   ],
   "source": [
    "compare_histories(history_list)"
   ]
  }
 ],
 "metadata": {
  "accelerator": "GPU",
  "colab": {
   "provenance": []
  },
  "kernelspec": {
   "display_name": "Python 3 (ipykernel)",
   "language": "python",
   "name": "python3"
  },
  "language_info": {
   "codemirror_mode": {
    "name": "ipython",
    "version": 3
   },
   "file_extension": ".py",
   "mimetype": "text/x-python",
   "name": "python",
   "nbconvert_exporter": "python",
   "pygments_lexer": "ipython3",
   "version": "3.9.16"
  },
  "widgets": {
   "application/vnd.jupyter.widget-state+json": {
    "00143cf5fdbe4fa0a7d6cb36f4f6a471": {
     "model_module": "@jupyter-widgets/controls",
     "model_module_version": "1.5.0",
     "model_name": "DescriptionStyleModel",
     "state": {
      "_model_module": "@jupyter-widgets/controls",
      "_model_module_version": "1.5.0",
      "_model_name": "DescriptionStyleModel",
      "_view_count": null,
      "_view_module": "@jupyter-widgets/base",
      "_view_module_version": "1.2.0",
      "_view_name": "StyleView",
      "description_width": ""
     }
    },
    "06330243516148a4b0e7b277d903d2ab": {
     "model_module": "@jupyter-widgets/base",
     "model_module_version": "1.2.0",
     "model_name": "LayoutModel",
     "state": {
      "_model_module": "@jupyter-widgets/base",
      "_model_module_version": "1.2.0",
      "_model_name": "LayoutModel",
      "_view_count": null,
      "_view_module": "@jupyter-widgets/base",
      "_view_module_version": "1.2.0",
      "_view_name": "LayoutView",
      "align_content": null,
      "align_items": null,
      "align_self": null,
      "border": null,
      "bottom": null,
      "display": null,
      "flex": null,
      "flex_flow": null,
      "grid_area": null,
      "grid_auto_columns": null,
      "grid_auto_flow": null,
      "grid_auto_rows": null,
      "grid_column": null,
      "grid_gap": null,
      "grid_row": null,
      "grid_template_areas": null,
      "grid_template_columns": null,
      "grid_template_rows": null,
      "height": null,
      "justify_content": null,
      "justify_items": null,
      "left": null,
      "margin": null,
      "max_height": null,
      "max_width": null,
      "min_height": null,
      "min_width": null,
      "object_fit": null,
      "object_position": null,
      "order": null,
      "overflow": null,
      "overflow_x": null,
      "overflow_y": null,
      "padding": null,
      "right": null,
      "top": null,
      "visibility": null,
      "width": null
     }
    },
    "068ae52c7363435ea9187278f72603ea": {
     "model_module": "@jupyter-widgets/controls",
     "model_module_version": "1.5.0",
     "model_name": "ProgressStyleModel",
     "state": {
      "_model_module": "@jupyter-widgets/controls",
      "_model_module_version": "1.5.0",
      "_model_name": "ProgressStyleModel",
      "_view_count": null,
      "_view_module": "@jupyter-widgets/base",
      "_view_module_version": "1.2.0",
      "_view_name": "StyleView",
      "bar_color": null,
      "description_width": ""
     }
    },
    "06f0c42dbf5e4c2ea6fa78edce07fe5c": {
     "model_module": "@jupyter-widgets/controls",
     "model_module_version": "1.5.0",
     "model_name": "DescriptionStyleModel",
     "state": {
      "_model_module": "@jupyter-widgets/controls",
      "_model_module_version": "1.5.0",
      "_model_name": "DescriptionStyleModel",
      "_view_count": null,
      "_view_module": "@jupyter-widgets/base",
      "_view_module_version": "1.2.0",
      "_view_name": "StyleView",
      "description_width": ""
     }
    },
    "099e54107a2941ad942672ad7723e6af": {
     "model_module": "@jupyter-widgets/controls",
     "model_module_version": "1.5.0",
     "model_name": "ProgressStyleModel",
     "state": {
      "_model_module": "@jupyter-widgets/controls",
      "_model_module_version": "1.5.0",
      "_model_name": "ProgressStyleModel",
      "_view_count": null,
      "_view_module": "@jupyter-widgets/base",
      "_view_module_version": "1.2.0",
      "_view_name": "StyleView",
      "bar_color": null,
      "description_width": ""
     }
    },
    "0f9ca0a87a884f0b89bb4507b9485b55": {
     "model_module": "@jupyter-widgets/controls",
     "model_module_version": "1.5.0",
     "model_name": "HBoxModel",
     "state": {
      "_dom_classes": [],
      "_model_module": "@jupyter-widgets/controls",
      "_model_module_version": "1.5.0",
      "_model_name": "HBoxModel",
      "_view_count": null,
      "_view_module": "@jupyter-widgets/controls",
      "_view_module_version": "1.5.0",
      "_view_name": "HBoxView",
      "box_style": "",
      "children": [
       "IPY_MODEL_f932950de55c433a907a5dc0c39af2a9",
       "IPY_MODEL_5ca31b665723440191085aa690b0e40d",
       "IPY_MODEL_1410b2861f494cc489f7dc7b14af4a70"
      ],
      "layout": "IPY_MODEL_d839a2581d7b4b26952e85ef81d10a18"
     }
    },
    "0fabe39de5e442f9a0d5d6f6eac98e7d": {
     "model_module": "@jupyter-widgets/base",
     "model_module_version": "1.2.0",
     "model_name": "LayoutModel",
     "state": {
      "_model_module": "@jupyter-widgets/base",
      "_model_module_version": "1.2.0",
      "_model_name": "LayoutModel",
      "_view_count": null,
      "_view_module": "@jupyter-widgets/base",
      "_view_module_version": "1.2.0",
      "_view_name": "LayoutView",
      "align_content": null,
      "align_items": null,
      "align_self": null,
      "border": null,
      "bottom": null,
      "display": null,
      "flex": null,
      "flex_flow": null,
      "grid_area": null,
      "grid_auto_columns": null,
      "grid_auto_flow": null,
      "grid_auto_rows": null,
      "grid_column": null,
      "grid_gap": null,
      "grid_row": null,
      "grid_template_areas": null,
      "grid_template_columns": null,
      "grid_template_rows": null,
      "height": null,
      "justify_content": null,
      "justify_items": null,
      "left": null,
      "margin": null,
      "max_height": null,
      "max_width": null,
      "min_height": null,
      "min_width": null,
      "object_fit": null,
      "object_position": null,
      "order": null,
      "overflow": null,
      "overflow_x": null,
      "overflow_y": null,
      "padding": null,
      "right": null,
      "top": null,
      "visibility": null,
      "width": null
     }
    },
    "11f3b430d7a5493daa5daee39082db3f": {
     "model_module": "@jupyter-widgets/base",
     "model_module_version": "1.2.0",
     "model_name": "LayoutModel",
     "state": {
      "_model_module": "@jupyter-widgets/base",
      "_model_module_version": "1.2.0",
      "_model_name": "LayoutModel",
      "_view_count": null,
      "_view_module": "@jupyter-widgets/base",
      "_view_module_version": "1.2.0",
      "_view_name": "LayoutView",
      "align_content": null,
      "align_items": null,
      "align_self": null,
      "border": null,
      "bottom": null,
      "display": null,
      "flex": null,
      "flex_flow": null,
      "grid_area": null,
      "grid_auto_columns": null,
      "grid_auto_flow": null,
      "grid_auto_rows": null,
      "grid_column": null,
      "grid_gap": null,
      "grid_row": null,
      "grid_template_areas": null,
      "grid_template_columns": null,
      "grid_template_rows": null,
      "height": null,
      "justify_content": null,
      "justify_items": null,
      "left": null,
      "margin": null,
      "max_height": null,
      "max_width": null,
      "min_height": null,
      "min_width": null,
      "object_fit": null,
      "object_position": null,
      "order": null,
      "overflow": null,
      "overflow_x": null,
      "overflow_y": null,
      "padding": null,
      "right": null,
      "top": null,
      "visibility": null,
      "width": null
     }
    },
    "127d269a2ad4464e8a7306312dd4b871": {
     "model_module": "@jupyter-widgets/base",
     "model_module_version": "1.2.0",
     "model_name": "LayoutModel",
     "state": {
      "_model_module": "@jupyter-widgets/base",
      "_model_module_version": "1.2.0",
      "_model_name": "LayoutModel",
      "_view_count": null,
      "_view_module": "@jupyter-widgets/base",
      "_view_module_version": "1.2.0",
      "_view_name": "LayoutView",
      "align_content": null,
      "align_items": null,
      "align_self": null,
      "border": null,
      "bottom": null,
      "display": null,
      "flex": null,
      "flex_flow": null,
      "grid_area": null,
      "grid_auto_columns": null,
      "grid_auto_flow": null,
      "grid_auto_rows": null,
      "grid_column": null,
      "grid_gap": null,
      "grid_row": null,
      "grid_template_areas": null,
      "grid_template_columns": null,
      "grid_template_rows": null,
      "height": null,
      "justify_content": null,
      "justify_items": null,
      "left": null,
      "margin": null,
      "max_height": null,
      "max_width": null,
      "min_height": null,
      "min_width": null,
      "object_fit": null,
      "object_position": null,
      "order": null,
      "overflow": null,
      "overflow_x": null,
      "overflow_y": null,
      "padding": null,
      "right": null,
      "top": null,
      "visibility": null,
      "width": null
     }
    },
    "13136ef32ac04675ad52d01141cfa98a": {
     "model_module": "@jupyter-widgets/base",
     "model_module_version": "1.2.0",
     "model_name": "LayoutModel",
     "state": {
      "_model_module": "@jupyter-widgets/base",
      "_model_module_version": "1.2.0",
      "_model_name": "LayoutModel",
      "_view_count": null,
      "_view_module": "@jupyter-widgets/base",
      "_view_module_version": "1.2.0",
      "_view_name": "LayoutView",
      "align_content": null,
      "align_items": null,
      "align_self": null,
      "border": null,
      "bottom": null,
      "display": null,
      "flex": null,
      "flex_flow": null,
      "grid_area": null,
      "grid_auto_columns": null,
      "grid_auto_flow": null,
      "grid_auto_rows": null,
      "grid_column": null,
      "grid_gap": null,
      "grid_row": null,
      "grid_template_areas": null,
      "grid_template_columns": null,
      "grid_template_rows": null,
      "height": null,
      "justify_content": null,
      "justify_items": null,
      "left": null,
      "margin": null,
      "max_height": null,
      "max_width": null,
      "min_height": null,
      "min_width": null,
      "object_fit": null,
      "object_position": null,
      "order": null,
      "overflow": null,
      "overflow_x": null,
      "overflow_y": null,
      "padding": null,
      "right": null,
      "top": null,
      "visibility": null,
      "width": null
     }
    },
    "1410b2861f494cc489f7dc7b14af4a70": {
     "model_module": "@jupyter-widgets/controls",
     "model_module_version": "1.5.0",
     "model_name": "HTMLModel",
     "state": {
      "_dom_classes": [],
      "_model_module": "@jupyter-widgets/controls",
      "_model_module_version": "1.5.0",
      "_model_name": "HTMLModel",
      "_view_count": null,
      "_view_module": "@jupyter-widgets/controls",
      "_view_module_version": "1.5.0",
      "_view_name": "HTMLView",
      "description": "",
      "description_tooltip": null,
      "layout": "IPY_MODEL_db8c65507c6b4f04949e33ab0957b0ed",
      "placeholder": "​",
      "style": "IPY_MODEL_97ee0c1a30a44d2eabe33babc5b61cd1",
      "value": " 22649/25000 [00:05&lt;00:00, 4745.43 examples/s]"
     }
    },
    "16267ba3654940ae8eeeb50012586599": {
     "model_module": "@jupyter-widgets/controls",
     "model_module_version": "1.5.0",
     "model_name": "DescriptionStyleModel",
     "state": {
      "_model_module": "@jupyter-widgets/controls",
      "_model_module_version": "1.5.0",
      "_model_name": "DescriptionStyleModel",
      "_view_count": null,
      "_view_module": "@jupyter-widgets/base",
      "_view_module_version": "1.2.0",
      "_view_name": "StyleView",
      "description_width": ""
     }
    },
    "1d938a1f4adb48598c5ffb79e627d85a": {
     "model_module": "@jupyter-widgets/base",
     "model_module_version": "1.2.0",
     "model_name": "LayoutModel",
     "state": {
      "_model_module": "@jupyter-widgets/base",
      "_model_module_version": "1.2.0",
      "_model_name": "LayoutModel",
      "_view_count": null,
      "_view_module": "@jupyter-widgets/base",
      "_view_module_version": "1.2.0",
      "_view_name": "LayoutView",
      "align_content": null,
      "align_items": null,
      "align_self": null,
      "border": null,
      "bottom": null,
      "display": null,
      "flex": null,
      "flex_flow": null,
      "grid_area": null,
      "grid_auto_columns": null,
      "grid_auto_flow": null,
      "grid_auto_rows": null,
      "grid_column": null,
      "grid_gap": null,
      "grid_row": null,
      "grid_template_areas": null,
      "grid_template_columns": null,
      "grid_template_rows": null,
      "height": null,
      "justify_content": null,
      "justify_items": null,
      "left": null,
      "margin": null,
      "max_height": null,
      "max_width": null,
      "min_height": null,
      "min_width": null,
      "object_fit": null,
      "object_position": null,
      "order": null,
      "overflow": null,
      "overflow_x": null,
      "overflow_y": null,
      "padding": null,
      "right": null,
      "top": null,
      "visibility": "hidden",
      "width": null
     }
    },
    "1f52e8f242514fb9b86463e68e0b68a2": {
     "model_module": "@jupyter-widgets/controls",
     "model_module_version": "1.5.0",
     "model_name": "HBoxModel",
     "state": {
      "_dom_classes": [],
      "_model_module": "@jupyter-widgets/controls",
      "_model_module_version": "1.5.0",
      "_model_name": "HBoxModel",
      "_view_count": null,
      "_view_module": "@jupyter-widgets/controls",
      "_view_module_version": "1.5.0",
      "_view_name": "HBoxView",
      "box_style": "",
      "children": [
       "IPY_MODEL_636e48a683294410b977c207fad03146",
       "IPY_MODEL_3d33054ca4394e6bad1296e1578fa659",
       "IPY_MODEL_59990537c05a4d2c8f68131a10f2244f"
      ],
      "layout": "IPY_MODEL_06330243516148a4b0e7b277d903d2ab"
     }
    },
    "202f7585642c44e7a31ae9d8d53f8a6c": {
     "model_module": "@jupyter-widgets/base",
     "model_module_version": "1.2.0",
     "model_name": "LayoutModel",
     "state": {
      "_model_module": "@jupyter-widgets/base",
      "_model_module_version": "1.2.0",
      "_model_name": "LayoutModel",
      "_view_count": null,
      "_view_module": "@jupyter-widgets/base",
      "_view_module_version": "1.2.0",
      "_view_name": "LayoutView",
      "align_content": null,
      "align_items": null,
      "align_self": null,
      "border": null,
      "bottom": null,
      "display": null,
      "flex": null,
      "flex_flow": null,
      "grid_area": null,
      "grid_auto_columns": null,
      "grid_auto_flow": null,
      "grid_auto_rows": null,
      "grid_column": null,
      "grid_gap": null,
      "grid_row": null,
      "grid_template_areas": null,
      "grid_template_columns": null,
      "grid_template_rows": null,
      "height": null,
      "justify_content": null,
      "justify_items": null,
      "left": null,
      "margin": null,
      "max_height": null,
      "max_width": null,
      "min_height": null,
      "min_width": null,
      "object_fit": null,
      "object_position": null,
      "order": null,
      "overflow": null,
      "overflow_x": null,
      "overflow_y": null,
      "padding": null,
      "right": null,
      "top": null,
      "visibility": null,
      "width": null
     }
    },
    "2ba325e85188430ba68acfd5f3964007": {
     "model_module": "@jupyter-widgets/controls",
     "model_module_version": "1.5.0",
     "model_name": "FloatProgressModel",
     "state": {
      "_dom_classes": [],
      "_model_module": "@jupyter-widgets/controls",
      "_model_module_version": "1.5.0",
      "_model_name": "FloatProgressModel",
      "_view_count": null,
      "_view_module": "@jupyter-widgets/controls",
      "_view_module_version": "1.5.0",
      "_view_name": "ProgressView",
      "bar_style": "success",
      "description": "",
      "description_tooltip": null,
      "layout": "IPY_MODEL_36c87564527b48a286afc09164d17d1c",
      "max": 1,
      "min": 0,
      "orientation": "horizontal",
      "style": "IPY_MODEL_099e54107a2941ad942672ad7723e6af",
      "value": 1
     }
    },
    "2bcaf4ccab834eaaad22050db79fab76": {
     "model_module": "@jupyter-widgets/controls",
     "model_module_version": "1.5.0",
     "model_name": "HBoxModel",
     "state": {
      "_dom_classes": [],
      "_model_module": "@jupyter-widgets/controls",
      "_model_module_version": "1.5.0",
      "_model_name": "HBoxModel",
      "_view_count": null,
      "_view_module": "@jupyter-widgets/controls",
      "_view_module_version": "1.5.0",
      "_view_name": "HBoxView",
      "box_style": "",
      "children": [
       "IPY_MODEL_bfbc927e9a504c8aac68fe53457738f1",
       "IPY_MODEL_f9f55866c2054d61b8939c5703bfa40f",
       "IPY_MODEL_666a4e99868f4abfb13466d40375d1db"
      ],
      "layout": "IPY_MODEL_1d938a1f4adb48598c5ffb79e627d85a"
     }
    },
    "2c9831f46e1146a4bab2bc610f84948c": {
     "model_module": "@jupyter-widgets/base",
     "model_module_version": "1.2.0",
     "model_name": "LayoutModel",
     "state": {
      "_model_module": "@jupyter-widgets/base",
      "_model_module_version": "1.2.0",
      "_model_name": "LayoutModel",
      "_view_count": null,
      "_view_module": "@jupyter-widgets/base",
      "_view_module_version": "1.2.0",
      "_view_name": "LayoutView",
      "align_content": null,
      "align_items": null,
      "align_self": null,
      "border": null,
      "bottom": null,
      "display": null,
      "flex": null,
      "flex_flow": null,
      "grid_area": null,
      "grid_auto_columns": null,
      "grid_auto_flow": null,
      "grid_auto_rows": null,
      "grid_column": null,
      "grid_gap": null,
      "grid_row": null,
      "grid_template_areas": null,
      "grid_template_columns": null,
      "grid_template_rows": null,
      "height": null,
      "justify_content": null,
      "justify_items": null,
      "left": null,
      "margin": null,
      "max_height": null,
      "max_width": null,
      "min_height": null,
      "min_width": null,
      "object_fit": null,
      "object_position": null,
      "order": null,
      "overflow": null,
      "overflow_x": null,
      "overflow_y": null,
      "padding": null,
      "right": null,
      "top": null,
      "visibility": null,
      "width": null
     }
    },
    "2d6f9bcaa7f54e4289e9a5c8b90d0058": {
     "model_module": "@jupyter-widgets/controls",
     "model_module_version": "1.5.0",
     "model_name": "ProgressStyleModel",
     "state": {
      "_model_module": "@jupyter-widgets/controls",
      "_model_module_version": "1.5.0",
      "_model_name": "ProgressStyleModel",
      "_view_count": null,
      "_view_module": "@jupyter-widgets/base",
      "_view_module_version": "1.2.0",
      "_view_name": "StyleView",
      "bar_color": null,
      "description_width": ""
     }
    },
    "2eb05798922a4dc09aae48135854b85c": {
     "model_module": "@jupyter-widgets/controls",
     "model_module_version": "1.5.0",
     "model_name": "DescriptionStyleModel",
     "state": {
      "_model_module": "@jupyter-widgets/controls",
      "_model_module_version": "1.5.0",
      "_model_name": "DescriptionStyleModel",
      "_view_count": null,
      "_view_module": "@jupyter-widgets/base",
      "_view_module_version": "1.2.0",
      "_view_name": "StyleView",
      "description_width": ""
     }
    },
    "2f1ab18c772e41198dc17da1db02243d": {
     "model_module": "@jupyter-widgets/controls",
     "model_module_version": "1.5.0",
     "model_name": "ProgressStyleModel",
     "state": {
      "_model_module": "@jupyter-widgets/controls",
      "_model_module_version": "1.5.0",
      "_model_name": "ProgressStyleModel",
      "_view_count": null,
      "_view_module": "@jupyter-widgets/base",
      "_view_module_version": "1.2.0",
      "_view_name": "StyleView",
      "bar_color": null,
      "description_width": ""
     }
    },
    "35eeb94323b44c82aefd883506320e4d": {
     "model_module": "@jupyter-widgets/controls",
     "model_module_version": "1.5.0",
     "model_name": "FloatProgressModel",
     "state": {
      "_dom_classes": [],
      "_model_module": "@jupyter-widgets/controls",
      "_model_module_version": "1.5.0",
      "_model_name": "FloatProgressModel",
      "_view_count": null,
      "_view_module": "@jupyter-widgets/controls",
      "_view_module_version": "1.5.0",
      "_view_name": "ProgressView",
      "bar_style": "",
      "description": "",
      "description_tooltip": null,
      "layout": "IPY_MODEL_48be6a118fa84d27ac873c49144fa347",
      "max": 50000,
      "min": 0,
      "orientation": "horizontal",
      "style": "IPY_MODEL_2d6f9bcaa7f54e4289e9a5c8b90d0058",
      "value": 50000
     }
    },
    "36c87564527b48a286afc09164d17d1c": {
     "model_module": "@jupyter-widgets/base",
     "model_module_version": "1.2.0",
     "model_name": "LayoutModel",
     "state": {
      "_model_module": "@jupyter-widgets/base",
      "_model_module_version": "1.2.0",
      "_model_name": "LayoutModel",
      "_view_count": null,
      "_view_module": "@jupyter-widgets/base",
      "_view_module_version": "1.2.0",
      "_view_name": "LayoutView",
      "align_content": null,
      "align_items": null,
      "align_self": null,
      "border": null,
      "bottom": null,
      "display": null,
      "flex": null,
      "flex_flow": null,
      "grid_area": null,
      "grid_auto_columns": null,
      "grid_auto_flow": null,
      "grid_auto_rows": null,
      "grid_column": null,
      "grid_gap": null,
      "grid_row": null,
      "grid_template_areas": null,
      "grid_template_columns": null,
      "grid_template_rows": null,
      "height": null,
      "justify_content": null,
      "justify_items": null,
      "left": null,
      "margin": null,
      "max_height": null,
      "max_width": null,
      "min_height": null,
      "min_width": null,
      "object_fit": null,
      "object_position": null,
      "order": null,
      "overflow": null,
      "overflow_x": null,
      "overflow_y": null,
      "padding": null,
      "right": null,
      "top": null,
      "visibility": null,
      "width": "20px"
     }
    },
    "3750dcbf50a3443aabdc5dfa867d9330": {
     "model_module": "@jupyter-widgets/controls",
     "model_module_version": "1.5.0",
     "model_name": "FloatProgressModel",
     "state": {
      "_dom_classes": [],
      "_model_module": "@jupyter-widgets/controls",
      "_model_module_version": "1.5.0",
      "_model_name": "FloatProgressModel",
      "_view_count": null,
      "_view_module": "@jupyter-widgets/controls",
      "_view_module_version": "1.5.0",
      "_view_name": "ProgressView",
      "bar_style": "",
      "description": "",
      "description_tooltip": null,
      "layout": "IPY_MODEL_2c9831f46e1146a4bab2bc610f84948c",
      "max": 50000,
      "min": 0,
      "orientation": "horizontal",
      "style": "IPY_MODEL_d667961eba8a4ab493cf36d890a98fc3",
      "value": 50000
     }
    },
    "392ac33870c842a9969e078fa9901a20": {
     "model_module": "@jupyter-widgets/controls",
     "model_module_version": "1.5.0",
     "model_name": "HBoxModel",
     "state": {
      "_dom_classes": [],
      "_model_module": "@jupyter-widgets/controls",
      "_model_module_version": "1.5.0",
      "_model_name": "HBoxModel",
      "_view_count": null,
      "_view_module": "@jupyter-widgets/controls",
      "_view_module_version": "1.5.0",
      "_view_name": "HBoxView",
      "box_style": "",
      "children": [
       "IPY_MODEL_bd32eb6802554e7281c28d920d235784",
       "IPY_MODEL_d2f9ce3e1aa84672875312da8bdc53bd",
       "IPY_MODEL_b9719bdaeadc4d60ace6d64ab1f02c67"
      ],
      "layout": "IPY_MODEL_ad3567aa64fb4a8bb4a2c668dec94a0e"
     }
    },
    "3ab99d7b270f47c1b47afd4a6cc09091": {
     "model_module": "@jupyter-widgets/controls",
     "model_module_version": "1.5.0",
     "model_name": "HTMLModel",
     "state": {
      "_dom_classes": [],
      "_model_module": "@jupyter-widgets/controls",
      "_model_module_version": "1.5.0",
      "_model_name": "HTMLModel",
      "_view_count": null,
      "_view_module": "@jupyter-widgets/controls",
      "_view_module_version": "1.5.0",
      "_view_name": "HTMLView",
      "description": "",
      "description_tooltip": null,
      "layout": "IPY_MODEL_3daab7ae0a204f0c9abe0936e6c56d41",
      "placeholder": "​",
      "style": "IPY_MODEL_8206e4dfaea445e5ac20b15b12e0a91b",
      "value": " 3/3 [00:34&lt;00:00, 11.98s/ splits]"
     }
    },
    "3bef739e0fae4935a4912918b89759db": {
     "model_module": "@jupyter-widgets/base",
     "model_module_version": "1.2.0",
     "model_name": "LayoutModel",
     "state": {
      "_model_module": "@jupyter-widgets/base",
      "_model_module_version": "1.2.0",
      "_model_name": "LayoutModel",
      "_view_count": null,
      "_view_module": "@jupyter-widgets/base",
      "_view_module_version": "1.2.0",
      "_view_name": "LayoutView",
      "align_content": null,
      "align_items": null,
      "align_self": null,
      "border": null,
      "bottom": null,
      "display": null,
      "flex": null,
      "flex_flow": null,
      "grid_area": null,
      "grid_auto_columns": null,
      "grid_auto_flow": null,
      "grid_auto_rows": null,
      "grid_column": null,
      "grid_gap": null,
      "grid_row": null,
      "grid_template_areas": null,
      "grid_template_columns": null,
      "grid_template_rows": null,
      "height": null,
      "justify_content": null,
      "justify_items": null,
      "left": null,
      "margin": null,
      "max_height": null,
      "max_width": null,
      "min_height": null,
      "min_width": null,
      "object_fit": null,
      "object_position": null,
      "order": null,
      "overflow": null,
      "overflow_x": null,
      "overflow_y": null,
      "padding": null,
      "right": null,
      "top": null,
      "visibility": null,
      "width": null
     }
    },
    "3d33054ca4394e6bad1296e1578fa659": {
     "model_module": "@jupyter-widgets/controls",
     "model_module_version": "1.5.0",
     "model_name": "FloatProgressModel",
     "state": {
      "_dom_classes": [],
      "_model_module": "@jupyter-widgets/controls",
      "_model_module_version": "1.5.0",
      "_model_name": "FloatProgressModel",
      "_view_count": null,
      "_view_module": "@jupyter-widgets/controls",
      "_view_module_version": "1.5.0",
      "_view_name": "ProgressView",
      "bar_style": "success",
      "description": "",
      "description_tooltip": null,
      "layout": "IPY_MODEL_9189bbbc7be941d9a4e6040de550604c",
      "max": 1,
      "min": 0,
      "orientation": "horizontal",
      "style": "IPY_MODEL_cbb9a91e7dc5485c8db503281e2b3779",
      "value": 1
     }
    },
    "3daab7ae0a204f0c9abe0936e6c56d41": {
     "model_module": "@jupyter-widgets/base",
     "model_module_version": "1.2.0",
     "model_name": "LayoutModel",
     "state": {
      "_model_module": "@jupyter-widgets/base",
      "_model_module_version": "1.2.0",
      "_model_name": "LayoutModel",
      "_view_count": null,
      "_view_module": "@jupyter-widgets/base",
      "_view_module_version": "1.2.0",
      "_view_name": "LayoutView",
      "align_content": null,
      "align_items": null,
      "align_self": null,
      "border": null,
      "bottom": null,
      "display": null,
      "flex": null,
      "flex_flow": null,
      "grid_area": null,
      "grid_auto_columns": null,
      "grid_auto_flow": null,
      "grid_auto_rows": null,
      "grid_column": null,
      "grid_gap": null,
      "grid_row": null,
      "grid_template_areas": null,
      "grid_template_columns": null,
      "grid_template_rows": null,
      "height": null,
      "justify_content": null,
      "justify_items": null,
      "left": null,
      "margin": null,
      "max_height": null,
      "max_width": null,
      "min_height": null,
      "min_width": null,
      "object_fit": null,
      "object_position": null,
      "order": null,
      "overflow": null,
      "overflow_x": null,
      "overflow_y": null,
      "padding": null,
      "right": null,
      "top": null,
      "visibility": null,
      "width": null
     }
    },
    "409517f8912548b8a0ac339fb85e5b10": {
     "model_module": "@jupyter-widgets/controls",
     "model_module_version": "1.5.0",
     "model_name": "FloatProgressModel",
     "state": {
      "_dom_classes": [],
      "_model_module": "@jupyter-widgets/controls",
      "_model_module_version": "1.5.0",
      "_model_name": "FloatProgressModel",
      "_view_count": null,
      "_view_module": "@jupyter-widgets/controls",
      "_view_module_version": "1.5.0",
      "_view_name": "ProgressView",
      "bar_style": "",
      "description": "",
      "description_tooltip": null,
      "layout": "IPY_MODEL_ba2300d36a9d4d88b961b4f3f992b1ec",
      "max": 3,
      "min": 0,
      "orientation": "horizontal",
      "style": "IPY_MODEL_068ae52c7363435ea9187278f72603ea",
      "value": 3
     }
    },
    "40d853da9c594f40ae5dff0fa976b977": {
     "model_module": "@jupyter-widgets/controls",
     "model_module_version": "1.5.0",
     "model_name": "HTMLModel",
     "state": {
      "_dom_classes": [],
      "_model_module": "@jupyter-widgets/controls",
      "_model_module_version": "1.5.0",
      "_model_name": "HTMLModel",
      "_view_count": null,
      "_view_module": "@jupyter-widgets/controls",
      "_view_module_version": "1.5.0",
      "_view_name": "HTMLView",
      "description": "",
      "description_tooltip": null,
      "layout": "IPY_MODEL_a6e7b07c428a4d4bb9813a323c1d18ca",
      "placeholder": "​",
      "style": "IPY_MODEL_4f54fd421b484e0e8abf2914d96d57d4",
      "value": " 35418/50000 [00:00&lt;00:00, 196375.53 examples/s]"
     }
    },
    "4266bac55003409eab9f9d2f88367def": {
     "model_module": "@jupyter-widgets/base",
     "model_module_version": "1.2.0",
     "model_name": "LayoutModel",
     "state": {
      "_model_module": "@jupyter-widgets/base",
      "_model_module_version": "1.2.0",
      "_model_name": "LayoutModel",
      "_view_count": null,
      "_view_module": "@jupyter-widgets/base",
      "_view_module_version": "1.2.0",
      "_view_name": "LayoutView",
      "align_content": null,
      "align_items": null,
      "align_self": null,
      "border": null,
      "bottom": null,
      "display": null,
      "flex": null,
      "flex_flow": null,
      "grid_area": null,
      "grid_auto_columns": null,
      "grid_auto_flow": null,
      "grid_auto_rows": null,
      "grid_column": null,
      "grid_gap": null,
      "grid_row": null,
      "grid_template_areas": null,
      "grid_template_columns": null,
      "grid_template_rows": null,
      "height": null,
      "justify_content": null,
      "justify_items": null,
      "left": null,
      "margin": null,
      "max_height": null,
      "max_width": null,
      "min_height": null,
      "min_width": null,
      "object_fit": null,
      "object_position": null,
      "order": null,
      "overflow": null,
      "overflow_x": null,
      "overflow_y": null,
      "padding": null,
      "right": null,
      "top": null,
      "visibility": null,
      "width": null
     }
    },
    "452b7401cb844142b9ae86dde4f58a27": {
     "model_module": "@jupyter-widgets/base",
     "model_module_version": "1.2.0",
     "model_name": "LayoutModel",
     "state": {
      "_model_module": "@jupyter-widgets/base",
      "_model_module_version": "1.2.0",
      "_model_name": "LayoutModel",
      "_view_count": null,
      "_view_module": "@jupyter-widgets/base",
      "_view_module_version": "1.2.0",
      "_view_name": "LayoutView",
      "align_content": null,
      "align_items": null,
      "align_self": null,
      "border": null,
      "bottom": null,
      "display": null,
      "flex": null,
      "flex_flow": null,
      "grid_area": null,
      "grid_auto_columns": null,
      "grid_auto_flow": null,
      "grid_auto_rows": null,
      "grid_column": null,
      "grid_gap": null,
      "grid_row": null,
      "grid_template_areas": null,
      "grid_template_columns": null,
      "grid_template_rows": null,
      "height": null,
      "justify_content": null,
      "justify_items": null,
      "left": null,
      "margin": null,
      "max_height": null,
      "max_width": null,
      "min_height": null,
      "min_width": null,
      "object_fit": null,
      "object_position": null,
      "order": null,
      "overflow": null,
      "overflow_x": null,
      "overflow_y": null,
      "padding": null,
      "right": null,
      "top": null,
      "visibility": null,
      "width": null
     }
    },
    "45bbc2ccbb17434c81e5fe5f8dc0ae3b": {
     "model_module": "@jupyter-widgets/base",
     "model_module_version": "1.2.0",
     "model_name": "LayoutModel",
     "state": {
      "_model_module": "@jupyter-widgets/base",
      "_model_module_version": "1.2.0",
      "_model_name": "LayoutModel",
      "_view_count": null,
      "_view_module": "@jupyter-widgets/base",
      "_view_module_version": "1.2.0",
      "_view_name": "LayoutView",
      "align_content": null,
      "align_items": null,
      "align_self": null,
      "border": null,
      "bottom": null,
      "display": null,
      "flex": null,
      "flex_flow": null,
      "grid_area": null,
      "grid_auto_columns": null,
      "grid_auto_flow": null,
      "grid_auto_rows": null,
      "grid_column": null,
      "grid_gap": null,
      "grid_row": null,
      "grid_template_areas": null,
      "grid_template_columns": null,
      "grid_template_rows": null,
      "height": null,
      "justify_content": null,
      "justify_items": null,
      "left": null,
      "margin": null,
      "max_height": null,
      "max_width": null,
      "min_height": null,
      "min_width": null,
      "object_fit": null,
      "object_position": null,
      "order": null,
      "overflow": null,
      "overflow_x": null,
      "overflow_y": null,
      "padding": null,
      "right": null,
      "top": null,
      "visibility": null,
      "width": null
     }
    },
    "48be6a118fa84d27ac873c49144fa347": {
     "model_module": "@jupyter-widgets/base",
     "model_module_version": "1.2.0",
     "model_name": "LayoutModel",
     "state": {
      "_model_module": "@jupyter-widgets/base",
      "_model_module_version": "1.2.0",
      "_model_name": "LayoutModel",
      "_view_count": null,
      "_view_module": "@jupyter-widgets/base",
      "_view_module_version": "1.2.0",
      "_view_name": "LayoutView",
      "align_content": null,
      "align_items": null,
      "align_self": null,
      "border": null,
      "bottom": null,
      "display": null,
      "flex": null,
      "flex_flow": null,
      "grid_area": null,
      "grid_auto_columns": null,
      "grid_auto_flow": null,
      "grid_auto_rows": null,
      "grid_column": null,
      "grid_gap": null,
      "grid_row": null,
      "grid_template_areas": null,
      "grid_template_columns": null,
      "grid_template_rows": null,
      "height": null,
      "justify_content": null,
      "justify_items": null,
      "left": null,
      "margin": null,
      "max_height": null,
      "max_width": null,
      "min_height": null,
      "min_width": null,
      "object_fit": null,
      "object_position": null,
      "order": null,
      "overflow": null,
      "overflow_x": null,
      "overflow_y": null,
      "padding": null,
      "right": null,
      "top": null,
      "visibility": null,
      "width": null
     }
    },
    "4d082e973d0c4560bfba150feb8a5d3f": {
     "model_module": "@jupyter-widgets/controls",
     "model_module_version": "1.5.0",
     "model_name": "DescriptionStyleModel",
     "state": {
      "_model_module": "@jupyter-widgets/controls",
      "_model_module_version": "1.5.0",
      "_model_name": "DescriptionStyleModel",
      "_view_count": null,
      "_view_module": "@jupyter-widgets/base",
      "_view_module_version": "1.2.0",
      "_view_name": "StyleView",
      "description_width": ""
     }
    },
    "4ec20addfacc4492af2684f36917b1d9": {
     "model_module": "@jupyter-widgets/controls",
     "model_module_version": "1.5.0",
     "model_name": "HTMLModel",
     "state": {
      "_dom_classes": [],
      "_model_module": "@jupyter-widgets/controls",
      "_model_module_version": "1.5.0",
      "_model_name": "HTMLModel",
      "_view_count": null,
      "_view_module": "@jupyter-widgets/controls",
      "_view_module_version": "1.5.0",
      "_view_name": "HTMLView",
      "description": "",
      "description_tooltip": null,
      "layout": "IPY_MODEL_0fabe39de5e442f9a0d5d6f6eac98e7d",
      "placeholder": "​",
      "style": "IPY_MODEL_2eb05798922a4dc09aae48135854b85c",
      "value": "Generating splits...: 100%"
     }
    },
    "4f54fd421b484e0e8abf2914d96d57d4": {
     "model_module": "@jupyter-widgets/controls",
     "model_module_version": "1.5.0",
     "model_name": "DescriptionStyleModel",
     "state": {
      "_model_module": "@jupyter-widgets/controls",
      "_model_module_version": "1.5.0",
      "_model_name": "DescriptionStyleModel",
      "_view_count": null,
      "_view_module": "@jupyter-widgets/base",
      "_view_module_version": "1.2.0",
      "_view_name": "StyleView",
      "description_width": ""
     }
    },
    "4f6a20b1280a448199973b705af56435": {
     "model_module": "@jupyter-widgets/base",
     "model_module_version": "1.2.0",
     "model_name": "LayoutModel",
     "state": {
      "_model_module": "@jupyter-widgets/base",
      "_model_module_version": "1.2.0",
      "_model_name": "LayoutModel",
      "_view_count": null,
      "_view_module": "@jupyter-widgets/base",
      "_view_module_version": "1.2.0",
      "_view_name": "LayoutView",
      "align_content": null,
      "align_items": null,
      "align_self": null,
      "border": null,
      "bottom": null,
      "display": null,
      "flex": null,
      "flex_flow": null,
      "grid_area": null,
      "grid_auto_columns": null,
      "grid_auto_flow": null,
      "grid_auto_rows": null,
      "grid_column": null,
      "grid_gap": null,
      "grid_row": null,
      "grid_template_areas": null,
      "grid_template_columns": null,
      "grid_template_rows": null,
      "height": null,
      "justify_content": null,
      "justify_items": null,
      "left": null,
      "margin": null,
      "max_height": null,
      "max_width": null,
      "min_height": null,
      "min_width": null,
      "object_fit": null,
      "object_position": null,
      "order": null,
      "overflow": null,
      "overflow_x": null,
      "overflow_y": null,
      "padding": null,
      "right": null,
      "top": null,
      "visibility": null,
      "width": null
     }
    },
    "507b18fa9b4a4c2d960d057c61cae508": {
     "model_module": "@jupyter-widgets/controls",
     "model_module_version": "1.5.0",
     "model_name": "HBoxModel",
     "state": {
      "_dom_classes": [],
      "_model_module": "@jupyter-widgets/controls",
      "_model_module_version": "1.5.0",
      "_model_name": "HBoxModel",
      "_view_count": null,
      "_view_module": "@jupyter-widgets/controls",
      "_view_module_version": "1.5.0",
      "_view_name": "HBoxView",
      "box_style": "",
      "children": [
       "IPY_MODEL_c029736cbff942d1b0aea2587c6dccd0",
       "IPY_MODEL_2ba325e85188430ba68acfd5f3964007",
       "IPY_MODEL_db246cc373d04f56ab36d8665ba2c7dd"
      ],
      "layout": "IPY_MODEL_9a4766797b474e2b8b830864eb42bf7b"
     }
    },
    "589844772d794a2bae95400f1464ef94": {
     "model_module": "@jupyter-widgets/base",
     "model_module_version": "1.2.0",
     "model_name": "LayoutModel",
     "state": {
      "_model_module": "@jupyter-widgets/base",
      "_model_module_version": "1.2.0",
      "_model_name": "LayoutModel",
      "_view_count": null,
      "_view_module": "@jupyter-widgets/base",
      "_view_module_version": "1.2.0",
      "_view_name": "LayoutView",
      "align_content": null,
      "align_items": null,
      "align_self": null,
      "border": null,
      "bottom": null,
      "display": null,
      "flex": null,
      "flex_flow": null,
      "grid_area": null,
      "grid_auto_columns": null,
      "grid_auto_flow": null,
      "grid_auto_rows": null,
      "grid_column": null,
      "grid_gap": null,
      "grid_row": null,
      "grid_template_areas": null,
      "grid_template_columns": null,
      "grid_template_rows": null,
      "height": null,
      "justify_content": null,
      "justify_items": null,
      "left": null,
      "margin": null,
      "max_height": null,
      "max_width": null,
      "min_height": null,
      "min_width": null,
      "object_fit": null,
      "object_position": null,
      "order": null,
      "overflow": null,
      "overflow_x": null,
      "overflow_y": null,
      "padding": null,
      "right": null,
      "top": null,
      "visibility": "hidden",
      "width": null
     }
    },
    "59152d91e90344c99b1001a1cb8a53b2": {
     "model_module": "@jupyter-widgets/controls",
     "model_module_version": "1.5.0",
     "model_name": "DescriptionStyleModel",
     "state": {
      "_model_module": "@jupyter-widgets/controls",
      "_model_module_version": "1.5.0",
      "_model_name": "DescriptionStyleModel",
      "_view_count": null,
      "_view_module": "@jupyter-widgets/base",
      "_view_module_version": "1.2.0",
      "_view_name": "StyleView",
      "description_width": ""
     }
    },
    "59990537c05a4d2c8f68131a10f2244f": {
     "model_module": "@jupyter-widgets/controls",
     "model_module_version": "1.5.0",
     "model_name": "HTMLModel",
     "state": {
      "_dom_classes": [],
      "_model_module": "@jupyter-widgets/controls",
      "_model_module_version": "1.5.0",
      "_model_name": "HTMLModel",
      "_view_count": null,
      "_view_module": "@jupyter-widgets/controls",
      "_view_module_version": "1.5.0",
      "_view_name": "HTMLView",
      "description": "",
      "description_tooltip": null,
      "layout": "IPY_MODEL_11f3b430d7a5493daa5daee39082db3f",
      "placeholder": "​",
      "style": "IPY_MODEL_4d082e973d0c4560bfba150feb8a5d3f",
      "value": " 80/80 [00:13&lt;00:00,  6.65 MiB/s]"
     }
    },
    "5ad54bf53fb54c1ca1a9cb7a30af5d6f": {
     "model_module": "@jupyter-widgets/base",
     "model_module_version": "1.2.0",
     "model_name": "LayoutModel",
     "state": {
      "_model_module": "@jupyter-widgets/base",
      "_model_module_version": "1.2.0",
      "_model_name": "LayoutModel",
      "_view_count": null,
      "_view_module": "@jupyter-widgets/base",
      "_view_module_version": "1.2.0",
      "_view_name": "LayoutView",
      "align_content": null,
      "align_items": null,
      "align_self": null,
      "border": null,
      "bottom": null,
      "display": null,
      "flex": null,
      "flex_flow": null,
      "grid_area": null,
      "grid_auto_columns": null,
      "grid_auto_flow": null,
      "grid_auto_rows": null,
      "grid_column": null,
      "grid_gap": null,
      "grid_row": null,
      "grid_template_areas": null,
      "grid_template_columns": null,
      "grid_template_rows": null,
      "height": null,
      "justify_content": null,
      "justify_items": null,
      "left": null,
      "margin": null,
      "max_height": null,
      "max_width": null,
      "min_height": null,
      "min_width": null,
      "object_fit": null,
      "object_position": null,
      "order": null,
      "overflow": null,
      "overflow_x": null,
      "overflow_y": null,
      "padding": null,
      "right": null,
      "top": null,
      "visibility": "hidden",
      "width": null
     }
    },
    "5ca31b665723440191085aa690b0e40d": {
     "model_module": "@jupyter-widgets/controls",
     "model_module_version": "1.5.0",
     "model_name": "FloatProgressModel",
     "state": {
      "_dom_classes": [],
      "_model_module": "@jupyter-widgets/controls",
      "_model_module_version": "1.5.0",
      "_model_name": "FloatProgressModel",
      "_view_count": null,
      "_view_module": "@jupyter-widgets/controls",
      "_view_module_version": "1.5.0",
      "_view_name": "ProgressView",
      "bar_style": "",
      "description": "",
      "description_tooltip": null,
      "layout": "IPY_MODEL_4266bac55003409eab9f9d2f88367def",
      "max": 25000,
      "min": 0,
      "orientation": "horizontal",
      "style": "IPY_MODEL_986313dc583c41819bdf06bceda97a59",
      "value": 25000
     }
    },
    "636e48a683294410b977c207fad03146": {
     "model_module": "@jupyter-widgets/controls",
     "model_module_version": "1.5.0",
     "model_name": "HTMLModel",
     "state": {
      "_dom_classes": [],
      "_model_module": "@jupyter-widgets/controls",
      "_model_module_version": "1.5.0",
      "_model_name": "HTMLModel",
      "_view_count": null,
      "_view_module": "@jupyter-widgets/controls",
      "_view_module_version": "1.5.0",
      "_view_name": "HTMLView",
      "description": "",
      "description_tooltip": null,
      "layout": "IPY_MODEL_13136ef32ac04675ad52d01141cfa98a",
      "placeholder": "​",
      "style": "IPY_MODEL_a228c34bb0414a0387af5a7d4c8917f9",
      "value": "Dl Size...: 100%"
     }
    },
    "666a4e99868f4abfb13466d40375d1db": {
     "model_module": "@jupyter-widgets/controls",
     "model_module_version": "1.5.0",
     "model_name": "HTMLModel",
     "state": {
      "_dom_classes": [],
      "_model_module": "@jupyter-widgets/controls",
      "_model_module_version": "1.5.0",
      "_model_name": "HTMLModel",
      "_view_count": null,
      "_view_module": "@jupyter-widgets/controls",
      "_view_module_version": "1.5.0",
      "_view_name": "HTMLView",
      "description": "",
      "description_tooltip": null,
      "layout": "IPY_MODEL_a94d5f1301ba4939b8647715c4e8189b",
      "placeholder": "​",
      "style": "IPY_MODEL_00143cf5fdbe4fa0a7d6cb36f4f6a471",
      "value": " 13808/25000 [00:00&lt;00:00, 138063.34 examples/s]"
     }
    },
    "6f06d0bcae454ec6a7a3dcebedcbf9a0": {
     "model_module": "@jupyter-widgets/controls",
     "model_module_version": "1.5.0",
     "model_name": "HBoxModel",
     "state": {
      "_dom_classes": [],
      "_model_module": "@jupyter-widgets/controls",
      "_model_module_version": "1.5.0",
      "_model_name": "HBoxModel",
      "_view_count": null,
      "_view_module": "@jupyter-widgets/controls",
      "_view_module_version": "1.5.0",
      "_view_name": "HBoxView",
      "box_style": "",
      "children": [
       "IPY_MODEL_d801270b9907491ba86a2739809b9878",
       "IPY_MODEL_35eeb94323b44c82aefd883506320e4d",
       "IPY_MODEL_ff22dafa3a174631b5967c9196c1cf3e"
      ],
      "layout": "IPY_MODEL_bf5cae6685994ff0bf04fa77cd96a494"
     }
    },
    "6fd0d2f9bb554c9488116b0e942e3dc2": {
     "model_module": "@jupyter-widgets/base",
     "model_module_version": "1.2.0",
     "model_name": "LayoutModel",
     "state": {
      "_model_module": "@jupyter-widgets/base",
      "_model_module_version": "1.2.0",
      "_model_name": "LayoutModel",
      "_view_count": null,
      "_view_module": "@jupyter-widgets/base",
      "_view_module_version": "1.2.0",
      "_view_name": "LayoutView",
      "align_content": null,
      "align_items": null,
      "align_self": null,
      "border": null,
      "bottom": null,
      "display": null,
      "flex": null,
      "flex_flow": null,
      "grid_area": null,
      "grid_auto_columns": null,
      "grid_auto_flow": null,
      "grid_auto_rows": null,
      "grid_column": null,
      "grid_gap": null,
      "grid_row": null,
      "grid_template_areas": null,
      "grid_template_columns": null,
      "grid_template_rows": null,
      "height": null,
      "justify_content": null,
      "justify_items": null,
      "left": null,
      "margin": null,
      "max_height": null,
      "max_width": null,
      "min_height": null,
      "min_width": null,
      "object_fit": null,
      "object_position": null,
      "order": null,
      "overflow": null,
      "overflow_x": null,
      "overflow_y": null,
      "padding": null,
      "right": null,
      "top": null,
      "visibility": null,
      "width": null
     }
    },
    "7169fe5bca8643d9a23ff47070d37450": {
     "model_module": "@jupyter-widgets/controls",
     "model_module_version": "1.5.0",
     "model_name": "HTMLModel",
     "state": {
      "_dom_classes": [],
      "_model_module": "@jupyter-widgets/controls",
      "_model_module_version": "1.5.0",
      "_model_name": "HTMLModel",
      "_view_count": null,
      "_view_module": "@jupyter-widgets/controls",
      "_view_module_version": "1.5.0",
      "_view_name": "HTMLView",
      "description": "",
      "description_tooltip": null,
      "layout": "IPY_MODEL_127d269a2ad4464e8a7306312dd4b871",
      "placeholder": "​",
      "style": "IPY_MODEL_06f0c42dbf5e4c2ea6fa78edce07fe5c",
      "value": "Generating test examples...:  82%"
     }
    },
    "7427eb63a3194351909e629b8facd91a": {
     "model_module": "@jupyter-widgets/base",
     "model_module_version": "1.2.0",
     "model_name": "LayoutModel",
     "state": {
      "_model_module": "@jupyter-widgets/base",
      "_model_module_version": "1.2.0",
      "_model_name": "LayoutModel",
      "_view_count": null,
      "_view_module": "@jupyter-widgets/base",
      "_view_module_version": "1.2.0",
      "_view_name": "LayoutView",
      "align_content": null,
      "align_items": null,
      "align_self": null,
      "border": null,
      "bottom": null,
      "display": null,
      "flex": null,
      "flex_flow": null,
      "grid_area": null,
      "grid_auto_columns": null,
      "grid_auto_flow": null,
      "grid_auto_rows": null,
      "grid_column": null,
      "grid_gap": null,
      "grid_row": null,
      "grid_template_areas": null,
      "grid_template_columns": null,
      "grid_template_rows": null,
      "height": null,
      "justify_content": null,
      "justify_items": null,
      "left": null,
      "margin": null,
      "max_height": null,
      "max_width": null,
      "min_height": null,
      "min_width": null,
      "object_fit": null,
      "object_position": null,
      "order": null,
      "overflow": null,
      "overflow_x": null,
      "overflow_y": null,
      "padding": null,
      "right": null,
      "top": null,
      "visibility": null,
      "width": null
     }
    },
    "8206e4dfaea445e5ac20b15b12e0a91b": {
     "model_module": "@jupyter-widgets/controls",
     "model_module_version": "1.5.0",
     "model_name": "DescriptionStyleModel",
     "state": {
      "_model_module": "@jupyter-widgets/controls",
      "_model_module_version": "1.5.0",
      "_model_name": "DescriptionStyleModel",
      "_view_count": null,
      "_view_module": "@jupyter-widgets/base",
      "_view_module_version": "1.2.0",
      "_view_name": "StyleView",
      "description_width": ""
     }
    },
    "82bcad4b914a49e9988cf3960a3ead80": {
     "model_module": "@jupyter-widgets/controls",
     "model_module_version": "1.5.0",
     "model_name": "HBoxModel",
     "state": {
      "_dom_classes": [],
      "_model_module": "@jupyter-widgets/controls",
      "_model_module_version": "1.5.0",
      "_model_name": "HBoxModel",
      "_view_count": null,
      "_view_module": "@jupyter-widgets/controls",
      "_view_module_version": "1.5.0",
      "_view_name": "HBoxView",
      "box_style": "",
      "children": [
       "IPY_MODEL_4ec20addfacc4492af2684f36917b1d9",
       "IPY_MODEL_409517f8912548b8a0ac339fb85e5b10",
       "IPY_MODEL_3ab99d7b270f47c1b47afd4a6cc09091"
      ],
      "layout": "IPY_MODEL_589844772d794a2bae95400f1464ef94"
     }
    },
    "851fa41240634cbbb637b5aae483c452": {
     "model_module": "@jupyter-widgets/controls",
     "model_module_version": "1.5.0",
     "model_name": "DescriptionStyleModel",
     "state": {
      "_model_module": "@jupyter-widgets/controls",
      "_model_module_version": "1.5.0",
      "_model_name": "DescriptionStyleModel",
      "_view_count": null,
      "_view_module": "@jupyter-widgets/base",
      "_view_module_version": "1.2.0",
      "_view_name": "StyleView",
      "description_width": ""
     }
    },
    "8a54ff0605b24c9dad34cec352664dcb": {
     "model_module": "@jupyter-widgets/controls",
     "model_module_version": "1.5.0",
     "model_name": "ProgressStyleModel",
     "state": {
      "_model_module": "@jupyter-widgets/controls",
      "_model_module_version": "1.5.0",
      "_model_name": "ProgressStyleModel",
      "_view_count": null,
      "_view_module": "@jupyter-widgets/base",
      "_view_module_version": "1.2.0",
      "_view_name": "StyleView",
      "bar_color": null,
      "description_width": ""
     }
    },
    "8b8958abdd1b4b18a9129e4a23889914": {
     "model_module": "@jupyter-widgets/controls",
     "model_module_version": "1.5.0",
     "model_name": "DescriptionStyleModel",
     "state": {
      "_model_module": "@jupyter-widgets/controls",
      "_model_module_version": "1.5.0",
      "_model_name": "DescriptionStyleModel",
      "_view_count": null,
      "_view_module": "@jupyter-widgets/base",
      "_view_module_version": "1.2.0",
      "_view_name": "StyleView",
      "description_width": ""
     }
    },
    "8c618ec3e19b457281ae7f420a8d9b43": {
     "model_module": "@jupyter-widgets/controls",
     "model_module_version": "1.5.0",
     "model_name": "DescriptionStyleModel",
     "state": {
      "_model_module": "@jupyter-widgets/controls",
      "_model_module_version": "1.5.0",
      "_model_name": "DescriptionStyleModel",
      "_view_count": null,
      "_view_module": "@jupyter-widgets/base",
      "_view_module_version": "1.2.0",
      "_view_name": "StyleView",
      "description_width": ""
     }
    },
    "9189bbbc7be941d9a4e6040de550604c": {
     "model_module": "@jupyter-widgets/base",
     "model_module_version": "1.2.0",
     "model_name": "LayoutModel",
     "state": {
      "_model_module": "@jupyter-widgets/base",
      "_model_module_version": "1.2.0",
      "_model_name": "LayoutModel",
      "_view_count": null,
      "_view_module": "@jupyter-widgets/base",
      "_view_module_version": "1.2.0",
      "_view_name": "LayoutView",
      "align_content": null,
      "align_items": null,
      "align_self": null,
      "border": null,
      "bottom": null,
      "display": null,
      "flex": null,
      "flex_flow": null,
      "grid_area": null,
      "grid_auto_columns": null,
      "grid_auto_flow": null,
      "grid_auto_rows": null,
      "grid_column": null,
      "grid_gap": null,
      "grid_row": null,
      "grid_template_areas": null,
      "grid_template_columns": null,
      "grid_template_rows": null,
      "height": null,
      "justify_content": null,
      "justify_items": null,
      "left": null,
      "margin": null,
      "max_height": null,
      "max_width": null,
      "min_height": null,
      "min_width": null,
      "object_fit": null,
      "object_position": null,
      "order": null,
      "overflow": null,
      "overflow_x": null,
      "overflow_y": null,
      "padding": null,
      "right": null,
      "top": null,
      "visibility": null,
      "width": "20px"
     }
    },
    "97b7a208e6ba4dd2811987d8330be33e": {
     "model_module": "@jupyter-widgets/controls",
     "model_module_version": "1.5.0",
     "model_name": "DescriptionStyleModel",
     "state": {
      "_model_module": "@jupyter-widgets/controls",
      "_model_module_version": "1.5.0",
      "_model_name": "DescriptionStyleModel",
      "_view_count": null,
      "_view_module": "@jupyter-widgets/base",
      "_view_module_version": "1.2.0",
      "_view_name": "StyleView",
      "description_width": ""
     }
    },
    "97ee0c1a30a44d2eabe33babc5b61cd1": {
     "model_module": "@jupyter-widgets/controls",
     "model_module_version": "1.5.0",
     "model_name": "DescriptionStyleModel",
     "state": {
      "_model_module": "@jupyter-widgets/controls",
      "_model_module_version": "1.5.0",
      "_model_name": "DescriptionStyleModel",
      "_view_count": null,
      "_view_module": "@jupyter-widgets/base",
      "_view_module_version": "1.2.0",
      "_view_name": "StyleView",
      "description_width": ""
     }
    },
    "986313dc583c41819bdf06bceda97a59": {
     "model_module": "@jupyter-widgets/controls",
     "model_module_version": "1.5.0",
     "model_name": "ProgressStyleModel",
     "state": {
      "_model_module": "@jupyter-widgets/controls",
      "_model_module_version": "1.5.0",
      "_model_name": "ProgressStyleModel",
      "_view_count": null,
      "_view_module": "@jupyter-widgets/base",
      "_view_module_version": "1.2.0",
      "_view_name": "StyleView",
      "bar_color": null,
      "description_width": ""
     }
    },
    "9a4766797b474e2b8b830864eb42bf7b": {
     "model_module": "@jupyter-widgets/base",
     "model_module_version": "1.2.0",
     "model_name": "LayoutModel",
     "state": {
      "_model_module": "@jupyter-widgets/base",
      "_model_module_version": "1.2.0",
      "_model_name": "LayoutModel",
      "_view_count": null,
      "_view_module": "@jupyter-widgets/base",
      "_view_module_version": "1.2.0",
      "_view_name": "LayoutView",
      "align_content": null,
      "align_items": null,
      "align_self": null,
      "border": null,
      "bottom": null,
      "display": null,
      "flex": null,
      "flex_flow": null,
      "grid_area": null,
      "grid_auto_columns": null,
      "grid_auto_flow": null,
      "grid_auto_rows": null,
      "grid_column": null,
      "grid_gap": null,
      "grid_row": null,
      "grid_template_areas": null,
      "grid_template_columns": null,
      "grid_template_rows": null,
      "height": null,
      "justify_content": null,
      "justify_items": null,
      "left": null,
      "margin": null,
      "max_height": null,
      "max_width": null,
      "min_height": null,
      "min_width": null,
      "object_fit": null,
      "object_position": null,
      "order": null,
      "overflow": null,
      "overflow_x": null,
      "overflow_y": null,
      "padding": null,
      "right": null,
      "top": null,
      "visibility": null,
      "width": null
     }
    },
    "9b1f9e4f5d8b43608b4313d0c33deade": {
     "model_module": "@jupyter-widgets/controls",
     "model_module_version": "1.5.0",
     "model_name": "DescriptionStyleModel",
     "state": {
      "_model_module": "@jupyter-widgets/controls",
      "_model_module_version": "1.5.0",
      "_model_name": "DescriptionStyleModel",
      "_view_count": null,
      "_view_module": "@jupyter-widgets/base",
      "_view_module_version": "1.2.0",
      "_view_name": "StyleView",
      "description_width": ""
     }
    },
    "a228c34bb0414a0387af5a7d4c8917f9": {
     "model_module": "@jupyter-widgets/controls",
     "model_module_version": "1.5.0",
     "model_name": "DescriptionStyleModel",
     "state": {
      "_model_module": "@jupyter-widgets/controls",
      "_model_module_version": "1.5.0",
      "_model_name": "DescriptionStyleModel",
      "_view_count": null,
      "_view_module": "@jupyter-widgets/base",
      "_view_module_version": "1.2.0",
      "_view_name": "StyleView",
      "description_width": ""
     }
    },
    "a6e7b07c428a4d4bb9813a323c1d18ca": {
     "model_module": "@jupyter-widgets/base",
     "model_module_version": "1.2.0",
     "model_name": "LayoutModel",
     "state": {
      "_model_module": "@jupyter-widgets/base",
      "_model_module_version": "1.2.0",
      "_model_name": "LayoutModel",
      "_view_count": null,
      "_view_module": "@jupyter-widgets/base",
      "_view_module_version": "1.2.0",
      "_view_name": "LayoutView",
      "align_content": null,
      "align_items": null,
      "align_self": null,
      "border": null,
      "bottom": null,
      "display": null,
      "flex": null,
      "flex_flow": null,
      "grid_area": null,
      "grid_auto_columns": null,
      "grid_auto_flow": null,
      "grid_auto_rows": null,
      "grid_column": null,
      "grid_gap": null,
      "grid_row": null,
      "grid_template_areas": null,
      "grid_template_columns": null,
      "grid_template_rows": null,
      "height": null,
      "justify_content": null,
      "justify_items": null,
      "left": null,
      "margin": null,
      "max_height": null,
      "max_width": null,
      "min_height": null,
      "min_width": null,
      "object_fit": null,
      "object_position": null,
      "order": null,
      "overflow": null,
      "overflow_x": null,
      "overflow_y": null,
      "padding": null,
      "right": null,
      "top": null,
      "visibility": null,
      "width": null
     }
    },
    "a94d5f1301ba4939b8647715c4e8189b": {
     "model_module": "@jupyter-widgets/base",
     "model_module_version": "1.2.0",
     "model_name": "LayoutModel",
     "state": {
      "_model_module": "@jupyter-widgets/base",
      "_model_module_version": "1.2.0",
      "_model_name": "LayoutModel",
      "_view_count": null,
      "_view_module": "@jupyter-widgets/base",
      "_view_module_version": "1.2.0",
      "_view_name": "LayoutView",
      "align_content": null,
      "align_items": null,
      "align_self": null,
      "border": null,
      "bottom": null,
      "display": null,
      "flex": null,
      "flex_flow": null,
      "grid_area": null,
      "grid_auto_columns": null,
      "grid_auto_flow": null,
      "grid_auto_rows": null,
      "grid_column": null,
      "grid_gap": null,
      "grid_row": null,
      "grid_template_areas": null,
      "grid_template_columns": null,
      "grid_template_rows": null,
      "height": null,
      "justify_content": null,
      "justify_items": null,
      "left": null,
      "margin": null,
      "max_height": null,
      "max_width": null,
      "min_height": null,
      "min_width": null,
      "object_fit": null,
      "object_position": null,
      "order": null,
      "overflow": null,
      "overflow_x": null,
      "overflow_y": null,
      "padding": null,
      "right": null,
      "top": null,
      "visibility": null,
      "width": null
     }
    },
    "acde9d2a3904445a84f6d8b863331962": {
     "model_module": "@jupyter-widgets/base",
     "model_module_version": "1.2.0",
     "model_name": "LayoutModel",
     "state": {
      "_model_module": "@jupyter-widgets/base",
      "_model_module_version": "1.2.0",
      "_model_name": "LayoutModel",
      "_view_count": null,
      "_view_module": "@jupyter-widgets/base",
      "_view_module_version": "1.2.0",
      "_view_name": "LayoutView",
      "align_content": null,
      "align_items": null,
      "align_self": null,
      "border": null,
      "bottom": null,
      "display": null,
      "flex": null,
      "flex_flow": null,
      "grid_area": null,
      "grid_auto_columns": null,
      "grid_auto_flow": null,
      "grid_auto_rows": null,
      "grid_column": null,
      "grid_gap": null,
      "grid_row": null,
      "grid_template_areas": null,
      "grid_template_columns": null,
      "grid_template_rows": null,
      "height": null,
      "justify_content": null,
      "justify_items": null,
      "left": null,
      "margin": null,
      "max_height": null,
      "max_width": null,
      "min_height": null,
      "min_width": null,
      "object_fit": null,
      "object_position": null,
      "order": null,
      "overflow": null,
      "overflow_x": null,
      "overflow_y": null,
      "padding": null,
      "right": null,
      "top": null,
      "visibility": null,
      "width": null
     }
    },
    "ad3567aa64fb4a8bb4a2c668dec94a0e": {
     "model_module": "@jupyter-widgets/base",
     "model_module_version": "1.2.0",
     "model_name": "LayoutModel",
     "state": {
      "_model_module": "@jupyter-widgets/base",
      "_model_module_version": "1.2.0",
      "_model_name": "LayoutModel",
      "_view_count": null,
      "_view_module": "@jupyter-widgets/base",
      "_view_module_version": "1.2.0",
      "_view_name": "LayoutView",
      "align_content": null,
      "align_items": null,
      "align_self": null,
      "border": null,
      "bottom": null,
      "display": null,
      "flex": null,
      "flex_flow": null,
      "grid_area": null,
      "grid_auto_columns": null,
      "grid_auto_flow": null,
      "grid_auto_rows": null,
      "grid_column": null,
      "grid_gap": null,
      "grid_row": null,
      "grid_template_areas": null,
      "grid_template_columns": null,
      "grid_template_rows": null,
      "height": null,
      "justify_content": null,
      "justify_items": null,
      "left": null,
      "margin": null,
      "max_height": null,
      "max_width": null,
      "min_height": null,
      "min_width": null,
      "object_fit": null,
      "object_position": null,
      "order": null,
      "overflow": null,
      "overflow_x": null,
      "overflow_y": null,
      "padding": null,
      "right": null,
      "top": null,
      "visibility": "hidden",
      "width": null
     }
    },
    "b9719bdaeadc4d60ace6d64ab1f02c67": {
     "model_module": "@jupyter-widgets/controls",
     "model_module_version": "1.5.0",
     "model_name": "HTMLModel",
     "state": {
      "_dom_classes": [],
      "_model_module": "@jupyter-widgets/controls",
      "_model_module_version": "1.5.0",
      "_model_name": "HTMLModel",
      "_view_count": null,
      "_view_module": "@jupyter-widgets/controls",
      "_view_module_version": "1.5.0",
      "_view_name": "HTMLView",
      "description": "",
      "description_tooltip": null,
      "layout": "IPY_MODEL_4f6a20b1280a448199973b705af56435",
      "placeholder": "​",
      "style": "IPY_MODEL_8c618ec3e19b457281ae7f420a8d9b43",
      "value": " 7910/25000 [00:00&lt;00:00, 78909.87 examples/s]"
     }
    },
    "ba2300d36a9d4d88b961b4f3f992b1ec": {
     "model_module": "@jupyter-widgets/base",
     "model_module_version": "1.2.0",
     "model_name": "LayoutModel",
     "state": {
      "_model_module": "@jupyter-widgets/base",
      "_model_module_version": "1.2.0",
      "_model_name": "LayoutModel",
      "_view_count": null,
      "_view_module": "@jupyter-widgets/base",
      "_view_module_version": "1.2.0",
      "_view_name": "LayoutView",
      "align_content": null,
      "align_items": null,
      "align_self": null,
      "border": null,
      "bottom": null,
      "display": null,
      "flex": null,
      "flex_flow": null,
      "grid_area": null,
      "grid_auto_columns": null,
      "grid_auto_flow": null,
      "grid_auto_rows": null,
      "grid_column": null,
      "grid_gap": null,
      "grid_row": null,
      "grid_template_areas": null,
      "grid_template_columns": null,
      "grid_template_rows": null,
      "height": null,
      "justify_content": null,
      "justify_items": null,
      "left": null,
      "margin": null,
      "max_height": null,
      "max_width": null,
      "min_height": null,
      "min_width": null,
      "object_fit": null,
      "object_position": null,
      "order": null,
      "overflow": null,
      "overflow_x": null,
      "overflow_y": null,
      "padding": null,
      "right": null,
      "top": null,
      "visibility": null,
      "width": null
     }
    },
    "bac090f353254027a2d248e18b200040": {
     "model_module": "@jupyter-widgets/base",
     "model_module_version": "1.2.0",
     "model_name": "LayoutModel",
     "state": {
      "_model_module": "@jupyter-widgets/base",
      "_model_module_version": "1.2.0",
      "_model_name": "LayoutModel",
      "_view_count": null,
      "_view_module": "@jupyter-widgets/base",
      "_view_module_version": "1.2.0",
      "_view_name": "LayoutView",
      "align_content": null,
      "align_items": null,
      "align_self": null,
      "border": null,
      "bottom": null,
      "display": null,
      "flex": null,
      "flex_flow": null,
      "grid_area": null,
      "grid_auto_columns": null,
      "grid_auto_flow": null,
      "grid_auto_rows": null,
      "grid_column": null,
      "grid_gap": null,
      "grid_row": null,
      "grid_template_areas": null,
      "grid_template_columns": null,
      "grid_template_rows": null,
      "height": null,
      "justify_content": null,
      "justify_items": null,
      "left": null,
      "margin": null,
      "max_height": null,
      "max_width": null,
      "min_height": null,
      "min_width": null,
      "object_fit": null,
      "object_position": null,
      "order": null,
      "overflow": null,
      "overflow_x": null,
      "overflow_y": null,
      "padding": null,
      "right": null,
      "top": null,
      "visibility": null,
      "width": null
     }
    },
    "bba753fa69914bb599d6c8c9bb66d30c": {
     "model_module": "@jupyter-widgets/controls",
     "model_module_version": "1.5.0",
     "model_name": "FloatProgressModel",
     "state": {
      "_dom_classes": [],
      "_model_module": "@jupyter-widgets/controls",
      "_model_module_version": "1.5.0",
      "_model_name": "FloatProgressModel",
      "_view_count": null,
      "_view_module": "@jupyter-widgets/controls",
      "_view_module_version": "1.5.0",
      "_view_name": "ProgressView",
      "bar_style": "",
      "description": "",
      "description_tooltip": null,
      "layout": "IPY_MODEL_6fd0d2f9bb554c9488116b0e942e3dc2",
      "max": 25000,
      "min": 0,
      "orientation": "horizontal",
      "style": "IPY_MODEL_8a54ff0605b24c9dad34cec352664dcb",
      "value": 25000
     }
    },
    "bc58c0bb341f4b9a995b381da82ebed9": {
     "model_module": "@jupyter-widgets/base",
     "model_module_version": "1.2.0",
     "model_name": "LayoutModel",
     "state": {
      "_model_module": "@jupyter-widgets/base",
      "_model_module_version": "1.2.0",
      "_model_name": "LayoutModel",
      "_view_count": null,
      "_view_module": "@jupyter-widgets/base",
      "_view_module_version": "1.2.0",
      "_view_name": "LayoutView",
      "align_content": null,
      "align_items": null,
      "align_self": null,
      "border": null,
      "bottom": null,
      "display": null,
      "flex": null,
      "flex_flow": null,
      "grid_area": null,
      "grid_auto_columns": null,
      "grid_auto_flow": null,
      "grid_auto_rows": null,
      "grid_column": null,
      "grid_gap": null,
      "grid_row": null,
      "grid_template_areas": null,
      "grid_template_columns": null,
      "grid_template_rows": null,
      "height": null,
      "justify_content": null,
      "justify_items": null,
      "left": null,
      "margin": null,
      "max_height": null,
      "max_width": null,
      "min_height": null,
      "min_width": null,
      "object_fit": null,
      "object_position": null,
      "order": null,
      "overflow": null,
      "overflow_x": null,
      "overflow_y": null,
      "padding": null,
      "right": null,
      "top": null,
      "visibility": "hidden",
      "width": null
     }
    },
    "bd32eb6802554e7281c28d920d235784": {
     "model_module": "@jupyter-widgets/controls",
     "model_module_version": "1.5.0",
     "model_name": "HTMLModel",
     "state": {
      "_dom_classes": [],
      "_model_module": "@jupyter-widgets/controls",
      "_model_module_version": "1.5.0",
      "_model_name": "HTMLModel",
      "_view_count": null,
      "_view_module": "@jupyter-widgets/controls",
      "_view_module_version": "1.5.0",
      "_view_name": "HTMLView",
      "description": "",
      "description_tooltip": null,
      "layout": "IPY_MODEL_acde9d2a3904445a84f6d8b863331962",
      "placeholder": "​",
      "style": "IPY_MODEL_16267ba3654940ae8eeeb50012586599",
      "value": "Shuffling /root/tensorflow_datasets/imdb_reviews/plain_text/1.0.0.incomplete0QQDNM/imdb_reviews-train.tfrecord*...:  32%"
     }
    },
    "bd49120620104edd9ca1c26649fe732b": {
     "model_module": "@jupyter-widgets/base",
     "model_module_version": "1.2.0",
     "model_name": "LayoutModel",
     "state": {
      "_model_module": "@jupyter-widgets/base",
      "_model_module_version": "1.2.0",
      "_model_name": "LayoutModel",
      "_view_count": null,
      "_view_module": "@jupyter-widgets/base",
      "_view_module_version": "1.2.0",
      "_view_name": "LayoutView",
      "align_content": null,
      "align_items": null,
      "align_self": null,
      "border": null,
      "bottom": null,
      "display": null,
      "flex": null,
      "flex_flow": null,
      "grid_area": null,
      "grid_auto_columns": null,
      "grid_auto_flow": null,
      "grid_auto_rows": null,
      "grid_column": null,
      "grid_gap": null,
      "grid_row": null,
      "grid_template_areas": null,
      "grid_template_columns": null,
      "grid_template_rows": null,
      "height": null,
      "justify_content": null,
      "justify_items": null,
      "left": null,
      "margin": null,
      "max_height": null,
      "max_width": null,
      "min_height": null,
      "min_width": null,
      "object_fit": null,
      "object_position": null,
      "order": null,
      "overflow": null,
      "overflow_x": null,
      "overflow_y": null,
      "padding": null,
      "right": null,
      "top": null,
      "visibility": null,
      "width": null
     }
    },
    "bd5b415eed9e45b2bfdef89506d4952a": {
     "model_module": "@jupyter-widgets/controls",
     "model_module_version": "1.5.0",
     "model_name": "DescriptionStyleModel",
     "state": {
      "_model_module": "@jupyter-widgets/controls",
      "_model_module_version": "1.5.0",
      "_model_name": "DescriptionStyleModel",
      "_view_count": null,
      "_view_module": "@jupyter-widgets/base",
      "_view_module_version": "1.2.0",
      "_view_name": "StyleView",
      "description_width": ""
     }
    },
    "bf5cae6685994ff0bf04fa77cd96a494": {
     "model_module": "@jupyter-widgets/base",
     "model_module_version": "1.2.0",
     "model_name": "LayoutModel",
     "state": {
      "_model_module": "@jupyter-widgets/base",
      "_model_module_version": "1.2.0",
      "_model_name": "LayoutModel",
      "_view_count": null,
      "_view_module": "@jupyter-widgets/base",
      "_view_module_version": "1.2.0",
      "_view_name": "LayoutView",
      "align_content": null,
      "align_items": null,
      "align_self": null,
      "border": null,
      "bottom": null,
      "display": null,
      "flex": null,
      "flex_flow": null,
      "grid_area": null,
      "grid_auto_columns": null,
      "grid_auto_flow": null,
      "grid_auto_rows": null,
      "grid_column": null,
      "grid_gap": null,
      "grid_row": null,
      "grid_template_areas": null,
      "grid_template_columns": null,
      "grid_template_rows": null,
      "height": null,
      "justify_content": null,
      "justify_items": null,
      "left": null,
      "margin": null,
      "max_height": null,
      "max_width": null,
      "min_height": null,
      "min_width": null,
      "object_fit": null,
      "object_position": null,
      "order": null,
      "overflow": null,
      "overflow_x": null,
      "overflow_y": null,
      "padding": null,
      "right": null,
      "top": null,
      "visibility": "hidden",
      "width": null
     }
    },
    "bf64a7a8e09343959f725325a9957880": {
     "model_module": "@jupyter-widgets/base",
     "model_module_version": "1.2.0",
     "model_name": "LayoutModel",
     "state": {
      "_model_module": "@jupyter-widgets/base",
      "_model_module_version": "1.2.0",
      "_model_name": "LayoutModel",
      "_view_count": null,
      "_view_module": "@jupyter-widgets/base",
      "_view_module_version": "1.2.0",
      "_view_name": "LayoutView",
      "align_content": null,
      "align_items": null,
      "align_self": null,
      "border": null,
      "bottom": null,
      "display": null,
      "flex": null,
      "flex_flow": null,
      "grid_area": null,
      "grid_auto_columns": null,
      "grid_auto_flow": null,
      "grid_auto_rows": null,
      "grid_column": null,
      "grid_gap": null,
      "grid_row": null,
      "grid_template_areas": null,
      "grid_template_columns": null,
      "grid_template_rows": null,
      "height": null,
      "justify_content": null,
      "justify_items": null,
      "left": null,
      "margin": null,
      "max_height": null,
      "max_width": null,
      "min_height": null,
      "min_width": null,
      "object_fit": null,
      "object_position": null,
      "order": null,
      "overflow": null,
      "overflow_x": null,
      "overflow_y": null,
      "padding": null,
      "right": null,
      "top": null,
      "visibility": null,
      "width": null
     }
    },
    "bfbc927e9a504c8aac68fe53457738f1": {
     "model_module": "@jupyter-widgets/controls",
     "model_module_version": "1.5.0",
     "model_name": "HTMLModel",
     "state": {
      "_dom_classes": [],
      "_model_module": "@jupyter-widgets/controls",
      "_model_module_version": "1.5.0",
      "_model_name": "HTMLModel",
      "_view_count": null,
      "_view_module": "@jupyter-widgets/controls",
      "_view_module_version": "1.5.0",
      "_view_name": "HTMLView",
      "description": "",
      "description_tooltip": null,
      "layout": "IPY_MODEL_c5b0e973c0dd46f6bb0f7e53b566a102",
      "placeholder": "​",
      "style": "IPY_MODEL_59152d91e90344c99b1001a1cb8a53b2",
      "value": "Shuffling /root/tensorflow_datasets/imdb_reviews/plain_text/1.0.0.incomplete0QQDNM/imdb_reviews-test.tfrecord*...:  55%"
     }
    },
    "c029736cbff942d1b0aea2587c6dccd0": {
     "model_module": "@jupyter-widgets/controls",
     "model_module_version": "1.5.0",
     "model_name": "HTMLModel",
     "state": {
      "_dom_classes": [],
      "_model_module": "@jupyter-widgets/controls",
      "_model_module_version": "1.5.0",
      "_model_name": "HTMLModel",
      "_view_count": null,
      "_view_module": "@jupyter-widgets/controls",
      "_view_module_version": "1.5.0",
      "_view_name": "HTMLView",
      "description": "",
      "description_tooltip": null,
      "layout": "IPY_MODEL_7427eb63a3194351909e629b8facd91a",
      "placeholder": "​",
      "style": "IPY_MODEL_851fa41240634cbbb637b5aae483c452",
      "value": "Dl Completed...: 100%"
     }
    },
    "c2be01ccf2364f2cab6cc9dfe759ff5d": {
     "model_module": "@jupyter-widgets/controls",
     "model_module_version": "1.5.0",
     "model_name": "HTMLModel",
     "state": {
      "_dom_classes": [],
      "_model_module": "@jupyter-widgets/controls",
      "_model_module_version": "1.5.0",
      "_model_name": "HTMLModel",
      "_view_count": null,
      "_view_module": "@jupyter-widgets/controls",
      "_view_module_version": "1.5.0",
      "_view_name": "HTMLView",
      "description": "",
      "description_tooltip": null,
      "layout": "IPY_MODEL_45bbc2ccbb17434c81e5fe5f8dc0ae3b",
      "placeholder": "​",
      "style": "IPY_MODEL_97b7a208e6ba4dd2811987d8330be33e",
      "value": "Shuffling /root/tensorflow_datasets/imdb_reviews/plain_text/1.0.0.incomplete0QQDNM/imdb_reviews-unsupervised.tfrecord*...:  71%"
     }
    },
    "c4f4c4c7326a43e4b32d15f9784723c9": {
     "model_module": "@jupyter-widgets/controls",
     "model_module_version": "1.5.0",
     "model_name": "HTMLModel",
     "state": {
      "_dom_classes": [],
      "_model_module": "@jupyter-widgets/controls",
      "_model_module_version": "1.5.0",
      "_model_name": "HTMLModel",
      "_view_count": null,
      "_view_module": "@jupyter-widgets/controls",
      "_view_module_version": "1.5.0",
      "_view_name": "HTMLView",
      "description": "",
      "description_tooltip": null,
      "layout": "IPY_MODEL_3bef739e0fae4935a4912918b89759db",
      "placeholder": "​",
      "style": "IPY_MODEL_8b8958abdd1b4b18a9129e4a23889914",
      "value": " 20488/25000 [00:04&lt;00:00, 5471.98 examples/s]"
     }
    },
    "c5b0e973c0dd46f6bb0f7e53b566a102": {
     "model_module": "@jupyter-widgets/base",
     "model_module_version": "1.2.0",
     "model_name": "LayoutModel",
     "state": {
      "_model_module": "@jupyter-widgets/base",
      "_model_module_version": "1.2.0",
      "_model_name": "LayoutModel",
      "_view_count": null,
      "_view_module": "@jupyter-widgets/base",
      "_view_module_version": "1.2.0",
      "_view_name": "LayoutView",
      "align_content": null,
      "align_items": null,
      "align_self": null,
      "border": null,
      "bottom": null,
      "display": null,
      "flex": null,
      "flex_flow": null,
      "grid_area": null,
      "grid_auto_columns": null,
      "grid_auto_flow": null,
      "grid_auto_rows": null,
      "grid_column": null,
      "grid_gap": null,
      "grid_row": null,
      "grid_template_areas": null,
      "grid_template_columns": null,
      "grid_template_rows": null,
      "height": null,
      "justify_content": null,
      "justify_items": null,
      "left": null,
      "margin": null,
      "max_height": null,
      "max_width": null,
      "min_height": null,
      "min_width": null,
      "object_fit": null,
      "object_position": null,
      "order": null,
      "overflow": null,
      "overflow_x": null,
      "overflow_y": null,
      "padding": null,
      "right": null,
      "top": null,
      "visibility": null,
      "width": null
     }
    },
    "c79b2e7dee1742359854d9be69f91aa4": {
     "model_module": "@jupyter-widgets/controls",
     "model_module_version": "1.5.0",
     "model_name": "HBoxModel",
     "state": {
      "_dom_classes": [],
      "_model_module": "@jupyter-widgets/controls",
      "_model_module_version": "1.5.0",
      "_model_name": "HBoxModel",
      "_view_count": null,
      "_view_module": "@jupyter-widgets/controls",
      "_view_module_version": "1.5.0",
      "_view_name": "HBoxView",
      "box_style": "",
      "children": [
       "IPY_MODEL_c2be01ccf2364f2cab6cc9dfe759ff5d",
       "IPY_MODEL_3750dcbf50a3443aabdc5dfa867d9330",
       "IPY_MODEL_40d853da9c594f40ae5dff0fa976b977"
      ],
      "layout": "IPY_MODEL_bc58c0bb341f4b9a995b381da82ebed9"
     }
    },
    "ca1b7f8bdf61474d860dd3281d09a75c": {
     "model_module": "@jupyter-widgets/controls",
     "model_module_version": "1.5.0",
     "model_name": "DescriptionStyleModel",
     "state": {
      "_model_module": "@jupyter-widgets/controls",
      "_model_module_version": "1.5.0",
      "_model_name": "DescriptionStyleModel",
      "_view_count": null,
      "_view_module": "@jupyter-widgets/base",
      "_view_module_version": "1.2.0",
      "_view_name": "StyleView",
      "description_width": ""
     }
    },
    "cbb9a91e7dc5485c8db503281e2b3779": {
     "model_module": "@jupyter-widgets/controls",
     "model_module_version": "1.5.0",
     "model_name": "ProgressStyleModel",
     "state": {
      "_model_module": "@jupyter-widgets/controls",
      "_model_module_version": "1.5.0",
      "_model_name": "ProgressStyleModel",
      "_view_count": null,
      "_view_module": "@jupyter-widgets/base",
      "_view_module_version": "1.2.0",
      "_view_name": "StyleView",
      "bar_color": null,
      "description_width": ""
     }
    },
    "d2f9ce3e1aa84672875312da8bdc53bd": {
     "model_module": "@jupyter-widgets/controls",
     "model_module_version": "1.5.0",
     "model_name": "FloatProgressModel",
     "state": {
      "_dom_classes": [],
      "_model_module": "@jupyter-widgets/controls",
      "_model_module_version": "1.5.0",
      "_model_name": "FloatProgressModel",
      "_view_count": null,
      "_view_module": "@jupyter-widgets/controls",
      "_view_module_version": "1.5.0",
      "_view_name": "ProgressView",
      "bar_style": "",
      "description": "",
      "description_tooltip": null,
      "layout": "IPY_MODEL_bf64a7a8e09343959f725325a9957880",
      "max": 25000,
      "min": 0,
      "orientation": "horizontal",
      "style": "IPY_MODEL_2f1ab18c772e41198dc17da1db02243d",
      "value": 25000
     }
    },
    "d667961eba8a4ab493cf36d890a98fc3": {
     "model_module": "@jupyter-widgets/controls",
     "model_module_version": "1.5.0",
     "model_name": "ProgressStyleModel",
     "state": {
      "_model_module": "@jupyter-widgets/controls",
      "_model_module_version": "1.5.0",
      "_model_name": "ProgressStyleModel",
      "_view_count": null,
      "_view_module": "@jupyter-widgets/base",
      "_view_module_version": "1.2.0",
      "_view_name": "StyleView",
      "bar_color": null,
      "description_width": ""
     }
    },
    "d801270b9907491ba86a2739809b9878": {
     "model_module": "@jupyter-widgets/controls",
     "model_module_version": "1.5.0",
     "model_name": "HTMLModel",
     "state": {
      "_dom_classes": [],
      "_model_module": "@jupyter-widgets/controls",
      "_model_module_version": "1.5.0",
      "_model_name": "HTMLModel",
      "_view_count": null,
      "_view_module": "@jupyter-widgets/controls",
      "_view_module_version": "1.5.0",
      "_view_name": "HTMLView",
      "description": "",
      "description_tooltip": null,
      "layout": "IPY_MODEL_bd49120620104edd9ca1c26649fe732b",
      "placeholder": "​",
      "style": "IPY_MODEL_ca1b7f8bdf61474d860dd3281d09a75c",
      "value": "Generating unsupervised examples...:  92%"
     }
    },
    "d839a2581d7b4b26952e85ef81d10a18": {
     "model_module": "@jupyter-widgets/base",
     "model_module_version": "1.2.0",
     "model_name": "LayoutModel",
     "state": {
      "_model_module": "@jupyter-widgets/base",
      "_model_module_version": "1.2.0",
      "_model_name": "LayoutModel",
      "_view_count": null,
      "_view_module": "@jupyter-widgets/base",
      "_view_module_version": "1.2.0",
      "_view_name": "LayoutView",
      "align_content": null,
      "align_items": null,
      "align_self": null,
      "border": null,
      "bottom": null,
      "display": null,
      "flex": null,
      "flex_flow": null,
      "grid_area": null,
      "grid_auto_columns": null,
      "grid_auto_flow": null,
      "grid_auto_rows": null,
      "grid_column": null,
      "grid_gap": null,
      "grid_row": null,
      "grid_template_areas": null,
      "grid_template_columns": null,
      "grid_template_rows": null,
      "height": null,
      "justify_content": null,
      "justify_items": null,
      "left": null,
      "margin": null,
      "max_height": null,
      "max_width": null,
      "min_height": null,
      "min_width": null,
      "object_fit": null,
      "object_position": null,
      "order": null,
      "overflow": null,
      "overflow_x": null,
      "overflow_y": null,
      "padding": null,
      "right": null,
      "top": null,
      "visibility": "hidden",
      "width": null
     }
    },
    "db246cc373d04f56ab36d8665ba2c7dd": {
     "model_module": "@jupyter-widgets/controls",
     "model_module_version": "1.5.0",
     "model_name": "HTMLModel",
     "state": {
      "_dom_classes": [],
      "_model_module": "@jupyter-widgets/controls",
      "_model_module_version": "1.5.0",
      "_model_name": "HTMLModel",
      "_view_count": null,
      "_view_module": "@jupyter-widgets/controls",
      "_view_module_version": "1.5.0",
      "_view_name": "HTMLView",
      "description": "",
      "description_tooltip": null,
      "layout": "IPY_MODEL_bac090f353254027a2d248e18b200040",
      "placeholder": "​",
      "style": "IPY_MODEL_bd5b415eed9e45b2bfdef89506d4952a",
      "value": " 1/1 [00:13&lt;00:00, 13.53s/ url]"
     }
    },
    "db8c65507c6b4f04949e33ab0957b0ed": {
     "model_module": "@jupyter-widgets/base",
     "model_module_version": "1.2.0",
     "model_name": "LayoutModel",
     "state": {
      "_model_module": "@jupyter-widgets/base",
      "_model_module_version": "1.2.0",
      "_model_name": "LayoutModel",
      "_view_count": null,
      "_view_module": "@jupyter-widgets/base",
      "_view_module_version": "1.2.0",
      "_view_name": "LayoutView",
      "align_content": null,
      "align_items": null,
      "align_self": null,
      "border": null,
      "bottom": null,
      "display": null,
      "flex": null,
      "flex_flow": null,
      "grid_area": null,
      "grid_auto_columns": null,
      "grid_auto_flow": null,
      "grid_auto_rows": null,
      "grid_column": null,
      "grid_gap": null,
      "grid_row": null,
      "grid_template_areas": null,
      "grid_template_columns": null,
      "grid_template_rows": null,
      "height": null,
      "justify_content": null,
      "justify_items": null,
      "left": null,
      "margin": null,
      "max_height": null,
      "max_width": null,
      "min_height": null,
      "min_width": null,
      "object_fit": null,
      "object_position": null,
      "order": null,
      "overflow": null,
      "overflow_x": null,
      "overflow_y": null,
      "padding": null,
      "right": null,
      "top": null,
      "visibility": null,
      "width": null
     }
    },
    "e8e68573c80e445db30aad7017e096e1": {
     "model_module": "@jupyter-widgets/base",
     "model_module_version": "1.2.0",
     "model_name": "LayoutModel",
     "state": {
      "_model_module": "@jupyter-widgets/base",
      "_model_module_version": "1.2.0",
      "_model_name": "LayoutModel",
      "_view_count": null,
      "_view_module": "@jupyter-widgets/base",
      "_view_module_version": "1.2.0",
      "_view_name": "LayoutView",
      "align_content": null,
      "align_items": null,
      "align_self": null,
      "border": null,
      "bottom": null,
      "display": null,
      "flex": null,
      "flex_flow": null,
      "grid_area": null,
      "grid_auto_columns": null,
      "grid_auto_flow": null,
      "grid_auto_rows": null,
      "grid_column": null,
      "grid_gap": null,
      "grid_row": null,
      "grid_template_areas": null,
      "grid_template_columns": null,
      "grid_template_rows": null,
      "height": null,
      "justify_content": null,
      "justify_items": null,
      "left": null,
      "margin": null,
      "max_height": null,
      "max_width": null,
      "min_height": null,
      "min_width": null,
      "object_fit": null,
      "object_position": null,
      "order": null,
      "overflow": null,
      "overflow_x": null,
      "overflow_y": null,
      "padding": null,
      "right": null,
      "top": null,
      "visibility": null,
      "width": null
     }
    },
    "f1a742553eeb4a7ea4eac8b5be86fcc3": {
     "model_module": "@jupyter-widgets/controls",
     "model_module_version": "1.5.0",
     "model_name": "ProgressStyleModel",
     "state": {
      "_model_module": "@jupyter-widgets/controls",
      "_model_module_version": "1.5.0",
      "_model_name": "ProgressStyleModel",
      "_view_count": null,
      "_view_module": "@jupyter-widgets/base",
      "_view_module_version": "1.2.0",
      "_view_name": "StyleView",
      "bar_color": null,
      "description_width": ""
     }
    },
    "f3cde77392ee45d89ccf8c2ea85bd8e1": {
     "model_module": "@jupyter-widgets/controls",
     "model_module_version": "1.5.0",
     "model_name": "HBoxModel",
     "state": {
      "_dom_classes": [],
      "_model_module": "@jupyter-widgets/controls",
      "_model_module_version": "1.5.0",
      "_model_name": "HBoxModel",
      "_view_count": null,
      "_view_module": "@jupyter-widgets/controls",
      "_view_module_version": "1.5.0",
      "_view_name": "HBoxView",
      "box_style": "",
      "children": [
       "IPY_MODEL_7169fe5bca8643d9a23ff47070d37450",
       "IPY_MODEL_bba753fa69914bb599d6c8c9bb66d30c",
       "IPY_MODEL_c4f4c4c7326a43e4b32d15f9784723c9"
      ],
      "layout": "IPY_MODEL_5ad54bf53fb54c1ca1a9cb7a30af5d6f"
     }
    },
    "f8488f01b00245efbf996451f0657827": {
     "model_module": "@jupyter-widgets/controls",
     "model_module_version": "1.5.0",
     "model_name": "DescriptionStyleModel",
     "state": {
      "_model_module": "@jupyter-widgets/controls",
      "_model_module_version": "1.5.0",
      "_model_name": "DescriptionStyleModel",
      "_view_count": null,
      "_view_module": "@jupyter-widgets/base",
      "_view_module_version": "1.2.0",
      "_view_name": "StyleView",
      "description_width": ""
     }
    },
    "f932950de55c433a907a5dc0c39af2a9": {
     "model_module": "@jupyter-widgets/controls",
     "model_module_version": "1.5.0",
     "model_name": "HTMLModel",
     "state": {
      "_dom_classes": [],
      "_model_module": "@jupyter-widgets/controls",
      "_model_module_version": "1.5.0",
      "_model_name": "HTMLModel",
      "_view_count": null,
      "_view_module": "@jupyter-widgets/controls",
      "_view_module_version": "1.5.0",
      "_view_name": "HTMLView",
      "description": "",
      "description_tooltip": null,
      "layout": "IPY_MODEL_202f7585642c44e7a31ae9d8d53f8a6c",
      "placeholder": "​",
      "style": "IPY_MODEL_9b1f9e4f5d8b43608b4313d0c33deade",
      "value": "Generating train examples...:  91%"
     }
    },
    "f9f55866c2054d61b8939c5703bfa40f": {
     "model_module": "@jupyter-widgets/controls",
     "model_module_version": "1.5.0",
     "model_name": "FloatProgressModel",
     "state": {
      "_dom_classes": [],
      "_model_module": "@jupyter-widgets/controls",
      "_model_module_version": "1.5.0",
      "_model_name": "FloatProgressModel",
      "_view_count": null,
      "_view_module": "@jupyter-widgets/controls",
      "_view_module_version": "1.5.0",
      "_view_name": "ProgressView",
      "bar_style": "",
      "description": "",
      "description_tooltip": null,
      "layout": "IPY_MODEL_452b7401cb844142b9ae86dde4f58a27",
      "max": 25000,
      "min": 0,
      "orientation": "horizontal",
      "style": "IPY_MODEL_f1a742553eeb4a7ea4eac8b5be86fcc3",
      "value": 25000
     }
    },
    "ff22dafa3a174631b5967c9196c1cf3e": {
     "model_module": "@jupyter-widgets/controls",
     "model_module_version": "1.5.0",
     "model_name": "HTMLModel",
     "state": {
      "_dom_classes": [],
      "_model_module": "@jupyter-widgets/controls",
      "_model_module_version": "1.5.0",
      "_model_name": "HTMLModel",
      "_view_count": null,
      "_view_module": "@jupyter-widgets/controls",
      "_view_module_version": "1.5.0",
      "_view_name": "HTMLView",
      "description": "",
      "description_tooltip": null,
      "layout": "IPY_MODEL_e8e68573c80e445db30aad7017e096e1",
      "placeholder": "​",
      "style": "IPY_MODEL_f8488f01b00245efbf996451f0657827",
      "value": " 45790/50000 [00:13&lt;00:00, 5249.99 examples/s]"
     }
    }
   }
  }
 },
 "nbformat": 4,
 "nbformat_minor": 4
}
